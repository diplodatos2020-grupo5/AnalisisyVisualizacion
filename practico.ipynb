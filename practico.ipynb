{
 "cells": [
  {
   "cell_type": "markdown",
   "metadata": {
    "colab_type": "text",
    "id": "mKqgKTs3FZCI"
   },
   "source": [
    "<center>\n",
    "<h4>Universidad Nacional de Córdoba - Facultad de Matemática, Astronomía, Física y Computación</h4>\n",
    "<h3>Diplomatura en Ciencia de Datos, Aprendizaje Automático y sus Aplicaciones</h3>\n",
    "</center>"
   ]
  },
  {
   "cell_type": "markdown",
   "metadata": {
    "colab_type": "text",
    "id": "b956SHDlFZCJ"
   },
   "source": [
    "<h1> Práctico </h1>\n",
    "<h3> Análisis y Visualización de Datos - 2020 </h3>\n",
    "\n",
    "Durante este práctico vamos a trabajar sobre el dataset [Human Freedom Index 2018](https://www.cato.org/human-freedom-index-new) de el instituto Cato. Este índice mide en detalle lo que entendemos como libertad, utilizando 79 indicadores de libertad personal y económica en distintos aspectos, hasta obtener un hermoso numerito del 1 al 10.\n",
    "\n",
    "Las variables más importantes sobre las que trabaja el dataset son:\n",
    "\n",
    "* Rule of Law\n",
    "* Security and Safety\n",
    "* Movement\n",
    "* Religion\n",
    "* Association, Assembly, and Civil Society\n",
    "* Expression and Information\n",
    "* Identity and Relationships\n",
    "* Size of Government\n",
    "* Legal System and Property Rights\n",
    "* Access to Sound Money\n",
    "* Freedom to Trade Internationally\n",
    "* Regulation of Credit, Labor, and Business\n",
    "\n",
    "Nosotros centrarermos nuestro análisis en variables relacionadas a *Identity and Relationships* en paises de Latinoamérica, y los compararemos con las estadísticas globales. La pregunta a responder es simple: **¿Qué niveles de libertad se viven en Latinoamérica, especificamente en cuanto libertades de indentidad?**. Sin embargo, para hacer un análisis de los datos tenemos que platear también estas sub preguntas:\n",
    "\n",
    "1. ¿Qué significa tener un puntaje de 4.5? Hay que poner los puntajes de la región en contexto con los datos del resto del mundo.\n",
    "2. ¿Cuál es la tendencia a lo largo de los años? ¿Estamos mejorando, empeorando?\n",
    "3. En este estudio, la libertad se mide con un estimadores principal: *hf_score* que hace referencia a Human Freedom, que a su vez está calculado en base a dos otros estimadores *ef_score*, para Economic Freedom y *pf_score*, para Personal Freedom. Estos tres estimadores, ¿se relacionan de la misma manera con la libertad de identidad?\n",
    "\n",
    "Inicialmente, en toda exploración de datos tenemos muy poca información a priori sobre el significado de los datos y tenemos que empezar por comprenderlos. Les proponemos los siguientes ejercicios como guía para comenzar esta exploración."
   ]
  },
  {
   "cell_type": "code",
   "execution_count": 63,
   "metadata": {
    "colab": {
     "base_uri": "https://localhost:8080/",
     "height": 73
    },
    "colab_type": "code",
    "id": "xZoxu5phFZCK",
    "outputId": "316448bd-61a0-4fc4-e2d0-7abfce040abd"
   },
   "outputs": [],
   "source": [
    "import matplotlib.pyplot as plt\n",
    "import numpy\n",
    "import pandas\n",
    "import seaborn\n",
    "import scipy\n",
    "from scipy.stats import spearmanr\n",
    "from scipy.stats import chi2_contingency"
   ]
  },
  {
   "cell_type": "code",
   "execution_count": 60,
   "metadata": {
    "colab": {
     "base_uri": "https://localhost:8080/",
     "height": 35
    },
    "colab_type": "code",
    "id": "-N3A9N2LFZCP",
    "outputId": "cfada158-aea9-4ed2-cd1a-d24db74f14f4"
   },
   "outputs": [
    {
     "data": {
      "text/plain": [
       "'0.10.1'"
      ]
     },
     "execution_count": 60,
     "metadata": {},
     "output_type": "execute_result"
    }
   ],
   "source": [
    "seaborn.__version__"
   ]
  },
  {
   "cell_type": "code",
   "execution_count": 14,
   "metadata": {},
   "outputs": [],
   "source": [
    "BLUE = '#35A7FF'\n",
    "RED = '#FF5964'\n",
    "GREEN = '#6BF178'\n",
    "YELLOW = '#FFE74C'"
   ]
  },
  {
   "cell_type": "code",
   "execution_count": 15,
   "metadata": {},
   "outputs": [],
   "source": [
    "# Con esto hacemos los gráficos más grandes, adecuados para las presentaciones.\n",
    "seaborn.set_context(context='talk', font_scale=1.2)"
   ]
  },
  {
   "cell_type": "markdown",
   "metadata": {
    "colab_type": "text",
    "id": "Gg_MqLmTTi-h"
   },
   "source": [
    "Si un archivo está disponible en la web, podemos leerlo con pandas utilizando su URL sin necesidad de descargarlo."
   ]
  },
  {
   "cell_type": "code",
   "execution_count": 16,
   "metadata": {
    "colab": {
     "base_uri": "https://localhost:8080/",
     "height": 35
    },
    "colab_type": "code",
    "id": "-QOtVVUOFZCU",
    "outputId": "9ab2645c-ce83-4ffc-c61b-2477a50f068c"
   },
   "outputs": [
    {
     "data": {
      "text/plain": [
       "(1620, 120)"
      ]
     },
     "execution_count": 16,
     "metadata": {},
     "output_type": "execute_result"
    }
   ],
   "source": [
    "dataset_base = pandas.read_csv(\n",
    "    'https://object.cato.org/sites/cato.org/files/human-freedom-index-files/human-freedom-index-2019.csv')\n",
    "dataset_base.shape"
   ]
  },
  {
   "cell_type": "code",
   "execution_count": 17,
   "metadata": {
    "colab": {
     "base_uri": "https://localhost:8080/",
     "height": 160
    },
    "colab_type": "code",
    "id": "S_n8Fh3EFZCY",
    "outputId": "9335dbb1-b639-42e7-8183-a3974b1e9fc6"
   },
   "outputs": [
    {
     "data": {
      "text/plain": [
       "Index(['year', 'ISO_code', 'countries', 'region', 'hf_score', 'hf_rank',\n",
       "       'hf_quartile', 'pf_rol_procedural', 'pf_rol_civil', 'pf_rol_criminal',\n",
       "       ...\n",
       "       'ef_regulation_business_adm', 'ef_regulation_business_bureaucracy',\n",
       "       'ef_regulation_business_start', 'ef_regulation_business_bribes',\n",
       "       'ef_regulation_business_licensing', 'ef_regulation_business_compliance',\n",
       "       'ef_regulation_business', 'ef_regulation', 'ef_score', 'ef_rank'],\n",
       "      dtype='object', length=120)"
      ]
     },
     "execution_count": 17,
     "metadata": {},
     "output_type": "execute_result"
    }
   ],
   "source": [
    "dataset_base.columns  # Way too many columns!"
   ]
  },
  {
   "cell_type": "markdown",
   "metadata": {
    "colab_type": "text",
    "id": "05keUcCbFZCc"
   },
   "source": [
    "Por suerte las columnas tienen un prefijo que nos ayuda a identificar a qué sección pertenecen. Nos quedamos sólo con las que comienzan con *pf_indentity*, junto con otras columnas más generales"
   ]
  },
  {
   "cell_type": "code",
   "execution_count": 18,
   "metadata": {
    "colab": {},
    "colab_type": "code",
    "id": "EQCW-sJSFZCd"
   },
   "outputs": [],
   "source": [
    "score_cols = [col for col in dataset_base.columns if 'pf_identity' in col] + [\n",
    "    'pf_score', # Personal Freedom (score)\n",
    "    'pf_rank', # Personal Freedom (rank)\n",
    "    'ef_score', # Economic Freedom (score)\n",
    "    'ef_rank', # Economic Freedom (rank)\n",
    "    'hf_score', # Human Freedom (score)\n",
    "    'hf_rank', # Human Freedom (rank)\n",
    "]\n",
    "\n",
    "important_cols = ['year', 'ISO_code', 'countries', 'region'] + score_cols"
   ]
  },
  {
   "cell_type": "code",
   "execution_count": 19,
   "metadata": {
    "colab": {
     "base_uri": "https://localhost:8080/",
     "height": 677
    },
    "colab_type": "code",
    "id": "ZXYn1yL5FZCh",
    "outputId": "9ff73231-1c11-407d-f47e-1fea3215e48b"
   },
   "outputs": [
    {
     "data": {
      "text/html": [
       "<div>\n",
       "<style scoped>\n",
       "    .dataframe tbody tr th:only-of-type {\n",
       "        vertical-align: middle;\n",
       "    }\n",
       "\n",
       "    .dataframe tbody tr th {\n",
       "        vertical-align: top;\n",
       "    }\n",
       "\n",
       "    .dataframe thead th {\n",
       "        text-align: right;\n",
       "    }\n",
       "</style>\n",
       "<table border=\"1\" class=\"dataframe\">\n",
       "  <thead>\n",
       "    <tr style=\"text-align: right;\">\n",
       "      <th></th>\n",
       "      <th>year</th>\n",
       "      <th>ISO_code</th>\n",
       "      <th>countries</th>\n",
       "      <th>region</th>\n",
       "      <th>pf_identity_legal</th>\n",
       "      <th>pf_identity_sex_male</th>\n",
       "      <th>pf_identity_sex_female</th>\n",
       "      <th>pf_identity_sex</th>\n",
       "      <th>pf_identity_divorce</th>\n",
       "      <th>pf_identity</th>\n",
       "      <th>pf_score</th>\n",
       "      <th>pf_rank</th>\n",
       "      <th>ef_score</th>\n",
       "      <th>ef_rank</th>\n",
       "      <th>hf_score</th>\n",
       "      <th>hf_rank</th>\n",
       "    </tr>\n",
       "  </thead>\n",
       "  <tbody>\n",
       "    <tr>\n",
       "      <th>0</th>\n",
       "      <td>2017</td>\n",
       "      <td>ALB</td>\n",
       "      <td>Albania</td>\n",
       "      <td>Eastern Europe</td>\n",
       "      <td>0</td>\n",
       "      <td>10</td>\n",
       "      <td>10</td>\n",
       "      <td>10</td>\n",
       "      <td>7.5</td>\n",
       "      <td>5.8</td>\n",
       "      <td>8.01</td>\n",
       "      <td>46</td>\n",
       "      <td>7.67</td>\n",
       "      <td>30</td>\n",
       "      <td>7.84</td>\n",
       "      <td>38</td>\n",
       "    </tr>\n",
       "    <tr>\n",
       "      <th>1</th>\n",
       "      <td>2017</td>\n",
       "      <td>DZA</td>\n",
       "      <td>Algeria</td>\n",
       "      <td>Middle East &amp; North Africa</td>\n",
       "      <td>-</td>\n",
       "      <td>0</td>\n",
       "      <td>0</td>\n",
       "      <td>0</td>\n",
       "      <td>0</td>\n",
       "      <td>0</td>\n",
       "      <td>5.2</td>\n",
       "      <td>146</td>\n",
       "      <td>4.77</td>\n",
       "      <td>159</td>\n",
       "      <td>4.99</td>\n",
       "      <td>155</td>\n",
       "    </tr>\n",
       "    <tr>\n",
       "      <th>2</th>\n",
       "      <td>2017</td>\n",
       "      <td>AGO</td>\n",
       "      <td>Angola</td>\n",
       "      <td>Sub-Saharan Africa</td>\n",
       "      <td>10</td>\n",
       "      <td>0</td>\n",
       "      <td>0</td>\n",
       "      <td>0</td>\n",
       "      <td>5</td>\n",
       "      <td>5</td>\n",
       "      <td>5.98</td>\n",
       "      <td>121</td>\n",
       "      <td>4.83</td>\n",
       "      <td>158</td>\n",
       "      <td>5.4</td>\n",
       "      <td>151</td>\n",
       "    </tr>\n",
       "    <tr>\n",
       "      <th>3</th>\n",
       "      <td>2017</td>\n",
       "      <td>ARG</td>\n",
       "      <td>Argentina</td>\n",
       "      <td>Latin America &amp; the Caribbean</td>\n",
       "      <td>10</td>\n",
       "      <td>10</td>\n",
       "      <td>10</td>\n",
       "      <td>10</td>\n",
       "      <td>10</td>\n",
       "      <td>10</td>\n",
       "      <td>8.04</td>\n",
       "      <td>41</td>\n",
       "      <td>5.67</td>\n",
       "      <td>147</td>\n",
       "      <td>6.86</td>\n",
       "      <td>77</td>\n",
       "    </tr>\n",
       "    <tr>\n",
       "      <th>4</th>\n",
       "      <td>2017</td>\n",
       "      <td>ARM</td>\n",
       "      <td>Armenia</td>\n",
       "      <td>Caucasus &amp; Central Asia</td>\n",
       "      <td>7</td>\n",
       "      <td>10</td>\n",
       "      <td>10</td>\n",
       "      <td>10</td>\n",
       "      <td>7.5</td>\n",
       "      <td>8.2</td>\n",
       "      <td>7.15</td>\n",
       "      <td>72</td>\n",
       "      <td>7.7</td>\n",
       "      <td>27</td>\n",
       "      <td>7.42</td>\n",
       "      <td>54</td>\n",
       "    </tr>\n",
       "    <tr>\n",
       "      <th>...</th>\n",
       "      <td>...</td>\n",
       "      <td>...</td>\n",
       "      <td>...</td>\n",
       "      <td>...</td>\n",
       "      <td>...</td>\n",
       "      <td>...</td>\n",
       "      <td>...</td>\n",
       "      <td>...</td>\n",
       "      <td>...</td>\n",
       "      <td>...</td>\n",
       "      <td>...</td>\n",
       "      <td>...</td>\n",
       "      <td>...</td>\n",
       "      <td>...</td>\n",
       "      <td>...</td>\n",
       "      <td>...</td>\n",
       "    </tr>\n",
       "    <tr>\n",
       "      <th>1615</th>\n",
       "      <td>2008</td>\n",
       "      <td>AUS</td>\n",
       "      <td>Australia</td>\n",
       "      <td>Oceania</td>\n",
       "      <td>-</td>\n",
       "      <td>10</td>\n",
       "      <td>10</td>\n",
       "      <td>10</td>\n",
       "      <td>10</td>\n",
       "      <td>10</td>\n",
       "      <td>9.29</td>\n",
       "      <td>7</td>\n",
       "      <td>8.18</td>\n",
       "      <td>6</td>\n",
       "      <td>8.73</td>\n",
       "      <td>4</td>\n",
       "    </tr>\n",
       "    <tr>\n",
       "      <th>1616</th>\n",
       "      <td>2008</td>\n",
       "      <td>DNK</td>\n",
       "      <td>Denmark</td>\n",
       "      <td>Western Europe</td>\n",
       "      <td>-</td>\n",
       "      <td>10</td>\n",
       "      <td>10</td>\n",
       "      <td>10</td>\n",
       "      <td>10</td>\n",
       "      <td>10</td>\n",
       "      <td>9.49</td>\n",
       "      <td>3</td>\n",
       "      <td>7.98</td>\n",
       "      <td>9</td>\n",
       "      <td>8.73</td>\n",
       "      <td>4</td>\n",
       "    </tr>\n",
       "    <tr>\n",
       "      <th>1617</th>\n",
       "      <td>2008</td>\n",
       "      <td>CHE</td>\n",
       "      <td>Switzerland</td>\n",
       "      <td>Western Europe</td>\n",
       "      <td>-</td>\n",
       "      <td>10</td>\n",
       "      <td>10</td>\n",
       "      <td>10</td>\n",
       "      <td>10</td>\n",
       "      <td>10</td>\n",
       "      <td>9.31</td>\n",
       "      <td>6</td>\n",
       "      <td>8.35</td>\n",
       "      <td>4</td>\n",
       "      <td>8.83</td>\n",
       "      <td>3</td>\n",
       "    </tr>\n",
       "    <tr>\n",
       "      <th>1618</th>\n",
       "      <td>2008</td>\n",
       "      <td>NZL</td>\n",
       "      <td>New Zealand</td>\n",
       "      <td>Oceania</td>\n",
       "      <td>-</td>\n",
       "      <td>10</td>\n",
       "      <td>10</td>\n",
       "      <td>10</td>\n",
       "      <td>10</td>\n",
       "      <td>10</td>\n",
       "      <td>9.42</td>\n",
       "      <td>4</td>\n",
       "      <td>8.46</td>\n",
       "      <td>3</td>\n",
       "      <td>8.94</td>\n",
       "      <td>2</td>\n",
       "    </tr>\n",
       "    <tr>\n",
       "      <th>1619</th>\n",
       "      <td>2008</td>\n",
       "      <td>HKG</td>\n",
       "      <td>Hong Kong</td>\n",
       "      <td>East Asia</td>\n",
       "      <td>-</td>\n",
       "      <td>10</td>\n",
       "      <td>10</td>\n",
       "      <td>10</td>\n",
       "      <td>10</td>\n",
       "      <td>10</td>\n",
       "      <td>9.13</td>\n",
       "      <td>12</td>\n",
       "      <td>9.11</td>\n",
       "      <td>1</td>\n",
       "      <td>9.12</td>\n",
       "      <td>1</td>\n",
       "    </tr>\n",
       "  </tbody>\n",
       "</table>\n",
       "<p>1620 rows × 16 columns</p>\n",
       "</div>"
      ],
      "text/plain": [
       "      year ISO_code    countries                         region  \\\n",
       "0     2017      ALB      Albania                 Eastern Europe   \n",
       "1     2017      DZA      Algeria     Middle East & North Africa   \n",
       "2     2017      AGO       Angola             Sub-Saharan Africa   \n",
       "3     2017      ARG    Argentina  Latin America & the Caribbean   \n",
       "4     2017      ARM      Armenia        Caucasus & Central Asia   \n",
       "...    ...      ...          ...                            ...   \n",
       "1615  2008      AUS    Australia                        Oceania   \n",
       "1616  2008      DNK      Denmark                 Western Europe   \n",
       "1617  2008      CHE  Switzerland                 Western Europe   \n",
       "1618  2008      NZL  New Zealand                        Oceania   \n",
       "1619  2008      HKG    Hong Kong                      East Asia   \n",
       "\n",
       "     pf_identity_legal pf_identity_sex_male pf_identity_sex_female  \\\n",
       "0                    0                   10                     10   \n",
       "1                    -                    0                      0   \n",
       "2                   10                    0                      0   \n",
       "3                   10                   10                     10   \n",
       "4                    7                   10                     10   \n",
       "...                ...                  ...                    ...   \n",
       "1615                 -                   10                     10   \n",
       "1616                 -                   10                     10   \n",
       "1617                 -                   10                     10   \n",
       "1618                 -                   10                     10   \n",
       "1619                 -                   10                     10   \n",
       "\n",
       "     pf_identity_sex pf_identity_divorce pf_identity pf_score pf_rank  \\\n",
       "0                 10                 7.5         5.8     8.01      46   \n",
       "1                  0                   0           0      5.2     146   \n",
       "2                  0                   5           5     5.98     121   \n",
       "3                 10                  10          10     8.04      41   \n",
       "4                 10                 7.5         8.2     7.15      72   \n",
       "...              ...                 ...         ...      ...     ...   \n",
       "1615              10                  10          10     9.29       7   \n",
       "1616              10                  10          10     9.49       3   \n",
       "1617              10                  10          10     9.31       6   \n",
       "1618              10                  10          10     9.42       4   \n",
       "1619              10                  10          10     9.13      12   \n",
       "\n",
       "     ef_score ef_rank hf_score hf_rank  \n",
       "0        7.67      30     7.84      38  \n",
       "1        4.77     159     4.99     155  \n",
       "2        4.83     158      5.4     151  \n",
       "3        5.67     147     6.86      77  \n",
       "4         7.7      27     7.42      54  \n",
       "...       ...     ...      ...     ...  \n",
       "1615     8.18       6     8.73       4  \n",
       "1616     7.98       9     8.73       4  \n",
       "1617     8.35       4     8.83       3  \n",
       "1618     8.46       3     8.94       2  \n",
       "1619     9.11       1     9.12       1  \n",
       "\n",
       "[1620 rows x 16 columns]"
      ]
     },
     "execution_count": 19,
     "metadata": {},
     "output_type": "execute_result"
    }
   ],
   "source": [
    "dataset_base[important_cols]"
   ]
  },
  {
   "cell_type": "markdown",
   "metadata": {
    "colab_type": "text",
    "id": "HPC6X48OVqgN"
   },
   "source": [
    "Si analizamos los tipos, vemos que casi todas las columnas se leen como objetos debido a que los valores nulos están marcados con `-`. Los vamos a eliminar y volveremos a convertir las columnas con puntajes a tipo numérico."
   ]
  },
  {
   "cell_type": "code",
   "execution_count": 20,
   "metadata": {
    "colab": {
     "base_uri": "https://localhost:8080/",
     "height": 677
    },
    "colab_type": "code",
    "id": "cNSfBVH2WDVu",
    "outputId": "2bcdcc79-d263-4391-8272-4f4ac3ad04b1"
   },
   "outputs": [
    {
     "data": {
      "text/html": [
       "<div>\n",
       "<style scoped>\n",
       "    .dataframe tbody tr th:only-of-type {\n",
       "        vertical-align: middle;\n",
       "    }\n",
       "\n",
       "    .dataframe tbody tr th {\n",
       "        vertical-align: top;\n",
       "    }\n",
       "\n",
       "    .dataframe thead th {\n",
       "        text-align: right;\n",
       "    }\n",
       "</style>\n",
       "<table border=\"1\" class=\"dataframe\">\n",
       "  <thead>\n",
       "    <tr style=\"text-align: right;\">\n",
       "      <th></th>\n",
       "      <th>year</th>\n",
       "      <th>ISO_code</th>\n",
       "      <th>countries</th>\n",
       "      <th>region</th>\n",
       "      <th>pf_identity_legal</th>\n",
       "      <th>pf_identity_sex_male</th>\n",
       "      <th>pf_identity_sex_female</th>\n",
       "      <th>pf_identity_sex</th>\n",
       "      <th>pf_identity_divorce</th>\n",
       "      <th>pf_identity</th>\n",
       "      <th>pf_score</th>\n",
       "      <th>pf_rank</th>\n",
       "      <th>ef_score</th>\n",
       "      <th>ef_rank</th>\n",
       "      <th>hf_score</th>\n",
       "      <th>hf_rank</th>\n",
       "    </tr>\n",
       "  </thead>\n",
       "  <tbody>\n",
       "    <tr>\n",
       "      <th>0</th>\n",
       "      <td>2017</td>\n",
       "      <td>ALB</td>\n",
       "      <td>Albania</td>\n",
       "      <td>Eastern Europe</td>\n",
       "      <td>0.0</td>\n",
       "      <td>10.0</td>\n",
       "      <td>10.0</td>\n",
       "      <td>10.0</td>\n",
       "      <td>7.5</td>\n",
       "      <td>5.8</td>\n",
       "      <td>8.01</td>\n",
       "      <td>46.0</td>\n",
       "      <td>7.67</td>\n",
       "      <td>30.0</td>\n",
       "      <td>7.84</td>\n",
       "      <td>38.0</td>\n",
       "    </tr>\n",
       "    <tr>\n",
       "      <th>1</th>\n",
       "      <td>2017</td>\n",
       "      <td>DZA</td>\n",
       "      <td>Algeria</td>\n",
       "      <td>Middle East &amp; North Africa</td>\n",
       "      <td>NaN</td>\n",
       "      <td>0.0</td>\n",
       "      <td>0.0</td>\n",
       "      <td>0.0</td>\n",
       "      <td>0.0</td>\n",
       "      <td>0.0</td>\n",
       "      <td>5.20</td>\n",
       "      <td>146.0</td>\n",
       "      <td>4.77</td>\n",
       "      <td>159.0</td>\n",
       "      <td>4.99</td>\n",
       "      <td>155.0</td>\n",
       "    </tr>\n",
       "    <tr>\n",
       "      <th>2</th>\n",
       "      <td>2017</td>\n",
       "      <td>AGO</td>\n",
       "      <td>Angola</td>\n",
       "      <td>Sub-Saharan Africa</td>\n",
       "      <td>10.0</td>\n",
       "      <td>0.0</td>\n",
       "      <td>0.0</td>\n",
       "      <td>0.0</td>\n",
       "      <td>5.0</td>\n",
       "      <td>5.0</td>\n",
       "      <td>5.98</td>\n",
       "      <td>121.0</td>\n",
       "      <td>4.83</td>\n",
       "      <td>158.0</td>\n",
       "      <td>5.40</td>\n",
       "      <td>151.0</td>\n",
       "    </tr>\n",
       "    <tr>\n",
       "      <th>3</th>\n",
       "      <td>2017</td>\n",
       "      <td>ARG</td>\n",
       "      <td>Argentina</td>\n",
       "      <td>Latin America &amp; the Caribbean</td>\n",
       "      <td>10.0</td>\n",
       "      <td>10.0</td>\n",
       "      <td>10.0</td>\n",
       "      <td>10.0</td>\n",
       "      <td>10.0</td>\n",
       "      <td>10.0</td>\n",
       "      <td>8.04</td>\n",
       "      <td>41.0</td>\n",
       "      <td>5.67</td>\n",
       "      <td>147.0</td>\n",
       "      <td>6.86</td>\n",
       "      <td>77.0</td>\n",
       "    </tr>\n",
       "    <tr>\n",
       "      <th>4</th>\n",
       "      <td>2017</td>\n",
       "      <td>ARM</td>\n",
       "      <td>Armenia</td>\n",
       "      <td>Caucasus &amp; Central Asia</td>\n",
       "      <td>7.0</td>\n",
       "      <td>10.0</td>\n",
       "      <td>10.0</td>\n",
       "      <td>10.0</td>\n",
       "      <td>7.5</td>\n",
       "      <td>8.2</td>\n",
       "      <td>7.15</td>\n",
       "      <td>72.0</td>\n",
       "      <td>7.70</td>\n",
       "      <td>27.0</td>\n",
       "      <td>7.42</td>\n",
       "      <td>54.0</td>\n",
       "    </tr>\n",
       "  </tbody>\n",
       "</table>\n",
       "</div>"
      ],
      "text/plain": [
       "   year ISO_code  countries                         region  pf_identity_legal  \\\n",
       "0  2017      ALB    Albania                 Eastern Europe                0.0   \n",
       "1  2017      DZA    Algeria     Middle East & North Africa                NaN   \n",
       "2  2017      AGO     Angola             Sub-Saharan Africa               10.0   \n",
       "3  2017      ARG  Argentina  Latin America & the Caribbean               10.0   \n",
       "4  2017      ARM    Armenia        Caucasus & Central Asia                7.0   \n",
       "\n",
       "   pf_identity_sex_male  pf_identity_sex_female  pf_identity_sex  \\\n",
       "0                  10.0                    10.0             10.0   \n",
       "1                   0.0                     0.0              0.0   \n",
       "2                   0.0                     0.0              0.0   \n",
       "3                  10.0                    10.0             10.0   \n",
       "4                  10.0                    10.0             10.0   \n",
       "\n",
       "   pf_identity_divorce  pf_identity  pf_score  pf_rank  ef_score  ef_rank  \\\n",
       "0                  7.5          5.8      8.01     46.0      7.67     30.0   \n",
       "1                  0.0          0.0      5.20    146.0      4.77    159.0   \n",
       "2                  5.0          5.0      5.98    121.0      4.83    158.0   \n",
       "3                 10.0         10.0      8.04     41.0      5.67    147.0   \n",
       "4                  7.5          8.2      7.15     72.0      7.70     27.0   \n",
       "\n",
       "   hf_score  hf_rank  \n",
       "0      7.84     38.0  \n",
       "1      4.99    155.0  \n",
       "2      5.40    151.0  \n",
       "3      6.86     77.0  \n",
       "4      7.42     54.0  "
      ]
     },
     "execution_count": 20,
     "metadata": {},
     "output_type": "execute_result"
    }
   ],
   "source": [
    "dataset_base = dataset_base[important_cols].replace('-', numpy.nan)\n",
    "for score_col in score_cols:\n",
    "    dataset_base[score_col] = pandas.to_numeric(dataset_base[score_col])\n",
    "dataset_base.head()"
   ]
  },
  {
   "cell_type": "markdown",
   "metadata": {
    "colab_type": "text",
    "id": "jD3nFLfXSgp7"
   },
   "source": [
    "# Parte 1\n",
    "\n",
    "Luego de las clases del primer fin de semana, ya tenemos las herramientas para responder las siguientes preguntas:"
   ]
  },
  {
   "cell_type": "markdown",
   "metadata": {},
   "source": [
    "## 1. Estadísticos descriptivos\n",
    "\n",
    "  1. Para comenzar con un pantallazo de los datos, calcular el rango de las variables."
   ]
  },
  {
   "cell_type": "code",
   "execution_count": 21,
   "metadata": {},
   "outputs": [
    {
     "data": {
      "text/html": [
       "<div>\n",
       "<style scoped>\n",
       "    .dataframe tbody tr th:only-of-type {\n",
       "        vertical-align: middle;\n",
       "    }\n",
       "\n",
       "    .dataframe tbody tr th {\n",
       "        vertical-align: top;\n",
       "    }\n",
       "\n",
       "    .dataframe thead th {\n",
       "        text-align: right;\n",
       "    }\n",
       "</style>\n",
       "<table border=\"1\" class=\"dataframe\">\n",
       "  <thead>\n",
       "    <tr style=\"text-align: right;\">\n",
       "      <th></th>\n",
       "      <th>Min</th>\n",
       "      <th>Max</th>\n",
       "      <th>Range</th>\n",
       "    </tr>\n",
       "  </thead>\n",
       "  <tbody>\n",
       "    <tr>\n",
       "      <th>year</th>\n",
       "      <td>2008.00</td>\n",
       "      <td>2017.00</td>\n",
       "      <td>9.00</td>\n",
       "    </tr>\n",
       "    <tr>\n",
       "      <th>pf_identity_legal</th>\n",
       "      <td>0.00</td>\n",
       "      <td>10.00</td>\n",
       "      <td>10.00</td>\n",
       "    </tr>\n",
       "    <tr>\n",
       "      <th>pf_identity_sex_male</th>\n",
       "      <td>0.00</td>\n",
       "      <td>10.00</td>\n",
       "      <td>10.00</td>\n",
       "    </tr>\n",
       "    <tr>\n",
       "      <th>pf_identity_sex_female</th>\n",
       "      <td>0.00</td>\n",
       "      <td>10.00</td>\n",
       "      <td>10.00</td>\n",
       "    </tr>\n",
       "    <tr>\n",
       "      <th>pf_identity_sex</th>\n",
       "      <td>0.00</td>\n",
       "      <td>10.00</td>\n",
       "      <td>10.00</td>\n",
       "    </tr>\n",
       "    <tr>\n",
       "      <th>pf_identity_divorce</th>\n",
       "      <td>0.00</td>\n",
       "      <td>10.00</td>\n",
       "      <td>10.00</td>\n",
       "    </tr>\n",
       "    <tr>\n",
       "      <th>pf_identity</th>\n",
       "      <td>0.00</td>\n",
       "      <td>10.00</td>\n",
       "      <td>10.00</td>\n",
       "    </tr>\n",
       "    <tr>\n",
       "      <th>pf_score</th>\n",
       "      <td>2.22</td>\n",
       "      <td>9.56</td>\n",
       "      <td>7.34</td>\n",
       "    </tr>\n",
       "    <tr>\n",
       "      <th>pf_rank</th>\n",
       "      <td>1.00</td>\n",
       "      <td>162.00</td>\n",
       "      <td>161.00</td>\n",
       "    </tr>\n",
       "    <tr>\n",
       "      <th>ef_score</th>\n",
       "      <td>2.58</td>\n",
       "      <td>9.11</td>\n",
       "      <td>6.53</td>\n",
       "    </tr>\n",
       "    <tr>\n",
       "      <th>ef_rank</th>\n",
       "      <td>1.00</td>\n",
       "      <td>162.00</td>\n",
       "      <td>161.00</td>\n",
       "    </tr>\n",
       "    <tr>\n",
       "      <th>hf_score</th>\n",
       "      <td>3.69</td>\n",
       "      <td>9.12</td>\n",
       "      <td>5.43</td>\n",
       "    </tr>\n",
       "    <tr>\n",
       "      <th>hf_rank</th>\n",
       "      <td>1.00</td>\n",
       "      <td>162.00</td>\n",
       "      <td>161.00</td>\n",
       "    </tr>\n",
       "  </tbody>\n",
       "</table>\n",
       "</div>"
      ],
      "text/plain": [
       "                            Min      Max   Range\n",
       "year                    2008.00  2017.00    9.00\n",
       "pf_identity_legal          0.00    10.00   10.00\n",
       "pf_identity_sex_male       0.00    10.00   10.00\n",
       "pf_identity_sex_female     0.00    10.00   10.00\n",
       "pf_identity_sex            0.00    10.00   10.00\n",
       "pf_identity_divorce        0.00    10.00   10.00\n",
       "pf_identity                0.00    10.00   10.00\n",
       "pf_score                   2.22     9.56    7.34\n",
       "pf_rank                    1.00   162.00  161.00\n",
       "ef_score                   2.58     9.11    6.53\n",
       "ef_rank                    1.00   162.00  161.00\n",
       "hf_score                   3.69     9.12    5.43\n",
       "hf_rank                    1.00   162.00  161.00"
      ]
     },
     "execution_count": 21,
     "metadata": {},
     "output_type": "execute_result"
    }
   ],
   "source": [
    "dataset_base = dataset_base.replace('Latin America & the Caribbean','LatAm')\n",
    "pandas.to_numeric(dataset_base.year, downcast='integer')\n",
    "dataset_base['year'] = pandas.to_numeric(dataset_base['year'], downcast='integer')\n",
    "df = dataset_base\n",
    "df = df.drop(['ISO_code', 'countries', 'region'], axis=1)# drop non numeric variables\n",
    "max_row = df.max()\n",
    "min_row = df.min()\n",
    "min_row[0] = min_row[0].astype('int32')\n",
    "max_row[0] = max_row[0].astype('int32')\n",
    "ranges = max_row - min_row\n",
    "range_df = pandas.DataFrame({'Min' : min_row,'Max' : max_row, \"Range\" : ranges})\n",
    "round(range_df,2)"
   ]
  },
  {
   "cell_type": "markdown",
   "metadata": {},
   "source": [
    "Para sacar conclusiones decidimos usar principalmente los promedios (mean) porque, entre las medidas de tendencia central, el *mean* es el estimador que incluye todos los datos. Eso no es el caso con la mediana.\n"
   ]
  },
  {
   "cell_type": "code",
   "execution_count": 22,
   "metadata": {},
   "outputs": [
    {
     "data": {
      "text/html": [
       "<div>\n",
       "<style scoped>\n",
       "    .dataframe tbody tr th:only-of-type {\n",
       "        vertical-align: middle;\n",
       "    }\n",
       "\n",
       "    .dataframe tbody tr th {\n",
       "        vertical-align: top;\n",
       "    }\n",
       "\n",
       "    .dataframe thead th {\n",
       "        text-align: right;\n",
       "    }\n",
       "</style>\n",
       "<table border=\"1\" class=\"dataframe\">\n",
       "  <thead>\n",
       "    <tr style=\"text-align: right;\">\n",
       "      <th></th>\n",
       "      <th>pf_identity</th>\n",
       "      <th>pf_score</th>\n",
       "      <th>hf_score</th>\n",
       "      <th>ef_score</th>\n",
       "      <th>region</th>\n",
       "    </tr>\n",
       "    <tr>\n",
       "      <th>countries</th>\n",
       "      <th></th>\n",
       "      <th></th>\n",
       "      <th></th>\n",
       "      <th></th>\n",
       "      <th></th>\n",
       "    </tr>\n",
       "  </thead>\n",
       "  <tbody>\n",
       "    <tr>\n",
       "      <th>Albania</th>\n",
       "      <td>7.90</td>\n",
       "      <td>7.805</td>\n",
       "      <td>7.631</td>\n",
       "      <td>7.457</td>\n",
       "      <td>Eastern Europe</td>\n",
       "    </tr>\n",
       "    <tr>\n",
       "      <th>Algeria</th>\n",
       "      <td>1.17</td>\n",
       "      <td>5.269</td>\n",
       "      <td>5.165</td>\n",
       "      <td>5.061</td>\n",
       "      <td>Middle East &amp; North Africa</td>\n",
       "    </tr>\n",
       "    <tr>\n",
       "      <th>Angola</th>\n",
       "      <td>5.34</td>\n",
       "      <td>5.690</td>\n",
       "      <td>5.442</td>\n",
       "      <td>5.194</td>\n",
       "      <td>Sub-Saharan Africa</td>\n",
       "    </tr>\n",
       "    <tr>\n",
       "      <th>Argentina</th>\n",
       "      <td>10.00</td>\n",
       "      <td>8.100</td>\n",
       "      <td>6.766</td>\n",
       "      <td>5.432</td>\n",
       "      <td>LatAm</td>\n",
       "    </tr>\n",
       "    <tr>\n",
       "      <th>Armenia</th>\n",
       "      <td>8.62</td>\n",
       "      <td>7.215</td>\n",
       "      <td>7.443</td>\n",
       "      <td>7.668</td>\n",
       "      <td>Caucasus &amp; Central Asia</td>\n",
       "    </tr>\n",
       "    <tr>\n",
       "      <th>Australia</th>\n",
       "      <td>9.70</td>\n",
       "      <td>9.217</td>\n",
       "      <td>8.644</td>\n",
       "      <td>8.072</td>\n",
       "      <td>Oceania</td>\n",
       "    </tr>\n",
       "    <tr>\n",
       "      <th>Austria</th>\n",
       "      <td>10.00</td>\n",
       "      <td>9.207</td>\n",
       "      <td>8.476</td>\n",
       "      <td>7.744</td>\n",
       "      <td>Western Europe</td>\n",
       "    </tr>\n",
       "    <tr>\n",
       "      <th>Azerbaijan</th>\n",
       "      <td>7.90</td>\n",
       "      <td>6.121</td>\n",
       "      <td>6.172</td>\n",
       "      <td>6.225</td>\n",
       "      <td>Caucasus &amp; Central Asia</td>\n",
       "    </tr>\n",
       "    <tr>\n",
       "      <th>Bahamas</th>\n",
       "      <td>10.00</td>\n",
       "      <td>7.941</td>\n",
       "      <td>7.656</td>\n",
       "      <td>7.372</td>\n",
       "      <td>LatAm</td>\n",
       "    </tr>\n",
       "    <tr>\n",
       "      <th>Bahrain</th>\n",
       "      <td>5.00</td>\n",
       "      <td>6.239</td>\n",
       "      <td>6.741</td>\n",
       "      <td>7.241</td>\n",
       "      <td>Middle East &amp; North Africa</td>\n",
       "    </tr>\n",
       "  </tbody>\n",
       "</table>\n",
       "</div>"
      ],
      "text/plain": [
       "            pf_identity  pf_score  hf_score  ef_score  \\\n",
       "countries                                               \n",
       "Albania            7.90     7.805     7.631     7.457   \n",
       "Algeria            1.17     5.269     5.165     5.061   \n",
       "Angola             5.34     5.690     5.442     5.194   \n",
       "Argentina         10.00     8.100     6.766     5.432   \n",
       "Armenia            8.62     7.215     7.443     7.668   \n",
       "Australia          9.70     9.217     8.644     8.072   \n",
       "Austria           10.00     9.207     8.476     7.744   \n",
       "Azerbaijan         7.90     6.121     6.172     6.225   \n",
       "Bahamas           10.00     7.941     7.656     7.372   \n",
       "Bahrain            5.00     6.239     6.741     7.241   \n",
       "\n",
       "                                region  \n",
       "countries                               \n",
       "Albania                 Eastern Europe  \n",
       "Algeria     Middle East & North Africa  \n",
       "Angola              Sub-Saharan Africa  \n",
       "Argentina                        LatAm  \n",
       "Armenia        Caucasus & Central Asia  \n",
       "Australia                      Oceania  \n",
       "Austria                 Western Europe  \n",
       "Azerbaijan     Caucasus & Central Asia  \n",
       "Bahamas                          LatAm  \n",
       "Bahrain     Middle East & North Africa  "
      ]
     },
     "execution_count": 22,
     "metadata": {},
     "output_type": "execute_result"
    }
   ],
   "source": [
    "pf_identity_mean = dataset_base.pivot(index='year', columns='countries', values='pf_identity').mean()\n",
    "pf_score_mean = dataset_base.pivot(index='year', columns='countries', values='pf_score').mean()\n",
    "hf_score_mean = dataset_base.pivot(index='year', columns='countries', values='hf_score').mean()\n",
    "ef_score_mean = dataset_base.pivot(index='year', columns='countries', values='ef_score').mean()\n",
    "region = dataset_base.pivot(index='year', columns='countries', values='region').iloc[0]\n",
    "dataset_mean = pandas.DataFrame({\"pf_identity\" : pf_identity_mean, \"pf_score\": pf_score_mean, \"hf_score\": hf_score_mean,\"ef_score\": ef_score_mean, \"region\":region  })\n",
    "dataset_mean.head(10)"
   ]
  },
  {
   "cell_type": "markdown",
   "metadata": {},
   "source": [
    "2. Obtener media, mediana y desviación estándar de las variables *pf_identity* y *hf_score* en el mundo y compararla con la de Latinoamérica y el caribe. Usar la respuesta del punto anterior para justificar si la comparación es válida o no. Eso no es el caso con la mediana."
   ]
  },
  {
   "cell_type": "code",
   "execution_count": 23,
   "metadata": {},
   "outputs": [],
   "source": [
    "# Create a subset for latin america and the carribean\n",
    "grouped = dataset_mean.groupby(['region'])\n",
    "LatAm = grouped.get_group('LatAm')"
   ]
  },
  {
   "cell_type": "code",
   "execution_count": 24,
   "metadata": {},
   "outputs": [
    {
     "data": {
      "text/html": [
       "<div>\n",
       "<style scoped>\n",
       "    .dataframe tbody tr th:only-of-type {\n",
       "        vertical-align: middle;\n",
       "    }\n",
       "\n",
       "    .dataframe tbody tr th {\n",
       "        vertical-align: top;\n",
       "    }\n",
       "\n",
       "    .dataframe thead th {\n",
       "        text-align: right;\n",
       "    }\n",
       "</style>\n",
       "<table border=\"1\" class=\"dataframe\">\n",
       "  <thead>\n",
       "    <tr style=\"text-align: right;\">\n",
       "      <th></th>\n",
       "      <th>LatAm</th>\n",
       "      <th>World</th>\n",
       "    </tr>\n",
       "    <tr>\n",
       "      <th>index</th>\n",
       "      <th></th>\n",
       "      <th></th>\n",
       "    </tr>\n",
       "  </thead>\n",
       "  <tbody>\n",
       "    <tr>\n",
       "      <th>pf_identity_mean</th>\n",
       "      <td>8.59</td>\n",
       "      <td>7.12</td>\n",
       "    </tr>\n",
       "    <tr>\n",
       "      <th>pf_identity_std</th>\n",
       "      <td>1.47</td>\n",
       "      <td>3.18</td>\n",
       "    </tr>\n",
       "    <tr>\n",
       "      <th>pf_identity_median</th>\n",
       "      <td>9.01</td>\n",
       "      <td>8.69</td>\n",
       "    </tr>\n",
       "    <tr>\n",
       "      <th>hf_score_mean</th>\n",
       "      <td>7.04</td>\n",
       "      <td>6.92</td>\n",
       "    </tr>\n",
       "    <tr>\n",
       "      <th>hf_score_std</th>\n",
       "      <td>0.62</td>\n",
       "      <td>1.07</td>\n",
       "    </tr>\n",
       "    <tr>\n",
       "      <th>hf_score_median</th>\n",
       "      <td>6.98</td>\n",
       "      <td>6.80</td>\n",
       "    </tr>\n",
       "  </tbody>\n",
       "</table>\n",
       "</div>"
      ],
      "text/plain": [
       "                    LatAm  World\n",
       "index                           \n",
       "pf_identity_mean     8.59   7.12\n",
       "pf_identity_std      1.47   3.18\n",
       "pf_identity_median   9.01   8.69\n",
       "hf_score_mean        7.04   6.92\n",
       "hf_score_std         0.62   1.07\n",
       "hf_score_median      6.98   6.80"
      ]
     },
     "execution_count": 24,
     "metadata": {},
     "output_type": "execute_result"
    }
   ],
   "source": [
    "descriptive_df = pandas.DataFrame({'index' : ['pf_identity_mean','pf_identity_std','pf_identity_median', \\\n",
    "                                              'hf_score_mean','hf_score_std','hf_score_median'], \\\n",
    "                                   'LatAm' : [ LatAm.pf_identity.mean(), \\\n",
    "                                              LatAm.pf_identity.std(), \\\n",
    "                                              LatAm.pf_identity.median(), \\\n",
    "                                              LatAm.hf_score.mean(), \\\n",
    "                                              LatAm.hf_score.std(), \\\n",
    "                                              LatAm.hf_score.median()], \\\n",
    "                                   \"World\" : [ dataset_mean.pf_identity.mean(), \\\n",
    "                                              dataset_mean.pf_identity.std(), \\\n",
    "                                              dataset_mean.pf_identity.median(), \\\n",
    "                                              dataset_mean.hf_score.mean(), \\\n",
    "                                              dataset_mean.hf_score.std(), \\\n",
    "                                              dataset_mean.hf_score.median()]})\n",
    "round(descriptive_df.set_index('index'),2) # make it a little prettier"
   ]
  },
  {
   "cell_type": "markdown",
   "metadata": {},
   "source": [
    "*¿Tiene sentido calcular la moda?* \n",
    "**No tiene mucho sentido calcular la moda porque no es muy relevante si se repita un valor en ninguna de las variables.**\n",
    "\n",
    "*¿Cómo pueden sanearse los valores faltantes?*\n",
    "**Por suerte, en pandas, cuando hay un valor faltante, osea un ```None```, no le incluye en el promedio. Todos los valores faltantes estan reemplazados por ```None```.** \n",
    "\n",
    "*¿Encuentra outliers en estas dos variables? ¿Qué método utiliza para detectarlos? Los outliers, ¿son globales o por grupo? ¿Los eliminaría del conjunto de datos?* \n",
    "**Usamos la regla de 1.5 * IQR (interquartile range) para identificar outliers.**"
   ]
  },
  {
   "cell_type": "markdown",
   "metadata": {},
   "source": [
    "## OUTLIERS con 1.5*IQR"
   ]
  },
  {
   "cell_type": "code",
   "execution_count": 25,
   "metadata": {},
   "outputs": [
    {
     "data": {
      "image/png": "[encoded data removed]",
      "text/plain": [
       "<Figure size 720x432 with 1 Axes>"
      ]
     },
     "metadata": {
      "needs_background": "light"
     },
     "output_type": "display_data"
    }
   ],
   "source": [
    "# The best way to quickly visualize outliers is with the box and whiskers plot (grafico de caja)\n",
    "plt.figure(figsize=(10,6))\n",
    "seaborn.boxplot(data=dataset_mean,\n",
    "                x='hf_score', y= 'region',\n",
    "                color=BLUE)\n",
    "plt.ylabel('Regions')\n",
    "plt.xlabel('Human Freedom Score')\n",
    "plt.title('Distribution of Human Freedom Scores by Regions of the World')\n",
    "seaborn.despine()"
   ]
  },
  {
   "cell_type": "code",
   "execution_count": 26,
   "metadata": {},
   "outputs": [
    {
     "data": {
      "image/png": "[encoded data removed]",
      "text/plain": [
       "<Figure size 720x432 with 1 Axes>"
      ]
     },
     "metadata": {
      "needs_background": "light"
     },
     "output_type": "display_data"
    }
   ],
   "source": [
    "plt.figure(figsize=(10,6))\n",
    "seaborn.boxplot(data=dataset_mean,\n",
    "                x='pf_identity', y= 'region',\n",
    "                color=BLUE)\n",
    "plt.ylabel('Regions')\n",
    "plt.xlabel('Human Freedom Score')\n",
    "plt.title('Distribution of Human Freedom Scores by Regions of the World')\n",
    "seaborn.despine()"
   ]
  },
  {
   "cell_type": "markdown",
   "metadata": {},
   "source": [
    "**Como indica los diamantes negros al izquierda del whisker a la izquierda de LatAm, hay muchos outliers en nuestra region.**"
   ]
  },
  {
   "cell_type": "code",
   "execution_count": 27,
   "metadata": {},
   "outputs": [],
   "source": [
    "def find_outliers_hf(dataset):\n",
    "    big_outlier = 0\n",
    "    small_outlier = 0\n",
    "    big_outliers = []\n",
    "    small_outliers = []\n",
    "    quartiles = dataset.hf_score.quantile([0.25,0.5,0.75]).round(2)\n",
    "    quartiles = quartiles.tolist()\n",
    "    IQR = quartiles[2]-quartiles[0] #calculate the interquartile range\n",
    "    count = 0\n",
    "    for idx, row in dataset.iterrows():\n",
    "        if row.hf_score < quartiles[0]-1.5*IQR: \n",
    "            small_outlier += 1\n",
    "            small_outliers.append(row.name)\n",
    "        elif row.hf_score > quartiles[2]+1.5*IQR:\n",
    "            big_outlier += 1\n",
    "            big_outliers.append(row.name)\n",
    "    text = \"Econtramos {} big outlier, {},y {} small outliers {} para la dataset.\".format(big_outlier, big_outliers,small_outlier,small_outliers)\n",
    "    return text"
   ]
  },
  {
   "cell_type": "code",
   "execution_count": 28,
   "metadata": {},
   "outputs": [],
   "source": [
    "def find_outliers_pf(dataset):\n",
    "    big_outlier = 0\n",
    "    small_outlier = 0\n",
    "    big_outliers = []\n",
    "    small_outliers = []\n",
    "    quartiles = dataset.pf_identity.quantile([0.25,0.5,0.75]).round(2)\n",
    "    quartiles = quartiles.tolist()\n",
    "    IQR = quartiles[2]-quartiles[0] #calculate the interquartile range\n",
    "    count = 0\n",
    "    for idx, row in dataset.iterrows():\n",
    "        if row.hf_score < quartiles[0]-1.5*IQR: \n",
    "            small_outlier += 1\n",
    "            small_outliers.append(row.name)\n",
    "        elif row.pf_identity > quartiles[2]+1.5*IQR:\n",
    "            big_outlier += 1\n",
    "            big_outliers.append(row.name)\n",
    "    text = \"Econtramos {} big outlier, {},y {} small outliers {} para la dataset.\".format(big_outlier, big_outliers,small_outlier,small_outliers)\n",
    "    return text"
   ]
  },
  {
   "cell_type": "code",
   "execution_count": 29,
   "metadata": {},
   "outputs": [
    {
     "name": "stdout",
     "output_type": "stream",
     "text": [
      "HUMAN FREEDOM\n",
      "Econtramos 0 big outlier, [],y 0 small outliers [] para la dataset.\n",
      "Econtramos 1 big outlier, ['Chile'],y 1 small outliers ['Venezuela'] para la dataset.\n",
      "PERSONAL FREEDOM\n",
      "Econtramos 0 big outlier, [],y 0 small outliers [] para la dataset.\n",
      "Econtramos 0 big outlier, [],y 1 small outliers ['Venezuela'] para la dataset.\n"
     ]
    }
   ],
   "source": [
    "print(\"HUMAN FREEDOM\")\n",
    "print(find_outliers_hf(dataset_mean))\n",
    "print(find_outliers_hf(LatAm))\n",
    "print(\"PERSONAL FREEDOM\")\n",
    "print(find_outliers_pf(dataset_mean))\n",
    "print(find_outliers_pf(LatAm))"
   ]
  },
  {
   "cell_type": "markdown",
   "metadata": {},
   "source": [
    "**Usando este criteria encontramos outliers por grupo, LatAm, pero no globales, en el Mundo.**"
   ]
  },
  {
   "cell_type": "markdown",
   "metadata": {},
   "source": [
    "**En principio decidimos no sacar los outliers, porque opinamos que la data generado por Cato no debe tener tantos errores de medida como los errores que suele pasar con los datos sacado por una maquina. Si tiene errores son hecho de humanos. Y puede ser que los outliers reflejan algo de la realidad de los subjetos que estamos estudiando.  \n",
    "Mas adelante, en seccion 1.4 sacamos los outliers, para poder hacer correlation.**"
   ]
  },
  {
   "cell_type": "markdown",
   "metadata": {
    "colab_type": "text",
    "id": "kwzDqGtfFZCm"
   },
   "source": [
    "## 2. Agregación de datos  - Pablo & Karen\n",
    "\n",
    "1. Grafiquen la media de la variable *pf_identity* y *hf_score* a través de los años."
   ]
  },
  {
   "cell_type": "code",
   "execution_count": 30,
   "metadata": {},
   "outputs": [
    {
     "data": {
      "text/plain": [
       "[Text(0, 0.5, 'pf_identity, hf_score'), Text(0.5, 0, 'year')]"
      ]
     },
     "execution_count": 30,
     "metadata": {},
     "output_type": "execute_result"
    },
    {
     "data": {
      "image/png": "[encoded data removed]",
      "text/plain": [
       "<Figure size 432x288 with 1 Axes>"
      ]
     },
     "metadata": {
      "needs_background": "light"
     },
     "output_type": "display_data"
    }
   ],
   "source": [
    "data_ = dataset_base.groupby(\"year\").mean().reset_index()\n",
    "ax = seaborn.lineplot(x=\"year\", y=\"hf_score\", data=data_,color=BLUE)\n",
    "bx = seaborn.lineplot(x=\"year\", y=\"pf_identity\",data=data_,color=YELLOW)\n",
    "ax.set(ylabel='pf_identity, hf_score', xlabel='year')"
   ]
  },
  {
   "cell_type": "markdown",
   "metadata": {},
   "source": [
    "2. Realicen los mismos gráficos, pero separando por regiones (Cada variable en un gráfico distinto, sino no se ve nada). ¿La tendencia observada, es la misma que si no dividimos por regiones?\n",
    "\n",
    "\n",
    "Pista: hay gráficos de seaborn que permiten generar visualizaciones para cada valor de una variable categórica, en este caso, las distintas regiones.\n",
    "\n",
    "Sólo por curiosidad, graficar la tendencia de *hf_score* y *ef_score* a través de los años. ¿Tienen alguna hipótesis para este comportamiento?"
   ]
  },
  {
   "cell_type": "code",
   "execution_count": 31,
   "metadata": {
    "scrolled": false
   },
   "outputs": [
    {
     "name": "stdout",
     "output_type": "stream",
     "text": [
      "Caucasus & Central Asia\n"
     ]
    },
    {
     "data": {
      "image/png": "[encoded data removed]",
      "text/plain": [
       "<Figure size 432x288 with 1 Axes>"
      ]
     },
     "metadata": {
      "needs_background": "light"
     },
     "output_type": "display_data"
    },
    {
     "name": "stdout",
     "output_type": "stream",
     "text": [
      "LatAm\n"
     ]
    },
    {
     "data": {
      "image/png": "[encoded data removed]",
      "text/plain": [
       "<Figure size 432x288 with 1 Axes>"
      ]
     },
     "metadata": {
      "needs_background": "light"
     },
     "output_type": "display_data"
    },
    {
     "name": "stdout",
     "output_type": "stream",
     "text": [
      "East Asia\n"
     ]
    },
    {
     "data": {
      "image/png": "[encoded data removed]",
      "text/plain": [
       "<Figure size 432x288 with 1 Axes>"
      ]
     },
     "metadata": {
      "needs_background": "light"
     },
     "output_type": "display_data"
    }
   ],
   "source": [
    "data_ = dataset_base.groupby([\"year\",\"region\"]).mean().reset_index()\n",
    "\n",
    "def plot_means(region):\n",
    "    region_df = data_[data_.region==region]\n",
    "    ax=seaborn.lineplot(x=\"year\", y=\"hf_score\", data=region_df,color=BLUE)\n",
    "    seaborn.lineplot(x=\"year\", y=\"pf_identity\", data=region_df,color=YELLOW)\n",
    "    ax.set(ylabel='pf_identity, hf_score', xlabel='year')\n",
    "    print(region)\n",
    "    plt.show()\n",
    "plot_means(\"Caucasus & Central Asia\")\n",
    "plot_means(\"LatAm\")\n",
    "plot_means('East Asia')"
   ]
  },
  {
   "cell_type": "markdown",
   "metadata": {},
   "source": [
    "TOD0: Cleanup... usar grid, que tengan la misma escala para que las gráficas sean analizables una al lado de la otra.\n",
    "Inspiración:\n",
    "<code\n",
    "countries = ['Argentina', 'Brazil', 'Mexico', 'Bolivia',\n",
    "             'Uruguay', 'Peru', 'Colombia', 'Venezuela']\n",
    "g = seaborn.FacetGrid(dataset, col=\"countries\",\n",
    "                      margin_titles=True, aspect=2, col_wrap=2,\n",
    "                      col_order=countries)\n",
    "g.map(seaborn.lineplot, \"year\", \"ef_score\", color=BLUE)\n",
    "g.map(seaborn.lineplot, \"year\", \"pf_score\", color=RED)\n",
    "g.set(xlim=(2008, 2016))\n",
    "\n",
    "print('Puntajes de libertad para América Latina');\n",
    ">"
   ]
  },
  {
   "cell_type": "code",
   "execution_count": 34,
   "metadata": {},
   "outputs": [
    {
     "ename": "ValueError",
     "evalue": "Could not interpret input 'year'",
     "output_type": "error",
     "traceback": [
      "\u001b[0;31m---------------------------------------------------------------------------\u001b[0m",
      "\u001b[0;31mValueError\u001b[0m                                Traceback (most recent call last)",
      "\u001b[0;32m<ipython-input-34-89a369e6338d>\u001b[0m in \u001b[0;36m<module>\u001b[0;34m\u001b[0m\n\u001b[0;32m----> 1\u001b[0;31m \u001b[0mhf_lat_scat\u001b[0m \u001b[0;34m=\u001b[0m \u001b[0mseaborn\u001b[0m\u001b[0;34m.\u001b[0m\u001b[0mscatterplot\u001b[0m\u001b[0;34m(\u001b[0m\u001b[0mx\u001b[0m\u001b[0;34m=\u001b[0m\u001b[0;34m\"year\"\u001b[0m\u001b[0;34m,\u001b[0m \u001b[0my\u001b[0m\u001b[0;34m=\u001b[0m\u001b[0;34m\"hf_mean\"\u001b[0m\u001b[0;34m,\u001b[0m \u001b[0mdata\u001b[0m\u001b[0;34m=\u001b[0m\u001b[0mLatAm\u001b[0m\u001b[0;34m)\u001b[0m\u001b[0;34m\u001b[0m\u001b[0;34m\u001b[0m\u001b[0m\n\u001b[0m",
      "\u001b[0;32m~/miniconda2/envs/kunan_ai/lib/python3.7/site-packages/seaborn/relational.py\u001b[0m in \u001b[0;36mscatterplot\u001b[0;34m(x, y, hue, style, size, data, palette, hue_order, hue_norm, sizes, size_order, size_norm, markers, style_order, x_bins, y_bins, units, estimator, ci, n_boot, alpha, x_jitter, y_jitter, legend, ax, **kwargs)\u001b[0m\n\u001b[1;32m   1395\u001b[0m         \u001b[0mx_bins\u001b[0m\u001b[0;34m=\u001b[0m\u001b[0mx_bins\u001b[0m\u001b[0;34m,\u001b[0m \u001b[0my_bins\u001b[0m\u001b[0;34m=\u001b[0m\u001b[0my_bins\u001b[0m\u001b[0;34m,\u001b[0m\u001b[0;34m\u001b[0m\u001b[0;34m\u001b[0m\u001b[0m\n\u001b[1;32m   1396\u001b[0m         \u001b[0mestimator\u001b[0m\u001b[0;34m=\u001b[0m\u001b[0mestimator\u001b[0m\u001b[0;34m,\u001b[0m \u001b[0mci\u001b[0m\u001b[0;34m=\u001b[0m\u001b[0mci\u001b[0m\u001b[0;34m,\u001b[0m \u001b[0mn_boot\u001b[0m\u001b[0;34m=\u001b[0m\u001b[0mn_boot\u001b[0m\u001b[0;34m,\u001b[0m\u001b[0;34m\u001b[0m\u001b[0;34m\u001b[0m\u001b[0m\n\u001b[0;32m-> 1397\u001b[0;31m         \u001b[0malpha\u001b[0m\u001b[0;34m=\u001b[0m\u001b[0malpha\u001b[0m\u001b[0;34m,\u001b[0m \u001b[0mx_jitter\u001b[0m\u001b[0;34m=\u001b[0m\u001b[0mx_jitter\u001b[0m\u001b[0;34m,\u001b[0m \u001b[0my_jitter\u001b[0m\u001b[0;34m=\u001b[0m\u001b[0my_jitter\u001b[0m\u001b[0;34m,\u001b[0m \u001b[0mlegend\u001b[0m\u001b[0;34m=\u001b[0m\u001b[0mlegend\u001b[0m\u001b[0;34m,\u001b[0m\u001b[0;34m\u001b[0m\u001b[0;34m\u001b[0m\u001b[0m\n\u001b[0m\u001b[1;32m   1398\u001b[0m     )\n\u001b[1;32m   1399\u001b[0m \u001b[0;34m\u001b[0m\u001b[0m\n",
      "\u001b[0;32m~/miniconda2/envs/kunan_ai/lib/python3.7/site-packages/seaborn/relational.py\u001b[0m in \u001b[0;36m__init__\u001b[0;34m(self, x, y, hue, size, style, data, palette, hue_order, hue_norm, sizes, size_order, size_norm, dashes, markers, style_order, x_bins, y_bins, units, estimator, ci, n_boot, alpha, x_jitter, y_jitter, legend)\u001b[0m\n\u001b[1;32m    884\u001b[0m \u001b[0;34m\u001b[0m\u001b[0m\n\u001b[1;32m    885\u001b[0m         plot_data = self.establish_variables(\n\u001b[0;32m--> 886\u001b[0;31m             \u001b[0mx\u001b[0m\u001b[0;34m,\u001b[0m \u001b[0my\u001b[0m\u001b[0;34m,\u001b[0m \u001b[0mhue\u001b[0m\u001b[0;34m,\u001b[0m \u001b[0msize\u001b[0m\u001b[0;34m,\u001b[0m \u001b[0mstyle\u001b[0m\u001b[0;34m,\u001b[0m \u001b[0munits\u001b[0m\u001b[0;34m,\u001b[0m \u001b[0mdata\u001b[0m\u001b[0;34m\u001b[0m\u001b[0;34m\u001b[0m\u001b[0m\n\u001b[0m\u001b[1;32m    887\u001b[0m         )\n\u001b[1;32m    888\u001b[0m \u001b[0;34m\u001b[0m\u001b[0m\n",
      "\u001b[0;32m~/miniconda2/envs/kunan_ai/lib/python3.7/site-packages/seaborn/relational.py\u001b[0m in \u001b[0;36mestablish_variables\u001b[0;34m(self, x, y, hue, size, style, units, data)\u001b[0m\n\u001b[1;32m    135\u001b[0m                 \u001b[0;32mif\u001b[0m \u001b[0misinstance\u001b[0m\u001b[0;34m(\u001b[0m\u001b[0mvar\u001b[0m\u001b[0;34m,\u001b[0m \u001b[0mstr\u001b[0m\u001b[0;34m)\u001b[0m\u001b[0;34m:\u001b[0m\u001b[0;34m\u001b[0m\u001b[0;34m\u001b[0m\u001b[0m\n\u001b[1;32m    136\u001b[0m                     \u001b[0merr\u001b[0m \u001b[0;34m=\u001b[0m \u001b[0;34m\"Could not interpret input '{}'\"\u001b[0m\u001b[0;34m.\u001b[0m\u001b[0mformat\u001b[0m\u001b[0;34m(\u001b[0m\u001b[0mvar\u001b[0m\u001b[0;34m)\u001b[0m\u001b[0;34m\u001b[0m\u001b[0;34m\u001b[0m\u001b[0m\n\u001b[0;32m--> 137\u001b[0;31m                     \u001b[0;32mraise\u001b[0m \u001b[0mValueError\u001b[0m\u001b[0;34m(\u001b[0m\u001b[0merr\u001b[0m\u001b[0;34m)\u001b[0m\u001b[0;34m\u001b[0m\u001b[0;34m\u001b[0m\u001b[0m\n\u001b[0m\u001b[1;32m    138\u001b[0m \u001b[0;34m\u001b[0m\u001b[0m\n\u001b[1;32m    139\u001b[0m             \u001b[0;31m# Extract variable names\u001b[0m\u001b[0;34m\u001b[0m\u001b[0;34m\u001b[0m\u001b[0;34m\u001b[0m\u001b[0m\n",
      "\u001b[0;31mValueError\u001b[0m: Could not interpret input 'year'"
     ]
    }
   ],
   "source": [
    "hf_lat_scat = seaborn.scatterplot(x=\"year\", y=\"hf_mean\", data=LatAm)"
   ]
  },
  {
   "cell_type": "markdown",
   "metadata": {},
   "source": [
    "#Teniendo en cuenta lo que vemos en los gráficos por región vs el gráfico de tendencias global\n",
    "#vemos que si bien no todas las regiones en particular decrecen como la pendiente de la tendencia global indica\n",
    "#la mayoría sí decrece."
   ]
  },
  {
   "cell_type": "markdown",
   "metadata": {},
   "source": [
    "#3. Si lo consideran necesario, grafiquen algunos países de Latinoamerica \n",
    "#para tratar de explicar la tendencia de la variable *pf_identity* en la región. \n",
    "#¿Cómo seleccionarion los países relevantes a esa tendencia?"
   ]
  },
  {
   "cell_type": "code",
   "execution_count": 35,
   "metadata": {},
   "outputs": [
    {
     "ename": "NameError",
     "evalue": "name 'years' is not defined",
     "output_type": "error",
     "traceback": [
      "\u001b[0;31m---------------------------------------------------------------------------\u001b[0m",
      "\u001b[0;31mNameError\u001b[0m                                 Traceback (most recent call last)",
      "\u001b[0;32m<ipython-input-35-15c568d6f359>\u001b[0m in \u001b[0;36m<module>\u001b[0;34m\u001b[0m\n\u001b[1;32m     23\u001b[0m \u001b[0;34m\u001b[0m\u001b[0m\n\u001b[1;32m     24\u001b[0m \u001b[0;31m#el amarillo es bx\u001b[0m\u001b[0;34m\u001b[0m\u001b[0;34m\u001b[0m\u001b[0;34m\u001b[0m\u001b[0m\n\u001b[0;32m---> 25\u001b[0;31m \u001b[0mpf_arg\u001b[0m\u001b[0;34m,\u001b[0m \u001b[0mhf_arg\u001b[0m \u001b[0;34m=\u001b[0m \u001b[0mget_means_by_country\u001b[0m\u001b[0;34m(\u001b[0m\u001b[0;34m'Argentina'\u001b[0m\u001b[0;34m)\u001b[0m\u001b[0;34m\u001b[0m\u001b[0;34m\u001b[0m\u001b[0m\n\u001b[0m\u001b[1;32m     26\u001b[0m \u001b[0mpf_arg_plot\u001b[0m \u001b[0;34m=\u001b[0m \u001b[0mseaborn\u001b[0m\u001b[0;34m.\u001b[0m\u001b[0mlineplot\u001b[0m\u001b[0;34m(\u001b[0m\u001b[0mx\u001b[0m\u001b[0;34m=\u001b[0m\u001b[0;34m\"year\"\u001b[0m\u001b[0;34m,\u001b[0m \u001b[0my\u001b[0m\u001b[0;34m=\u001b[0m\u001b[0;34m\"pf_mean\"\u001b[0m\u001b[0;34m,\u001b[0m \u001b[0mdata\u001b[0m\u001b[0;34m=\u001b[0m\u001b[0mpf_arg\u001b[0m\u001b[0;34m)\u001b[0m\u001b[0;34m\u001b[0m\u001b[0;34m\u001b[0m\u001b[0m\n\u001b[1;32m     27\u001b[0m \u001b[0mhf_arg_plot\u001b[0m \u001b[0;34m=\u001b[0m \u001b[0mseaborn\u001b[0m\u001b[0;34m.\u001b[0m\u001b[0mlineplot\u001b[0m\u001b[0;34m(\u001b[0m\u001b[0mx\u001b[0m\u001b[0;34m=\u001b[0m\u001b[0;34m\"year\"\u001b[0m\u001b[0;34m,\u001b[0m \u001b[0my\u001b[0m\u001b[0;34m=\u001b[0m\u001b[0;34m\"hf_mean\"\u001b[0m\u001b[0;34m,\u001b[0m \u001b[0mdata\u001b[0m\u001b[0;34m=\u001b[0m\u001b[0mhf_arg\u001b[0m\u001b[0;34m)\u001b[0m\u001b[0;34m\u001b[0m\u001b[0;34m\u001b[0m\u001b[0m\n",
      "\u001b[0;32m<ipython-input-35-15c568d6f359>\u001b[0m in \u001b[0;36mget_means_by_country\u001b[0;34m(country)\u001b[0m\n\u001b[1;32m      4\u001b[0m     \u001b[0;31m#para una region\u001b[0m\u001b[0;34m\u001b[0m\u001b[0;34m\u001b[0m\u001b[0;34m\u001b[0m\u001b[0m\n\u001b[1;32m      5\u001b[0m     \u001b[0mby_region\u001b[0m \u001b[0;34m=\u001b[0m \u001b[0mdataset_base\u001b[0m\u001b[0;34m.\u001b[0m\u001b[0mgroupby\u001b[0m\u001b[0;34m(\u001b[0m\u001b[0;34m[\u001b[0m\u001b[0;34m'countries'\u001b[0m\u001b[0;34m]\u001b[0m\u001b[0;34m)\u001b[0m\u001b[0;34m.\u001b[0m\u001b[0mget_group\u001b[0m\u001b[0;34m(\u001b[0m\u001b[0mcountry\u001b[0m\u001b[0;34m)\u001b[0m\u001b[0;34m\u001b[0m\u001b[0;34m\u001b[0m\u001b[0m\n\u001b[0;32m----> 6\u001b[0;31m     \u001b[0;32mfor\u001b[0m \u001b[0myear\u001b[0m \u001b[0;32min\u001b[0m \u001b[0myears\u001b[0m\u001b[0;34m:\u001b[0m\u001b[0;34m\u001b[0m\u001b[0;34m\u001b[0m\u001b[0m\n\u001b[0m\u001b[1;32m      7\u001b[0m         \u001b[0mgrouped\u001b[0m \u001b[0;34m=\u001b[0m \u001b[0mby_region\u001b[0m\u001b[0;34m.\u001b[0m\u001b[0mgroupby\u001b[0m\u001b[0;34m(\u001b[0m\u001b[0;34m[\u001b[0m\u001b[0;34m'year'\u001b[0m\u001b[0;34m]\u001b[0m\u001b[0;34m)\u001b[0m\u001b[0;34m\u001b[0m\u001b[0;34m\u001b[0m\u001b[0m\n\u001b[1;32m      8\u001b[0m         \u001b[0myear_data\u001b[0m \u001b[0;34m=\u001b[0m \u001b[0mgrouped\u001b[0m\u001b[0;34m.\u001b[0m\u001b[0mget_group\u001b[0m\u001b[0;34m(\u001b[0m\u001b[0myear\u001b[0m\u001b[0;34m)\u001b[0m\u001b[0;34m\u001b[0m\u001b[0;34m\u001b[0m\u001b[0m\n",
      "\u001b[0;31mNameError\u001b[0m: name 'years' is not defined"
     ]
    }
   ],
   "source": [
    "#venezuela, chile, uruguay, argentina.\n",
    "#seaborn.regplot(x=\"year\",y=\"hf_mean\",data = hf_lat)\n",
    "def get_means_by_country(country):\n",
    "    #para una region\n",
    "    by_region = dataset_base.groupby(['countries']).get_group(country)\n",
    "    for year in years:\n",
    "        grouped = by_region.groupby(['year'])\n",
    "        year_data = grouped.get_group(year)\n",
    "        pf_identities= year_data['pf_identity'].to_list()\n",
    "        pf_identities=[x for x in pf_identities if str(x) != 'nan']\n",
    "        pf_identity_mean=numpy.mean(pf_identities)\n",
    "        pf_data[year]=pf_identity_mean\n",
    "        \n",
    "        hf_scores = year_data['hf_score'].to_list()\n",
    "        hf_scores=[x for x in hf_scores if str(x) != 'nan']\n",
    "        hf_score_mean = numpy.mean(hf_scores)\n",
    "        hf_data[year]=hf_score_mean\n",
    "    \n",
    "        pf = pandas.DataFrame(pf_data.items(), columns=['year', 'pf_mean'])\n",
    "        hf = pandas.DataFrame(hf_data.items(), columns=['year', 'hf_mean'])\n",
    "\n",
    "        return pf, hf\n",
    "        \n",
    "#el amarillo es bx\n",
    "pf_arg, hf_arg = get_means_by_country('Argentina')\n",
    "pf_arg_plot = seaborn.lineplot(x=\"year\", y=\"pf_mean\", data=pf_arg)\n",
    "hf_arg_plot = seaborn.lineplot(x=\"year\", y=\"hf_mean\", data=hf_arg)\n",
    "\n"
   ]
  },
  {
   "cell_type": "code",
   "execution_count": 36,
   "metadata": {
    "scrolled": true
   },
   "outputs": [
    {
     "data": {
      "text/plain": [
       "'\"\\ncountries = [\\'Argentina\\',\\'Uruguay\\', \\'Chile\\', \\'Venezuela\\']\\ng = seaborn.FacetGrid(dataset, col=\"countries\",\\n                      margin_titles=True, aspect=2, col_wrap=2,\\n                      col_order=countries)\\ng.map(seaborn.lineplot, \"year\", \"pf_score\", color=BLUE)\\ng.map(seaborn.lineplot, \"year\", \"hf_score\", color=RED)\\ng.set(xlim=(2008, 2017))\\n\\nprint(\\'Puntajes de libertad para América Latina\\');\\n'"
      ]
     },
     "execution_count": 36,
     "metadata": {},
     "output_type": "execute_result"
    }
   ],
   "source": [
    "#no entendemos este código\n",
    "\"\"\"\"\n",
    "countries = ['Argentina','Uruguay', 'Chile', 'Venezuela']\n",
    "g = seaborn.FacetGrid(dataset, col=\"countries\",\n",
    "                      margin_titles=True, aspect=2, col_wrap=2,\n",
    "                      col_order=countries)\n",
    "g.map(seaborn.lineplot, \"year\", \"pf_score\", color=BLUE)\n",
    "g.map(seaborn.lineplot, \"year\", \"hf_score\", color=RED)\n",
    "g.set(xlim=(2008, 2017))\n",
    "\n",
    "print('Puntajes de libertad para América Latina');\n",
    "\"\"\""
   ]
  },
  {
   "cell_type": "code",
   "execution_count": 37,
   "metadata": {
    "scrolled": false
   },
   "outputs": [
    {
     "data": {
      "text/html": [
       "<div>\n",
       "<style scoped>\n",
       "    .dataframe tbody tr th:only-of-type {\n",
       "        vertical-align: middle;\n",
       "    }\n",
       "\n",
       "    .dataframe tbody tr th {\n",
       "        vertical-align: top;\n",
       "    }\n",
       "\n",
       "    .dataframe thead th {\n",
       "        text-align: right;\n",
       "    }\n",
       "</style>\n",
       "<table border=\"1\" class=\"dataframe\">\n",
       "  <thead>\n",
       "    <tr style=\"text-align: right;\">\n",
       "      <th></th>\n",
       "      <th></th>\n",
       "      <th>pf_identity_legal</th>\n",
       "      <th>pf_identity_sex_male</th>\n",
       "      <th>pf_identity_sex_female</th>\n",
       "      <th>pf_identity_sex</th>\n",
       "      <th>pf_identity_divorce</th>\n",
       "      <th>pf_identity</th>\n",
       "      <th>pf_score</th>\n",
       "      <th>pf_rank</th>\n",
       "      <th>ef_score</th>\n",
       "      <th>ef_rank</th>\n",
       "      <th>hf_score</th>\n",
       "      <th>hf_rank</th>\n",
       "    </tr>\n",
       "    <tr>\n",
       "      <th>year</th>\n",
       "      <th>countries</th>\n",
       "      <th></th>\n",
       "      <th></th>\n",
       "      <th></th>\n",
       "      <th></th>\n",
       "      <th></th>\n",
       "      <th></th>\n",
       "      <th></th>\n",
       "      <th></th>\n",
       "      <th></th>\n",
       "      <th></th>\n",
       "      <th></th>\n",
       "      <th></th>\n",
       "    </tr>\n",
       "  </thead>\n",
       "  <tbody>\n",
       "    <tr>\n",
       "      <th rowspan=\"5\" valign=\"top\">2008</th>\n",
       "      <th>Albania</th>\n",
       "      <td>NaN</td>\n",
       "      <td>10.0</td>\n",
       "      <td>10.0</td>\n",
       "      <td>10.0</td>\n",
       "      <td>7.5</td>\n",
       "      <td>8.8</td>\n",
       "      <td>8.07</td>\n",
       "      <td>49.0</td>\n",
       "      <td>7.28</td>\n",
       "      <td>46.0</td>\n",
       "      <td>7.68</td>\n",
       "      <td>45.0</td>\n",
       "    </tr>\n",
       "    <tr>\n",
       "      <th>Algeria</th>\n",
       "      <td>NaN</td>\n",
       "      <td>0.0</td>\n",
       "      <td>0.0</td>\n",
       "      <td>0.0</td>\n",
       "      <td>2.5</td>\n",
       "      <td>1.3</td>\n",
       "      <td>5.35</td>\n",
       "      <td>135.0</td>\n",
       "      <td>5.24</td>\n",
       "      <td>130.0</td>\n",
       "      <td>5.29</td>\n",
       "      <td>134.0</td>\n",
       "    </tr>\n",
       "    <tr>\n",
       "      <th>Angola</th>\n",
       "      <td>NaN</td>\n",
       "      <td>0.0</td>\n",
       "      <td>0.0</td>\n",
       "      <td>0.0</td>\n",
       "      <td>10.0</td>\n",
       "      <td>5.0</td>\n",
       "      <td>5.44</td>\n",
       "      <td>133.0</td>\n",
       "      <td>4.59</td>\n",
       "      <td>138.0</td>\n",
       "      <td>5.02</td>\n",
       "      <td>139.0</td>\n",
       "    </tr>\n",
       "    <tr>\n",
       "      <th>Argentina</th>\n",
       "      <td>NaN</td>\n",
       "      <td>10.0</td>\n",
       "      <td>10.0</td>\n",
       "      <td>10.0</td>\n",
       "      <td>10.0</td>\n",
       "      <td>10.0</td>\n",
       "      <td>8.19</td>\n",
       "      <td>44.0</td>\n",
       "      <td>6.01</td>\n",
       "      <td>111.0</td>\n",
       "      <td>7.10</td>\n",
       "      <td>69.0</td>\n",
       "    </tr>\n",
       "    <tr>\n",
       "      <th>Armenia</th>\n",
       "      <td>NaN</td>\n",
       "      <td>10.0</td>\n",
       "      <td>10.0</td>\n",
       "      <td>10.0</td>\n",
       "      <td>7.5</td>\n",
       "      <td>8.8</td>\n",
       "      <td>7.21</td>\n",
       "      <td>79.0</td>\n",
       "      <td>7.63</td>\n",
       "      <td>25.0</td>\n",
       "      <td>7.42</td>\n",
       "      <td>53.0</td>\n",
       "    </tr>\n",
       "    <tr>\n",
       "      <th>...</th>\n",
       "      <th>...</th>\n",
       "      <td>...</td>\n",
       "      <td>...</td>\n",
       "      <td>...</td>\n",
       "      <td>...</td>\n",
       "      <td>...</td>\n",
       "      <td>...</td>\n",
       "      <td>...</td>\n",
       "      <td>...</td>\n",
       "      <td>...</td>\n",
       "      <td>...</td>\n",
       "      <td>...</td>\n",
       "      <td>...</td>\n",
       "    </tr>\n",
       "    <tr>\n",
       "      <th rowspan=\"5\" valign=\"top\">2017</th>\n",
       "      <th>Venezuela</th>\n",
       "      <td>0.0</td>\n",
       "      <td>10.0</td>\n",
       "      <td>10.0</td>\n",
       "      <td>10.0</td>\n",
       "      <td>2.5</td>\n",
       "      <td>4.2</td>\n",
       "      <td>5.03</td>\n",
       "      <td>149.0</td>\n",
       "      <td>2.58</td>\n",
       "      <td>162.0</td>\n",
       "      <td>3.80</td>\n",
       "      <td>161.0</td>\n",
       "    </tr>\n",
       "    <tr>\n",
       "      <th>Vietnam</th>\n",
       "      <td>10.0</td>\n",
       "      <td>10.0</td>\n",
       "      <td>10.0</td>\n",
       "      <td>10.0</td>\n",
       "      <td>7.5</td>\n",
       "      <td>9.2</td>\n",
       "      <td>6.31</td>\n",
       "      <td>109.0</td>\n",
       "      <td>6.27</td>\n",
       "      <td>119.0</td>\n",
       "      <td>6.29</td>\n",
       "      <td>117.0</td>\n",
       "    </tr>\n",
       "    <tr>\n",
       "      <th>Yemen, Rep.</th>\n",
       "      <td>NaN</td>\n",
       "      <td>0.0</td>\n",
       "      <td>0.0</td>\n",
       "      <td>0.0</td>\n",
       "      <td>0.0</td>\n",
       "      <td>0.0</td>\n",
       "      <td>2.75</td>\n",
       "      <td>161.0</td>\n",
       "      <td>5.84</td>\n",
       "      <td>140.0</td>\n",
       "      <td>4.30</td>\n",
       "      <td>160.0</td>\n",
       "    </tr>\n",
       "    <tr>\n",
       "      <th>Zambia</th>\n",
       "      <td>10.0</td>\n",
       "      <td>0.0</td>\n",
       "      <td>0.0</td>\n",
       "      <td>0.0</td>\n",
       "      <td>7.5</td>\n",
       "      <td>5.8</td>\n",
       "      <td>6.13</td>\n",
       "      <td>117.0</td>\n",
       "      <td>6.84</td>\n",
       "      <td>83.0</td>\n",
       "      <td>6.49</td>\n",
       "      <td>108.0</td>\n",
       "    </tr>\n",
       "    <tr>\n",
       "      <th>Zimbabwe</th>\n",
       "      <td>0.0</td>\n",
       "      <td>0.0</td>\n",
       "      <td>10.0</td>\n",
       "      <td>5.0</td>\n",
       "      <td>7.5</td>\n",
       "      <td>4.2</td>\n",
       "      <td>5.61</td>\n",
       "      <td>136.0</td>\n",
       "      <td>5.69</td>\n",
       "      <td>146.0</td>\n",
       "      <td>5.65</td>\n",
       "      <td>142.0</td>\n",
       "    </tr>\n",
       "  </tbody>\n",
       "</table>\n",
       "<p>1620 rows × 12 columns</p>\n",
       "</div>"
      ],
      "text/plain": [
       "                  pf_identity_legal  pf_identity_sex_male  \\\n",
       "year countries                                              \n",
       "2008 Albania                    NaN                  10.0   \n",
       "     Algeria                    NaN                   0.0   \n",
       "     Angola                     NaN                   0.0   \n",
       "     Argentina                  NaN                  10.0   \n",
       "     Armenia                    NaN                  10.0   \n",
       "...                             ...                   ...   \n",
       "2017 Venezuela                  0.0                  10.0   \n",
       "     Vietnam                   10.0                  10.0   \n",
       "     Yemen, Rep.                NaN                   0.0   \n",
       "     Zambia                    10.0                   0.0   \n",
       "     Zimbabwe                   0.0                   0.0   \n",
       "\n",
       "                  pf_identity_sex_female  pf_identity_sex  \\\n",
       "year countries                                              \n",
       "2008 Albania                        10.0             10.0   \n",
       "     Algeria                         0.0              0.0   \n",
       "     Angola                          0.0              0.0   \n",
       "     Argentina                      10.0             10.0   \n",
       "     Armenia                        10.0             10.0   \n",
       "...                                  ...              ...   \n",
       "2017 Venezuela                      10.0             10.0   \n",
       "     Vietnam                        10.0             10.0   \n",
       "     Yemen, Rep.                     0.0              0.0   \n",
       "     Zambia                          0.0              0.0   \n",
       "     Zimbabwe                       10.0              5.0   \n",
       "\n",
       "                  pf_identity_divorce  pf_identity  pf_score  pf_rank  \\\n",
       "year countries                                                          \n",
       "2008 Albania                      7.5          8.8      8.07     49.0   \n",
       "     Algeria                      2.5          1.3      5.35    135.0   \n",
       "     Angola                      10.0          5.0      5.44    133.0   \n",
       "     Argentina                   10.0         10.0      8.19     44.0   \n",
       "     Armenia                      7.5          8.8      7.21     79.0   \n",
       "...                               ...          ...       ...      ...   \n",
       "2017 Venezuela                    2.5          4.2      5.03    149.0   \n",
       "     Vietnam                      7.5          9.2      6.31    109.0   \n",
       "     Yemen, Rep.                  0.0          0.0      2.75    161.0   \n",
       "     Zambia                       7.5          5.8      6.13    117.0   \n",
       "     Zimbabwe                     7.5          4.2      5.61    136.0   \n",
       "\n",
       "                  ef_score  ef_rank  hf_score  hf_rank  \n",
       "year countries                                          \n",
       "2008 Albania          7.28     46.0      7.68     45.0  \n",
       "     Algeria          5.24    130.0      5.29    134.0  \n",
       "     Angola           4.59    138.0      5.02    139.0  \n",
       "     Argentina        6.01    111.0      7.10     69.0  \n",
       "     Armenia          7.63     25.0      7.42     53.0  \n",
       "...                    ...      ...       ...      ...  \n",
       "2017 Venezuela        2.58    162.0      3.80    161.0  \n",
       "     Vietnam          6.27    119.0      6.29    117.0  \n",
       "     Yemen, Rep.      5.84    140.0      4.30    160.0  \n",
       "     Zambia           6.84     83.0      6.49    108.0  \n",
       "     Zimbabwe         5.69    146.0      5.65    142.0  \n",
       "\n",
       "[1620 rows x 12 columns]"
      ]
     },
     "execution_count": 37,
     "metadata": {},
     "output_type": "execute_result"
    }
   ],
   "source": [
    "data_latams = dataset_base.groupby([\"year\", \"countries\"]).mean()\n",
    "data_latams\n",
    "#.get_group((2014,\"Argentina\"))"
   ]
  },
  {
   "cell_type": "code",
   "execution_count": 38,
   "metadata": {},
   "outputs": [
    {
     "data": {
      "text/html": [
       "<div>\n",
       "<style scoped>\n",
       "    .dataframe tbody tr th:only-of-type {\n",
       "        vertical-align: middle;\n",
       "    }\n",
       "\n",
       "    .dataframe tbody tr th {\n",
       "        vertical-align: top;\n",
       "    }\n",
       "\n",
       "    .dataframe thead th {\n",
       "        text-align: right;\n",
       "    }\n",
       "</style>\n",
       "<table border=\"1\" class=\"dataframe\">\n",
       "  <thead>\n",
       "    <tr style=\"text-align: right;\">\n",
       "      <th></th>\n",
       "      <th>year</th>\n",
       "      <th>ISO_code</th>\n",
       "      <th>countries</th>\n",
       "      <th>region</th>\n",
       "      <th>pf_identity_legal</th>\n",
       "      <th>pf_identity_sex_male</th>\n",
       "      <th>pf_identity_sex_female</th>\n",
       "      <th>pf_identity_sex</th>\n",
       "      <th>pf_identity_divorce</th>\n",
       "      <th>pf_identity</th>\n",
       "      <th>pf_score</th>\n",
       "      <th>pf_rank</th>\n",
       "      <th>ef_score</th>\n",
       "      <th>ef_rank</th>\n",
       "      <th>hf_score</th>\n",
       "      <th>hf_rank</th>\n",
       "    </tr>\n",
       "  </thead>\n",
       "  <tbody>\n",
       "    <tr>\n",
       "      <th>0</th>\n",
       "      <td>2017</td>\n",
       "      <td>ALB</td>\n",
       "      <td>Albania</td>\n",
       "      <td>Eastern Europe</td>\n",
       "      <td>0.0</td>\n",
       "      <td>10.0</td>\n",
       "      <td>10.0</td>\n",
       "      <td>10.0</td>\n",
       "      <td>7.5</td>\n",
       "      <td>5.8</td>\n",
       "      <td>8.01</td>\n",
       "      <td>46.0</td>\n",
       "      <td>7.67</td>\n",
       "      <td>30.0</td>\n",
       "      <td>7.84</td>\n",
       "      <td>38.0</td>\n",
       "    </tr>\n",
       "    <tr>\n",
       "      <th>1</th>\n",
       "      <td>2017</td>\n",
       "      <td>DZA</td>\n",
       "      <td>Algeria</td>\n",
       "      <td>Middle East &amp; North Africa</td>\n",
       "      <td>NaN</td>\n",
       "      <td>0.0</td>\n",
       "      <td>0.0</td>\n",
       "      <td>0.0</td>\n",
       "      <td>0.0</td>\n",
       "      <td>0.0</td>\n",
       "      <td>5.20</td>\n",
       "      <td>146.0</td>\n",
       "      <td>4.77</td>\n",
       "      <td>159.0</td>\n",
       "      <td>4.99</td>\n",
       "      <td>155.0</td>\n",
       "    </tr>\n",
       "    <tr>\n",
       "      <th>2</th>\n",
       "      <td>2017</td>\n",
       "      <td>AGO</td>\n",
       "      <td>Angola</td>\n",
       "      <td>Sub-Saharan Africa</td>\n",
       "      <td>10.0</td>\n",
       "      <td>0.0</td>\n",
       "      <td>0.0</td>\n",
       "      <td>0.0</td>\n",
       "      <td>5.0</td>\n",
       "      <td>5.0</td>\n",
       "      <td>5.98</td>\n",
       "      <td>121.0</td>\n",
       "      <td>4.83</td>\n",
       "      <td>158.0</td>\n",
       "      <td>5.40</td>\n",
       "      <td>151.0</td>\n",
       "    </tr>\n",
       "    <tr>\n",
       "      <th>3</th>\n",
       "      <td>2017</td>\n",
       "      <td>ARG</td>\n",
       "      <td>Argentina</td>\n",
       "      <td>LatAm</td>\n",
       "      <td>10.0</td>\n",
       "      <td>10.0</td>\n",
       "      <td>10.0</td>\n",
       "      <td>10.0</td>\n",
       "      <td>10.0</td>\n",
       "      <td>10.0</td>\n",
       "      <td>8.04</td>\n",
       "      <td>41.0</td>\n",
       "      <td>5.67</td>\n",
       "      <td>147.0</td>\n",
       "      <td>6.86</td>\n",
       "      <td>77.0</td>\n",
       "    </tr>\n",
       "    <tr>\n",
       "      <th>4</th>\n",
       "      <td>2017</td>\n",
       "      <td>ARM</td>\n",
       "      <td>Armenia</td>\n",
       "      <td>Caucasus &amp; Central Asia</td>\n",
       "      <td>7.0</td>\n",
       "      <td>10.0</td>\n",
       "      <td>10.0</td>\n",
       "      <td>10.0</td>\n",
       "      <td>7.5</td>\n",
       "      <td>8.2</td>\n",
       "      <td>7.15</td>\n",
       "      <td>72.0</td>\n",
       "      <td>7.70</td>\n",
       "      <td>27.0</td>\n",
       "      <td>7.42</td>\n",
       "      <td>54.0</td>\n",
       "    </tr>\n",
       "  </tbody>\n",
       "</table>\n",
       "</div>"
      ],
      "text/plain": [
       "   year ISO_code  countries                      region  pf_identity_legal  \\\n",
       "0  2017      ALB    Albania              Eastern Europe                0.0   \n",
       "1  2017      DZA    Algeria  Middle East & North Africa                NaN   \n",
       "2  2017      AGO     Angola          Sub-Saharan Africa               10.0   \n",
       "3  2017      ARG  Argentina                       LatAm               10.0   \n",
       "4  2017      ARM    Armenia     Caucasus & Central Asia                7.0   \n",
       "\n",
       "   pf_identity_sex_male  pf_identity_sex_female  pf_identity_sex  \\\n",
       "0                  10.0                    10.0             10.0   \n",
       "1                   0.0                     0.0              0.0   \n",
       "2                   0.0                     0.0              0.0   \n",
       "3                  10.0                    10.0             10.0   \n",
       "4                  10.0                    10.0             10.0   \n",
       "\n",
       "   pf_identity_divorce  pf_identity  pf_score  pf_rank  ef_score  ef_rank  \\\n",
       "0                  7.5          5.8      8.01     46.0      7.67     30.0   \n",
       "1                  0.0          0.0      5.20    146.0      4.77    159.0   \n",
       "2                  5.0          5.0      5.98    121.0      4.83    158.0   \n",
       "3                 10.0         10.0      8.04     41.0      5.67    147.0   \n",
       "4                  7.5          8.2      7.15     72.0      7.70     27.0   \n",
       "\n",
       "   hf_score  hf_rank  \n",
       "0      7.84     38.0  \n",
       "1      4.99    155.0  \n",
       "2      5.40    151.0  \n",
       "3      6.86     77.0  \n",
       "4      7.42     54.0  "
      ]
     },
     "execution_count": 38,
     "metadata": {},
     "output_type": "execute_result"
    }
   ],
   "source": [
    "dataset_base.head()"
   ]
  },
  {
   "cell_type": "code",
   "execution_count": null,
   "metadata": {},
   "outputs": [],
   "source": [
    "#no entendemos este código\n",
    "g = seaborn.FacetGrid(dataset_base, col=\"countries\",\n",
    "                      margin_titles=True, aspect=2, col_wrap=2, \n",
    "                        col_order=countries)\n",
    "g.map(seaborn.regplot,\"year\", \"pf_score\", color=GREEN)\n",
    "g.map(seaborn.regplot,\"year\", \"hf_score\", color=YELLOW)\n",
    "g.set(xlim=(2008, 2017))\n",
    "\n",
    "print('Tendencias de los puntajes de libertad para América Latina');"
   ]
  },
  {
   "cell_type": "code",
   "execution_count": 40,
   "metadata": {},
   "outputs": [
    {
     "ename": "NameError",
     "evalue": "name 'years' is not defined",
     "output_type": "error",
     "traceback": [
      "\u001b[0;31m---------------------------------------------------------------------------\u001b[0m",
      "\u001b[0;31mNameError\u001b[0m                                 Traceback (most recent call last)",
      "\u001b[0;32m<ipython-input-40-2934a78b6e13>\u001b[0m in \u001b[0;36m<module>\u001b[0;34m\u001b[0m\n\u001b[0;32m----> 1\u001b[0;31m \u001b[0mpf_ur\u001b[0m\u001b[0;34m,\u001b[0m \u001b[0mhf_ur\u001b[0m \u001b[0;34m=\u001b[0m \u001b[0mget_means_by_country\u001b[0m\u001b[0;34m(\u001b[0m\u001b[0;34m'Uruguay'\u001b[0m\u001b[0;34m)\u001b[0m\u001b[0;34m\u001b[0m\u001b[0;34m\u001b[0m\u001b[0m\n\u001b[0m\u001b[1;32m      2\u001b[0m \u001b[0;31m#pf_ur_plot = seaborn.lineplot(x=\"year\", y=\"pf_mean\", data=pf_ur)\u001b[0m\u001b[0;34m\u001b[0m\u001b[0;34m\u001b[0m\u001b[0;34m\u001b[0m\u001b[0m\n\u001b[1;32m      3\u001b[0m \u001b[0mhf_ur_plot\u001b[0m \u001b[0;34m=\u001b[0m \u001b[0mseaborn\u001b[0m\u001b[0;34m.\u001b[0m\u001b[0mlineplot\u001b[0m\u001b[0;34m(\u001b[0m\u001b[0mx\u001b[0m\u001b[0;34m=\u001b[0m\u001b[0;34m\"year\"\u001b[0m\u001b[0;34m,\u001b[0m \u001b[0my\u001b[0m\u001b[0;34m=\u001b[0m\u001b[0;34m\"hf_mean\"\u001b[0m\u001b[0;34m,\u001b[0m \u001b[0mdata\u001b[0m\u001b[0;34m=\u001b[0m\u001b[0mhf_ur\u001b[0m\u001b[0;34m)\u001b[0m\u001b[0;34m\u001b[0m\u001b[0;34m\u001b[0m\u001b[0m\n\u001b[1;32m      4\u001b[0m \u001b[0;31m#ur_tend_pf = seaborn.regplot(x=\"year\",y=\"pf_mean\",data = pf_ur)\u001b[0m\u001b[0;34m\u001b[0m\u001b[0;34m\u001b[0m\u001b[0;34m\u001b[0m\u001b[0m\n",
      "\u001b[0;32m<ipython-input-35-15c568d6f359>\u001b[0m in \u001b[0;36mget_means_by_country\u001b[0;34m(country)\u001b[0m\n\u001b[1;32m      4\u001b[0m     \u001b[0;31m#para una region\u001b[0m\u001b[0;34m\u001b[0m\u001b[0;34m\u001b[0m\u001b[0;34m\u001b[0m\u001b[0m\n\u001b[1;32m      5\u001b[0m     \u001b[0mby_region\u001b[0m \u001b[0;34m=\u001b[0m \u001b[0mdataset_base\u001b[0m\u001b[0;34m.\u001b[0m\u001b[0mgroupby\u001b[0m\u001b[0;34m(\u001b[0m\u001b[0;34m[\u001b[0m\u001b[0;34m'countries'\u001b[0m\u001b[0;34m]\u001b[0m\u001b[0;34m)\u001b[0m\u001b[0;34m.\u001b[0m\u001b[0mget_group\u001b[0m\u001b[0;34m(\u001b[0m\u001b[0mcountry\u001b[0m\u001b[0;34m)\u001b[0m\u001b[0;34m\u001b[0m\u001b[0;34m\u001b[0m\u001b[0m\n\u001b[0;32m----> 6\u001b[0;31m     \u001b[0;32mfor\u001b[0m \u001b[0myear\u001b[0m \u001b[0;32min\u001b[0m \u001b[0myears\u001b[0m\u001b[0;34m:\u001b[0m\u001b[0;34m\u001b[0m\u001b[0;34m\u001b[0m\u001b[0m\n\u001b[0m\u001b[1;32m      7\u001b[0m         \u001b[0mgrouped\u001b[0m \u001b[0;34m=\u001b[0m \u001b[0mby_region\u001b[0m\u001b[0;34m.\u001b[0m\u001b[0mgroupby\u001b[0m\u001b[0;34m(\u001b[0m\u001b[0;34m[\u001b[0m\u001b[0;34m'year'\u001b[0m\u001b[0;34m]\u001b[0m\u001b[0;34m)\u001b[0m\u001b[0;34m\u001b[0m\u001b[0;34m\u001b[0m\u001b[0m\n\u001b[1;32m      8\u001b[0m         \u001b[0myear_data\u001b[0m \u001b[0;34m=\u001b[0m \u001b[0mgrouped\u001b[0m\u001b[0;34m.\u001b[0m\u001b[0mget_group\u001b[0m\u001b[0;34m(\u001b[0m\u001b[0myear\u001b[0m\u001b[0;34m)\u001b[0m\u001b[0;34m\u001b[0m\u001b[0;34m\u001b[0m\u001b[0m\n",
      "\u001b[0;31mNameError\u001b[0m: name 'years' is not defined"
     ]
    }
   ],
   "source": [
    "pf_ur, hf_ur = get_means_by_country('Uruguay')\n",
    "#pf_ur_plot = seaborn.lineplot(x=\"year\", y=\"pf_mean\", data=pf_ur)\n",
    "hf_ur_plot = seaborn.lineplot(x=\"year\", y=\"hf_mean\", data=hf_ur)\n",
    "#ur_tend_pf = seaborn.regplot(x=\"year\",y=\"pf_mean\",data = pf_ur)\n"
   ]
  },
  {
   "cell_type": "code",
   "execution_count": 42,
   "metadata": {},
   "outputs": [
    {
     "ename": "NameError",
     "evalue": "name 'years' is not defined",
     "output_type": "error",
     "traceback": [
      "\u001b[0;31m---------------------------------------------------------------------------\u001b[0m",
      "\u001b[0;31mNameError\u001b[0m                                 Traceback (most recent call last)",
      "\u001b[0;32m<ipython-input-42-810ea4be9e49>\u001b[0m in \u001b[0;36m<module>\u001b[0;34m\u001b[0m\n\u001b[0;32m----> 1\u001b[0;31m \u001b[0mpf_ch\u001b[0m\u001b[0;34m,\u001b[0m \u001b[0mhf_ch\u001b[0m \u001b[0;34m=\u001b[0m \u001b[0mget_means_by_country\u001b[0m\u001b[0;34m(\u001b[0m\u001b[0;34m'Chile'\u001b[0m\u001b[0;34m)\u001b[0m\u001b[0;34m\u001b[0m\u001b[0;34m\u001b[0m\u001b[0m\n\u001b[0m\u001b[1;32m      2\u001b[0m \u001b[0mpf_ch_plot\u001b[0m \u001b[0;34m=\u001b[0m \u001b[0mseaborn\u001b[0m\u001b[0;34m.\u001b[0m\u001b[0mlineplot\u001b[0m\u001b[0;34m(\u001b[0m\u001b[0mx\u001b[0m\u001b[0;34m=\u001b[0m\u001b[0;34m\"year\"\u001b[0m\u001b[0;34m,\u001b[0m \u001b[0my\u001b[0m\u001b[0;34m=\u001b[0m\u001b[0;34m\"pf_mean\"\u001b[0m\u001b[0;34m,\u001b[0m \u001b[0mdata\u001b[0m\u001b[0;34m=\u001b[0m\u001b[0mpf_ch\u001b[0m\u001b[0;34m)\u001b[0m\u001b[0;34m\u001b[0m\u001b[0;34m\u001b[0m\u001b[0m\n\u001b[1;32m      3\u001b[0m \u001b[0mhf_ch_plot\u001b[0m \u001b[0;34m=\u001b[0m \u001b[0mseaborn\u001b[0m\u001b[0;34m.\u001b[0m\u001b[0mlineplot\u001b[0m\u001b[0;34m(\u001b[0m\u001b[0mx\u001b[0m\u001b[0;34m=\u001b[0m\u001b[0;34m\"year\"\u001b[0m\u001b[0;34m,\u001b[0m \u001b[0my\u001b[0m\u001b[0;34m=\u001b[0m\u001b[0;34m\"hf_mean\"\u001b[0m\u001b[0;34m,\u001b[0m \u001b[0mdata\u001b[0m\u001b[0;34m=\u001b[0m\u001b[0mhf_ch\u001b[0m\u001b[0;34m)\u001b[0m\u001b[0;34m\u001b[0m\u001b[0;34m\u001b[0m\u001b[0m\n\u001b[1;32m      4\u001b[0m \u001b[0mch_tend_pf\u001b[0m \u001b[0;34m=\u001b[0m \u001b[0mseaborn\u001b[0m\u001b[0;34m.\u001b[0m\u001b[0mregplot\u001b[0m\u001b[0;34m(\u001b[0m\u001b[0mx\u001b[0m\u001b[0;34m=\u001b[0m\u001b[0;34m\"year\"\u001b[0m\u001b[0;34m,\u001b[0m\u001b[0my\u001b[0m\u001b[0;34m=\u001b[0m\u001b[0;34m\"pf_mean\"\u001b[0m\u001b[0;34m,\u001b[0m\u001b[0mdata\u001b[0m \u001b[0;34m=\u001b[0m \u001b[0mpf_ch\u001b[0m\u001b[0;34m)\u001b[0m\u001b[0;34m\u001b[0m\u001b[0;34m\u001b[0m\u001b[0m\n",
      "\u001b[0;32m<ipython-input-35-15c568d6f359>\u001b[0m in \u001b[0;36mget_means_by_country\u001b[0;34m(country)\u001b[0m\n\u001b[1;32m      4\u001b[0m     \u001b[0;31m#para una region\u001b[0m\u001b[0;34m\u001b[0m\u001b[0;34m\u001b[0m\u001b[0;34m\u001b[0m\u001b[0m\n\u001b[1;32m      5\u001b[0m     \u001b[0mby_region\u001b[0m \u001b[0;34m=\u001b[0m \u001b[0mdataset_base\u001b[0m\u001b[0;34m.\u001b[0m\u001b[0mgroupby\u001b[0m\u001b[0;34m(\u001b[0m\u001b[0;34m[\u001b[0m\u001b[0;34m'countries'\u001b[0m\u001b[0;34m]\u001b[0m\u001b[0;34m)\u001b[0m\u001b[0;34m.\u001b[0m\u001b[0mget_group\u001b[0m\u001b[0;34m(\u001b[0m\u001b[0mcountry\u001b[0m\u001b[0;34m)\u001b[0m\u001b[0;34m\u001b[0m\u001b[0;34m\u001b[0m\u001b[0m\n\u001b[0;32m----> 6\u001b[0;31m     \u001b[0;32mfor\u001b[0m \u001b[0myear\u001b[0m \u001b[0;32min\u001b[0m \u001b[0myears\u001b[0m\u001b[0;34m:\u001b[0m\u001b[0;34m\u001b[0m\u001b[0;34m\u001b[0m\u001b[0m\n\u001b[0m\u001b[1;32m      7\u001b[0m         \u001b[0mgrouped\u001b[0m \u001b[0;34m=\u001b[0m \u001b[0mby_region\u001b[0m\u001b[0;34m.\u001b[0m\u001b[0mgroupby\u001b[0m\u001b[0;34m(\u001b[0m\u001b[0;34m[\u001b[0m\u001b[0;34m'year'\u001b[0m\u001b[0;34m]\u001b[0m\u001b[0;34m)\u001b[0m\u001b[0;34m\u001b[0m\u001b[0;34m\u001b[0m\u001b[0m\n\u001b[1;32m      8\u001b[0m         \u001b[0myear_data\u001b[0m \u001b[0;34m=\u001b[0m \u001b[0mgrouped\u001b[0m\u001b[0;34m.\u001b[0m\u001b[0mget_group\u001b[0m\u001b[0;34m(\u001b[0m\u001b[0myear\u001b[0m\u001b[0;34m)\u001b[0m\u001b[0;34m\u001b[0m\u001b[0;34m\u001b[0m\u001b[0m\n",
      "\u001b[0;31mNameError\u001b[0m: name 'years' is not defined"
     ]
    }
   ],
   "source": [
    "pf_ch, hf_ch = get_means_by_country('Chile')\n",
    "pf_ch_plot = seaborn.lineplot(x=\"year\", y=\"pf_mean\", data=pf_ch)\n",
    "hf_ch_plot = seaborn.lineplot(x=\"year\", y=\"hf_mean\", data=hf_ch)\n",
    "ch_tend_pf = seaborn.regplot(x=\"year\",y=\"pf_mean\",data = pf_ch)\n"
   ]
  },
  {
   "cell_type": "code",
   "execution_count": 43,
   "metadata": {},
   "outputs": [
    {
     "ename": "NameError",
     "evalue": "name 'years' is not defined",
     "output_type": "error",
     "traceback": [
      "\u001b[0;31m---------------------------------------------------------------------------\u001b[0m",
      "\u001b[0;31mNameError\u001b[0m                                 Traceback (most recent call last)",
      "\u001b[0;32m<ipython-input-43-e402c756cbc0>\u001b[0m in \u001b[0;36m<module>\u001b[0;34m\u001b[0m\n\u001b[0;32m----> 1\u001b[0;31m \u001b[0mpf_vz\u001b[0m\u001b[0;34m,\u001b[0m \u001b[0mhf_vz\u001b[0m \u001b[0;34m=\u001b[0m \u001b[0mget_means_by_country\u001b[0m\u001b[0;34m(\u001b[0m\u001b[0;34m'Venezuela'\u001b[0m\u001b[0;34m)\u001b[0m\u001b[0;34m\u001b[0m\u001b[0;34m\u001b[0m\u001b[0m\n\u001b[0m\u001b[1;32m      2\u001b[0m \u001b[0mpf_vz_plot\u001b[0m \u001b[0;34m=\u001b[0m \u001b[0mseaborn\u001b[0m\u001b[0;34m.\u001b[0m\u001b[0mlineplot\u001b[0m\u001b[0;34m(\u001b[0m\u001b[0mx\u001b[0m\u001b[0;34m=\u001b[0m\u001b[0;34m\"year\"\u001b[0m\u001b[0;34m,\u001b[0m \u001b[0my\u001b[0m\u001b[0;34m=\u001b[0m\u001b[0;34m\"pf_mean\"\u001b[0m\u001b[0;34m,\u001b[0m \u001b[0mdata\u001b[0m\u001b[0;34m=\u001b[0m\u001b[0mpf_vz\u001b[0m\u001b[0;34m)\u001b[0m\u001b[0;34m\u001b[0m\u001b[0;34m\u001b[0m\u001b[0m\n\u001b[1;32m      3\u001b[0m \u001b[0mhf_vz_plot\u001b[0m \u001b[0;34m=\u001b[0m \u001b[0mseaborn\u001b[0m\u001b[0;34m.\u001b[0m\u001b[0mlineplot\u001b[0m\u001b[0;34m(\u001b[0m\u001b[0mx\u001b[0m\u001b[0;34m=\u001b[0m\u001b[0;34m\"year\"\u001b[0m\u001b[0;34m,\u001b[0m \u001b[0my\u001b[0m\u001b[0;34m=\u001b[0m\u001b[0;34m\"hf_mean\"\u001b[0m\u001b[0;34m,\u001b[0m \u001b[0mdata\u001b[0m\u001b[0;34m=\u001b[0m\u001b[0mhf_vz\u001b[0m\u001b[0;34m)\u001b[0m\u001b[0;34m\u001b[0m\u001b[0;34m\u001b[0m\u001b[0m\n\u001b[1;32m      4\u001b[0m \u001b[0mvz_tend_pf\u001b[0m \u001b[0;34m=\u001b[0m \u001b[0mseaborn\u001b[0m\u001b[0;34m.\u001b[0m\u001b[0mregplot\u001b[0m\u001b[0;34m(\u001b[0m\u001b[0mx\u001b[0m\u001b[0;34m=\u001b[0m\u001b[0;34m\"year\"\u001b[0m\u001b[0;34m,\u001b[0m\u001b[0my\u001b[0m\u001b[0;34m=\u001b[0m\u001b[0;34m\"pf_mean\"\u001b[0m\u001b[0;34m,\u001b[0m\u001b[0mdata\u001b[0m \u001b[0;34m=\u001b[0m \u001b[0mpf_vz\u001b[0m\u001b[0;34m)\u001b[0m\u001b[0;34m\u001b[0m\u001b[0;34m\u001b[0m\u001b[0m\n",
      "\u001b[0;32m<ipython-input-35-15c568d6f359>\u001b[0m in \u001b[0;36mget_means_by_country\u001b[0;34m(country)\u001b[0m\n\u001b[1;32m      4\u001b[0m     \u001b[0;31m#para una region\u001b[0m\u001b[0;34m\u001b[0m\u001b[0;34m\u001b[0m\u001b[0;34m\u001b[0m\u001b[0m\n\u001b[1;32m      5\u001b[0m     \u001b[0mby_region\u001b[0m \u001b[0;34m=\u001b[0m \u001b[0mdataset_base\u001b[0m\u001b[0;34m.\u001b[0m\u001b[0mgroupby\u001b[0m\u001b[0;34m(\u001b[0m\u001b[0;34m[\u001b[0m\u001b[0;34m'countries'\u001b[0m\u001b[0;34m]\u001b[0m\u001b[0;34m)\u001b[0m\u001b[0;34m.\u001b[0m\u001b[0mget_group\u001b[0m\u001b[0;34m(\u001b[0m\u001b[0mcountry\u001b[0m\u001b[0;34m)\u001b[0m\u001b[0;34m\u001b[0m\u001b[0;34m\u001b[0m\u001b[0m\n\u001b[0;32m----> 6\u001b[0;31m     \u001b[0;32mfor\u001b[0m \u001b[0myear\u001b[0m \u001b[0;32min\u001b[0m \u001b[0myears\u001b[0m\u001b[0;34m:\u001b[0m\u001b[0;34m\u001b[0m\u001b[0;34m\u001b[0m\u001b[0m\n\u001b[0m\u001b[1;32m      7\u001b[0m         \u001b[0mgrouped\u001b[0m \u001b[0;34m=\u001b[0m \u001b[0mby_region\u001b[0m\u001b[0;34m.\u001b[0m\u001b[0mgroupby\u001b[0m\u001b[0;34m(\u001b[0m\u001b[0;34m[\u001b[0m\u001b[0;34m'year'\u001b[0m\u001b[0;34m]\u001b[0m\u001b[0;34m)\u001b[0m\u001b[0;34m\u001b[0m\u001b[0;34m\u001b[0m\u001b[0m\n\u001b[1;32m      8\u001b[0m         \u001b[0myear_data\u001b[0m \u001b[0;34m=\u001b[0m \u001b[0mgrouped\u001b[0m\u001b[0;34m.\u001b[0m\u001b[0mget_group\u001b[0m\u001b[0;34m(\u001b[0m\u001b[0myear\u001b[0m\u001b[0;34m)\u001b[0m\u001b[0;34m\u001b[0m\u001b[0;34m\u001b[0m\u001b[0m\n",
      "\u001b[0;31mNameError\u001b[0m: name 'years' is not defined"
     ]
    }
   ],
   "source": [
    "pf_vz, hf_vz = get_means_by_country('Venezuela')\n",
    "pf_vz_plot = seaborn.lineplot(x=\"year\", y=\"pf_mean\", data=pf_vz)\n",
    "hf_vz_plot = seaborn.lineplot(x=\"year\", y=\"hf_mean\", data=hf_vz)\n",
    "vz_tend_pf = seaborn.regplot(x=\"year\",y=\"pf_mean\",data = pf_vz)\n"
   ]
  },
  {
   "cell_type": "markdown",
   "metadata": {
    "colab_type": "text",
    "id": "z7cBpSPrFZCn"
   },
   "source": [
    "## 3. Distribuciones - Karen y Pablo \n",
    "  1. Graficar en un mismo histograma la distribución de la variable *pf_identity* en global, y en Latinoamérica y el caribe. Repetir para la variable *hf_score*. ¿Visualmente, a qué tipo de distribución corresponde cada variable? ¿Es correcto utilizar todo el conjunto de valores disponibles para esa region en estos gráficos?\n"
   ]
  },
  {
   "cell_type": "markdown",
   "metadata": {},
   "source": [
    "https://relopezbriega.github.io/blog/2016/06/29/distribuciones-de-probabilidad-con-python/"
   ]
  },
  {
   "cell_type": "code",
   "execution_count": 44,
   "metadata": {},
   "outputs": [
    {
     "data": {
      "text/plain": [
       "<matplotlib.axes._subplots.AxesSubplot at 0x7fc37d172250>"
      ]
     },
     "execution_count": 44,
     "metadata": {},
     "output_type": "execute_result"
    },
    {
     "data": {
      "image/png": "[encoded data removed]",
      "text/plain": [
       "<Figure size 720x432 with 1 Axes>"
      ]
     },
     "metadata": {
      "needs_background": "light"
     },
     "output_type": "display_data"
    }
   ],
   "source": [
    "plt.figure(figsize=(10,6))\n",
    "plt.title('Distribución la variable identidad en la global')\n",
    "seaborn.distplot(dataset_base.pf_identity,kde=False)\n"
   ]
  },
  {
   "cell_type": "markdown",
   "metadata": {},
   "source": [
    "#### Distribución\n",
    "Pareciera tener distribución exponencial.\n",
    "La muestra está concentrada hacia la derecha, es decir, hay una probabilidad más alta, dada una muestra, de encontrarse con una pf_identity con valor alto"
   ]
  },
  {
   "cell_type": "code",
   "execution_count": 45,
   "metadata": {},
   "outputs": [
    {
     "data": {
      "text/plain": [
       "<matplotlib.axes._subplots.AxesSubplot at 0x7fc3753a4ed0>"
      ]
     },
     "execution_count": 45,
     "metadata": {},
     "output_type": "execute_result"
    },
    {
     "data": {
      "image/png": "[encoded data removed]",
      "text/plain": [
       "<Figure size 720x432 with 1 Axes>"
      ]
     },
     "metadata": {
      "needs_background": "light"
     },
     "output_type": "display_data"
    }
   ],
   "source": [
    "latam = dataset_base.groupby(['region']).get_group('LatAm')\n",
    "plt.figure(figsize=(10,6))\n",
    "plt.title('Distribución la variable identidad en Latinoamerica y Caribe')\n",
    "seaborn.distplot(latam.pf_identity, kde=False)"
   ]
  },
  {
   "cell_type": "code",
   "execution_count": 47,
   "metadata": {},
   "outputs": [
    {
     "data": {
      "text/plain": [
       "<matplotlib.axes._subplots.AxesSubplot at 0x7fc35fc12bd0>"
      ]
     },
     "execution_count": 47,
     "metadata": {},
     "output_type": "execute_result"
    },
    {
     "data": {
      "image/png": "[encoded data removed]",
      "text/plain": [
       "<Figure size 720x432 with 1 Axes>"
      ]
     },
     "metadata": {
      "needs_background": "light"
     },
     "output_type": "display_data"
    }
   ],
   "source": [
    "plt.figure(figsize=(10,6))\n",
    "plt.title('Distribución la variable human freedom en la global')\n",
    "seaborn.distplot(dataset_base.hf_score)\n",
    "\n",
    "#Pareciera ser Chi Cuadrado"
   ]
  },
  {
   "cell_type": "markdown",
   "metadata": {},
   "source": [
    "#### Distribución\n",
    "Pareciera tener distribución Chi cuadrado.\n",
    "Presenta dos copas, un máximo global y uno local.\n",
    "La muestra está concentrada levemente hacia la derecha, el máximo global se da para un hf_score de aprox 7,\n",
    "siendo el otro pico alrededor del hf_score aprox 8."
   ]
  },
  {
   "cell_type": "code",
   "execution_count": 48,
   "metadata": {},
   "outputs": [
    {
     "data": {
      "text/plain": [
       "<matplotlib.axes._subplots.AxesSubplot at 0x7fc37c5e8690>"
      ]
     },
     "execution_count": 48,
     "metadata": {},
     "output_type": "execute_result"
    },
    {
     "data": {
      "image/png": "[encoded data removed]",
      "text/plain": [
       "<Figure size 720x432 with 1 Axes>"
      ]
     },
     "metadata": {
      "needs_background": "light"
     },
     "output_type": "display_data"
    }
   ],
   "source": [
    "latam = dataset_base.groupby(['region']).get_group('LatAm')\n",
    "plt.figure(figsize=(10,6))\n",
    "plt.title('Distribución la variable human freedom en Latinoamerica y Caribe')\n",
    "seaborn.distplot(latam.hf_score)\n",
    "\n",
    "#También pareciera ser Chi cuadrado"
   ]
  },
  {
   "cell_type": "markdown",
   "metadata": {},
   "source": [
    "#### Distribución\n",
    "Pareciera tener distribución Chi cuadrado.\n",
    "Presenta una copita, cerca de hf_score=7\n",
    "En comparación a la distribución global, presenta un solo pico, y es mucho más pronunciado"
   ]
  },
  {
   "cell_type": "markdown",
   "metadata": {
    "colab_type": "text",
    "id": "lEwQJIulFZCo"
   },
   "source": [
    "## 4. Correlaciones y Relaciones -  Gonzalo\n",
    "\n",
    "En este ejercicio queremos responder a las preguntas\n",
    "\n",
    "* Las libertades personales y económicas, ¿van siempre de la mano?\n",
    "* ¿Cómo se relacionan ambas con las libertades respectivas a las relaciones personales?\n",
    "\n",
    "Para ello, analizaremos las correlaciones entre las variables pf_identity, pf_score y ef_score. \n",
    "\n",
    "Como pf_indentity contribuye al cálculo de pf_score esperamos hallar algún grado de correlación. Lo contrario podría ocurrir con ef_score. \n",
    "\n",
    "1. ¿Qué conclusiones puede sacar de un gráfico pairplot de estas tres variables? ¿Es adecuado para los valores de pf_identity? ¿Por qué?\n",
    "2. Graficar la correlación (visual) entre pf_identity y pf_score; y entre pf_identity y ef_score. Analizar el resultado, ¿se pueden sacar conclusiones? Tengan en cuenta que como pf_identity es el resultado de un promedio, sólo toma algunos valores. Es, en la práctica, discreta, y eso afecta al tipo de gráfico que podemos usar.\n",
    "3. Convertir estas variables en categóricas, es decir, a partir de pf_indentity generar otra variable pf_identity_segment que tome los valores `high`, `medium` y `low`. Pueden hacerlo con una función escrita por ustedes, o usando alguna función de pandas como `pandas.cut` o `pandas.dcut`. Repetir para ef_score y pf_score. El criterio para decidir qué intervalos de valores corresponden a cada categoría tienen que decidirlo ustedes, pueden usar los estadísticos mediana y los cuartiles.\n",
    "4. Graficar la correlación (visual) entre estas tres variables categoricas usando gráficos de calor (heatmaps). Note: van a necesitar 3 gráficos distintos, porque en cada uno podemos incluir sólo 2 variables.\n",
    "\n"
   ]
  },
  {
   "cell_type": "code",
   "execution_count": 50,
   "metadata": {},
   "outputs": [
    {
     "data": {
      "text/plain": [
       "Text(0.5, 1.08, 'Correlación entre variables. Año 2017.')"
      ]
     },
     "execution_count": 50,
     "metadata": {},
     "output_type": "execute_result"
    },
    {
     "data": {
      "image/png": "[encoded data removed]",
      "text/plain": [
       "<Figure size 540x540 with 12 Axes>"
      ]
     },
     "metadata": {
      "needs_background": "light"
     },
     "output_type": "display_data"
    }
   ],
   "source": [
    "# Realizamos los gráficos para un año particular ya que el dataset completo es muy denso\n",
    "datos1=dataset_base[dataset_base.year==2017]\n",
    "columnasimpor=['pf_identity','pf_score','ef_score']\n",
    "datos=datos1[columnasimpor]\n",
    "m = seaborn.pairplot(datos);\n",
    "m.fig.suptitle('Correlación entre variables. Año 2017.', fontsize=20, y=1.08)"
   ]
  },
  {
   "cell_type": "markdown",
   "metadata": {},
   "source": [
    "Los conjuntos de datos están relacionados de manera positiva entre ellos, lo cual era esperable en una primera instancia para los valores de  pf_score y pf_identity, ya la primera es calculada a partir de la segunda. Se observa además que el indicador de libertad económica (ef_score) se vincula de manera positiva con el indicador de libertad personal (pareciese ser una relación bastante fuerte), que es lo esperable por los autores del informe. No pareciese, al menos visualmente, que la liberar económica tuviese una vinculación fuerte con el indicador de liberar de identidad(pf_identity).\n",
    "La utilización de este tipo de gráficos en variables como pf_identity es discutible, dado que los puntajes que pueden obtener las variables que lo componen están acotados a un número finito de valores (en general no más de 3), con lo cual existe una cantidad finita de resultados posibles para pf_identity, por lo que quizas un gráfico de barras sería más adecuado para definir las categorías."
   ]
  },
  {
   "cell_type": "code",
   "execution_count": 51,
   "metadata": {},
   "outputs": [
    {
     "data": {
      "text/plain": [
       "Text(0.6, 1.05, 'Correlación entre variables. Año 2017')"
      ]
     },
     "execution_count": 51,
     "metadata": {},
     "output_type": "execute_result"
    },
    {
     "data": {
      "image/png": "[encoded data removed]",
      "text/plain": [
       "<Figure size 216x432 with 2 Axes>"
      ]
     },
     "metadata": {
      "needs_background": "light"
     },
     "output_type": "display_data"
    }
   ],
   "source": [
    "#Graficamos las dos relaciones en el mismo grafico para facilitar la visualización.\n",
    "g = seaborn.PairGrid(datos, x_vars=[\"pf_identity\"], y_vars=[\"pf_score\", \"ef_score\"], height=3)\n",
    "g.map(seaborn.regplot)\n",
    "g.fig.suptitle('Correlación entre variables. Año 2017', fontsize=20, y=1.05, x=0.6)\n",
    "# Para pf_identity vs pf_score se podría utilizar una regresión logística?"
   ]
  },
  {
   "cell_type": "markdown",
   "metadata": {},
   "source": [
    "En primera instancia se observa que existe una relación positiva entre pf_identity y pf_score, que es lo esperado dado que es un componente del indice, como se mencionó anteriormente. Con respecto a la ef_score, si bien la función genera una linea de regresión con pendiente positiva, visualmente no parecieran tener una gran asociación entre los conjuntos. Probablemente excluyendo algunos valores extremos la recta de regresión sería anulada. Un análisis más pronfundo requeriría la utilización de algún indicador de la bondad del ajuste de la regresión.\n",
    "Sacar conclusiones a partir de este tipo de análisis entendemos no sería lo más adecuado en vista que el tipo de relación que existe entre las variables no sería lineal si no probablemente del tipo logística. "
   ]
  },
  {
   "cell_type": "markdown",
   "metadata": {},
   "source": [
    "Tenemos que decidir si vamos a trabaja con todos los datos en esta sección o solo con un año (en la anterior se utilizó solo un año y no ser consistentes en la metodología de análisis es incorrecto). Utilizando todos los datos encuentro compleja la visualización de todas las relaciones por que los mapas de calor no son claros.\n",
    "Al momento de realizar la división de según categorías la elección que tomamos fue agrupar utilizando los cuartiles, encontrandonos con un inconveniente en lo referente a la variable pf_identity. Dado que la misma no es una variable continua si no discreta, el tercer y cuarto cuartil son coincidentes. (esto es posible?). por lo que tuvimos que realizar la agrupación con las siguientes cotas: low= 0,25, medium: 0,5, hig: 1. Esto puede estar generando inconvenientes con la separación en los conjuntos con más continuidad en los valores."
   ]
  },
  {
   "cell_type": "code",
   "execution_count": 52,
   "metadata": {},
   "outputs": [
    {
     "name": "stdout",
     "output_type": "stream",
     "text": [
      "0        high\n",
      "1         low\n",
      "2         low\n",
      "3        high\n",
      "4        high\n",
      "        ...  \n",
      "157       low\n",
      "158    medium\n",
      "159       low\n",
      "160       low\n",
      "161       low\n",
      "Name: pf_score, Length: 162, dtype: category\n",
      "Categories (3, object): [low < medium < high]\n",
      "0        high\n",
      "1         low\n",
      "2         low\n",
      "3         low\n",
      "4        high\n",
      "        ...  \n",
      "157       low\n",
      "158    medium\n",
      "159       low\n",
      "160    medium\n",
      "161       low\n",
      "Name: ef_score, Length: 162, dtype: category\n",
      "Categories (3, object): [low < medium < high]\n",
      "0      medium\n",
      "1         low\n",
      "2         low\n",
      "3        high\n",
      "4      medium\n",
      "        ...  \n",
      "157       low\n",
      "158      high\n",
      "159       low\n",
      "160    medium\n",
      "161       low\n",
      "Name: pf_identity, Length: 162, dtype: category\n",
      "Categories (3, object): [low < medium < high]\n"
     ]
    }
   ],
   "source": [
    "#calculamos el pf_score_segment para el año 2017\n",
    "\n",
    "quartiles_pf = dataset_base.pf_score.quantile([0,0.25,0.5,0.75,1]).round(2)\n",
    "quartiles_pf = quartiles_pf.tolist()\n",
    "pf_score_segment = pandas.cut(x=datos['pf_score'], bins=[quartiles_pf[0], quartiles_pf[1],quartiles_pf[2],quartiles_pf[4]], labels=[\"low\",\"medium\",\"high\"], include_lowest=True)\n",
    "print(pf_score_segment)\n",
    "\n",
    "#calculamos el ef_score_segment para el año 2017\n",
    "\n",
    "quartiles_ef = dataset_base.ef_score.quantile([0,0.25,0.5,0.75,1]).round(2)\n",
    "quartiles_ef = quartiles_ef.tolist()\n",
    "ef_score_segment = pandas.cut(x=datos['ef_score'], bins=[quartiles_ef[0], quartiles_ef[1],quartiles_ef[2],quartiles_ef[4]], labels=[\"low\",\"medium\",\"high\"], include_lowest=True)\n",
    "print(ef_score_segment)\n",
    "\n",
    "#calculamos el pf_identity_segment para el año 2017\n",
    "\n",
    "quartiles_pfid = dataset_base.pf_identity.quantile([0,0.25,0.5,0.75,1]).round(2)\n",
    "quartiles_pfid = quartiles_pfid.tolist()\n",
    "pf_identity_segment = pandas.cut(x=datos['pf_identity'], bins=[quartiles_pfid[0], quartiles_pfid[1],quartiles_pfid[2],quartiles_pfid[4]], labels=[\"low\",\"medium\",\"high\"], include_lowest=True)\n",
    "print(pf_identity_segment)"
   ]
  },
  {
   "cell_type": "code",
   "execution_count": 53,
   "metadata": {},
   "outputs": [
    {
     "data": {
      "text/plain": [
       "Text(54.5, 0.5, 'Libertad Personal')"
      ]
     },
     "execution_count": 53,
     "metadata": {},
     "output_type": "execute_result"
    },
    {
     "data": {
      "image/png": "[encoded data removed]",
      "text/plain": [
       "<Figure size 720x432 with 2 Axes>"
      ]
     },
     "metadata": {
      "needs_background": "light"
     },
     "output_type": "display_data"
    }
   ],
   "source": [
    "#Correlación visual entre pf_score_segment y ef_score_segment\n",
    "plt.figure(figsize=(10,6))\n",
    "exp = pandas.crosstab(pf_score_segment, ef_score_segment)\n",
    "seaborn.heatmap(exp, annot=True)\n",
    "plt.title(\"Correlación entre las variables categóricas \\n Libertad Personal y Libertad Económica. Año 2017.\")\n",
    "plt.xlabel(\"Libertad Económica\")\n",
    "plt.ylabel(\"Libertad Personal\")"
   ]
  },
  {
   "cell_type": "code",
   "execution_count": 54,
   "metadata": {},
   "outputs": [
    {
     "data": {
      "text/plain": [
       "Text(54.5, 0.5, 'Libertad Económica')"
      ]
     },
     "execution_count": 54,
     "metadata": {},
     "output_type": "execute_result"
    },
    {
     "data": {
      "image/png": "[encoded data removed]",
      "text/plain": [
       "<Figure size 720x432 with 2 Axes>"
      ]
     },
     "metadata": {
      "needs_background": "light"
     },
     "output_type": "display_data"
    }
   ],
   "source": [
    "#Correlación visual entre pf_identity_segment y ef_score_segment\n",
    "plt.figure(figsize=(10,6))\n",
    "exp = pandas.crosstab(ef_score_segment, pf_identity_segment)\n",
    "seaborn.heatmap(exp, annot=True)\n",
    "plt.title(\"Correlación entre las variables categóricas \\n Libertad de Identidad y Libertad Económica. Año 2017.\")\n",
    "plt.xlabel(\"Libertad de Identidad\")\n",
    "plt.ylabel(\"Libertad Económica\")"
   ]
  },
  {
   "cell_type": "code",
   "execution_count": 55,
   "metadata": {},
   "outputs": [
    {
     "data": {
      "text/plain": [
       "Text(54.5, 0.5, 'Libertad Personal')"
      ]
     },
     "execution_count": 55,
     "metadata": {},
     "output_type": "execute_result"
    },
    {
     "data": {
      "image/png": "[encoded data removed]",
      "text/plain": [
       "<Figure size 720x432 with 2 Axes>"
      ]
     },
     "metadata": {
      "needs_background": "light"
     },
     "output_type": "display_data"
    }
   ],
   "source": [
    "#Correlación visual entre pf_identity_segment y pf_score_segment\n",
    "plt.figure(figsize=(10,6))\n",
    "exp = pandas.crosstab(pf_score_segment, pf_identity_segment)\n",
    "seaborn.heatmap(exp, annot=True)\n",
    "plt.title(\"Correlación entre las variables categóricas \\n Libertad de Identidad y Libertad Personal. Año 2017.\")\n",
    "plt.xlabel(\"Libertad de Identidad\")\n",
    "plt.ylabel(\"Libertad Personal\")"
   ]
  },
  {
   "cell_type": "markdown",
   "metadata": {
    "colab_type": "text",
    "id": "3uybvRrGSyA6"
   },
   "source": [
    "# Parte 2\n",
    "\n",
    "Luego del segundo fin de semana de clase, podemos revisitar nuestro trabajo anterior y completarlo respondiendo a las siguientes preguntas:"
   ]
  },
  {
   "cell_type": "markdown",
   "metadata": {
    "colab_type": "text",
    "id": "OF4LTznCS6SD"
   },
   "source": [
    "## 3. Distribuciones\n",
    "\n",
    "2. Realizar una prueba de Kolmogorov-Smirnof para comprobar analíticamente si estas variables responden la distribución propuesta en el ejercicio anterior. Hint: podés usar https://docs.scipy.org/doc/scipy-0.14.0/reference/generated/scipy.stats.kstest.html, pero hay que tener en cuenta que si la distribución es \"norm\", entonces va a comparar los datos con una distribución normal con media 0 y desviación estándar 1. Se puede utilizar la distribución sobre todos los datos o sólo sobre Latinoamérica."
   ]
  },
  {
   "cell_type": "code",
   "execution_count": 61,
   "metadata": {},
   "outputs": [
    {
     "name": "stdout",
     "output_type": "stream",
     "text": [
      "hf_score:  KstestResult(statistic=0.9999276519560749, pvalue=4.4271743843264904e-108)\n",
      "pf_identity:  KstestResult(statistic=0.9999866542509841, pvalue=3.6303356195128583e-127)\n"
     ]
    }
   ],
   "source": [
    "data_2017 = dataset_base.groupby(\"year\").get_group(2017)\n",
    "latam = data_2017.groupby(['region']).get_group('LatAm')\n",
    "z = latam.hf_score.to_numpy()\n",
    "z = z.tolist()\n",
    "w = latam.pf_identity.to_numpy()\n",
    "w = w.tolist()\n",
    "hf_scores=[score for score in z if str(score) != 'nan']\n",
    "x_hf = scipy.stats.kstest(hf_scores,\"norm\")\n",
    "\n",
    "pf_identities=[score for score in w if str(score) != 'nan']\n",
    "x_pf = scipy.stats.kstest(pf_identities,\"norm\")\n",
    "\n",
    "print(\"hf_score: \", x_hf)\n",
    "print(\"pf_identity: \", x_pf)"
   ]
  },
  {
   "cell_type": "markdown",
   "metadata": {},
   "source": [
    "**La distribucion no es normal porque comparando ambas distribuciones usando el ktest nos encontramos con que se diferencian mucho (lo podemos ver por el   valor alto del D - distancia). Teniendo en cuenta el p-value, al ser tan chico rechazamos H0 que nos dice que ambas distr se parecen.**"
   ]
  },
  {
   "cell_type": "markdown",
   "metadata": {
    "colab_type": "text",
    "id": "WWmCi_wRTYAB"
   },
   "source": [
    "## 4. Correlaciones\n",
    "\n",
    "3. Calcular algún coeficiente de correlación adecuado entre los dos pares de variables, dependiendo de la cantidad de datos, el tipo de datos y la distribución de los mismo. Algunas opciones son: coeficiente de pearson, coeficiente de spearman, coeficientes de tau y de kendall. Interpretar los resultados y justificar si las variables están correlacionadas o no. \n",
    "4. [Opcional] Analizar la correlación entre la region y el pf_score (y/o el ef_score); y entre la region y el pf_identity. Considerar que como la variable *region* es ordinal, debe utilizarse algún tipo de test. Explicar cuáles son los requisitos necesarios para la aplicación de ese test. (Si no se cumplieran, se pueden agregar algunos datos para generar más registros). Genere nuevas variables categóricas ordinales para calcular la correlación Tau de Kendal y genere una tabla de contingencia con esas nuevas variables."
   ]
  },
  {
   "cell_type": "markdown",
   "metadata": {
    "colab_type": "text",
    "id": "WqoHOee9UC7n"
   },
   "source": [
    "Además de completar estos puntos faltantes, luego de haber visitado los conceptos de percepción visual y comunicación efectiva, están en condiciones de reveer los gráficos realizados y evaluar si pueden ser mejorados. Para ello, puede hacerse las siguientes preguntas:\n",
    "\n",
    "* ¿Están utilizando el tipo de gráfico adecuado para cada tipo de variable?\n",
    "* Los gráficos, ¿son legibles?\n",
    "* Los gráficos generados, ¿responden a las preguntas mostrando un patrón claro? En caso de que no, ¿podemos filtrar los datos para que el patrón sea más evidente? ¿o agruparlos de manera distinta? ¿o cambiar el tipo de gráfico?"
   ]
  },
  {
   "cell_type": "code",
   "execution_count": 65,
   "metadata": {
    "colab": {},
    "colab_type": "code",
    "id": "D6KDiX_FFZCp"
   },
   "outputs": [
    {
     "name": "stdout",
     "output_type": "stream",
     "text": [
      "Coeficiente de correlación de Spearman: 0.759\n",
      "Las variables están correlacionadas (rechazar H0) p=0.000\n"
     ]
    }
   ],
   "source": [
    "#Calculamos el coeficiente de correlación entre las variables pf_identity y pf_score. Año 2017.\n",
    "coef, p = spearmanr(datos.pf_identity, datos.pf_score)\n",
    "print('Coeficiente de correlación de Spearman: %.3f' % coef)\n",
    "\n",
    "# interpretamos el nivel de significación\n",
    "\n",
    "alpha = 0.05\n",
    "if p > alpha:\n",
    "    print('Las variables no están correlacionadas (no puede rechazar H0) p=%.3f' % p)\n",
    "else:\n",
    "    print('Las variables están correlacionadas (rechazar H0) p=%.3f' % p)"
   ]
  },
  {
   "cell_type": "code",
   "execution_count": 66,
   "metadata": {},
   "outputs": [
    {
     "name": "stdout",
     "output_type": "stream",
     "text": [
      "Coeficiente de correlación de Spearman: 0.422\n",
      "Las variables están correlacionadas (rechazar H0) p=0.000\n"
     ]
    }
   ],
   "source": [
    "#Calculamos el coeficiente de correlación entre las variables pf_identity y ef_score. Año 2017.\n",
    "\n",
    "from scipy.stats import spearmanr \n",
    "coef, p = spearmanr(datos.pf_identity, datos.ef_score)\n",
    "print('Coeficiente de correlación de Spearman: %.3f' % coef)\n",
    "\n",
    "# interpretamos el nivel de significación }\n",
    "\n",
    "alpha = 0.05\n",
    "if p > alpha:\n",
    "    print('Las variables no están correlacionadas (no puede rechazar H0) p=%.3f' % p)\n",
    "else:\n",
    "    print('Las variables están correlacionadas (rechazar H0) p=%.3f' % p)"
   ]
  },
  {
   "cell_type": "markdown",
   "metadata": {},
   "source": [
    "Como puede verse, en el caso de las variables pf_identity y pf_score existe una correlación positiva. Es una correlación cercana a 1 (0,759), lo cual tiene sentido por la forma en que se calcula pf_identity. Podemos decir que hay evidencia de que están correlacionadas a través del p-valor (al ser menor que el nivel de significación, se rechaza la hipótesis nula de independencia de variables).\n",
    "En el caso de las variables pf_identity y ef_score se obtuvo un coeficiente de correlación positivo de 0,422. Esto significa que la relación no es tan fuerte como la del otro par de variables. Cuando se compara el p-valor con el nivel de significación se tiene que hay evidencia para rechazar la hipótesis nula. Por esta razón se concluye que las variables están correlacionadas."
   ]
  },
  {
   "cell_type": "code",
   "execution_count": 67,
   "metadata": {},
   "outputs": [
    {
     "data": {
      "text/html": [
       "<div>\n",
       "<style scoped>\n",
       "    .dataframe tbody tr th:only-of-type {\n",
       "        vertical-align: middle;\n",
       "    }\n",
       "\n",
       "    .dataframe tbody tr th {\n",
       "        vertical-align: top;\n",
       "    }\n",
       "\n",
       "    .dataframe thead th {\n",
       "        text-align: right;\n",
       "    }\n",
       "</style>\n",
       "<table border=\"1\" class=\"dataframe\">\n",
       "  <thead>\n",
       "    <tr style=\"text-align: right;\">\n",
       "      <th></th>\n",
       "      <th>year</th>\n",
       "      <th>ISO_code</th>\n",
       "      <th>countries</th>\n",
       "      <th>region</th>\n",
       "      <th>pf_identity_legal</th>\n",
       "      <th>pf_identity_sex_male</th>\n",
       "      <th>pf_identity_sex_female</th>\n",
       "      <th>pf_identity_sex</th>\n",
       "      <th>pf_identity_divorce</th>\n",
       "      <th>pf_identity</th>\n",
       "      <th>pf_score</th>\n",
       "      <th>pf_rank</th>\n",
       "      <th>ef_score</th>\n",
       "      <th>ef_rank</th>\n",
       "      <th>hf_score</th>\n",
       "      <th>hf_rank</th>\n",
       "      <th>pf_identity_segment</th>\n",
       "      <th>pf_score_segment</th>\n",
       "      <th>ef_score_segment</th>\n",
       "    </tr>\n",
       "  </thead>\n",
       "  <tbody>\n",
       "    <tr>\n",
       "      <th>0</th>\n",
       "      <td>2017</td>\n",
       "      <td>ALB</td>\n",
       "      <td>Albania</td>\n",
       "      <td>Eastern Europe</td>\n",
       "      <td>0.0</td>\n",
       "      <td>10.0</td>\n",
       "      <td>10.0</td>\n",
       "      <td>10.0</td>\n",
       "      <td>7.5</td>\n",
       "      <td>5.8</td>\n",
       "      <td>8.01</td>\n",
       "      <td>46.0</td>\n",
       "      <td>7.67</td>\n",
       "      <td>30.0</td>\n",
       "      <td>7.84</td>\n",
       "      <td>38.0</td>\n",
       "      <td>medium</td>\n",
       "      <td>high</td>\n",
       "      <td>high</td>\n",
       "    </tr>\n",
       "    <tr>\n",
       "      <th>1</th>\n",
       "      <td>2017</td>\n",
       "      <td>DZA</td>\n",
       "      <td>Algeria</td>\n",
       "      <td>Middle East &amp; North Africa</td>\n",
       "      <td>NaN</td>\n",
       "      <td>0.0</td>\n",
       "      <td>0.0</td>\n",
       "      <td>0.0</td>\n",
       "      <td>0.0</td>\n",
       "      <td>0.0</td>\n",
       "      <td>5.20</td>\n",
       "      <td>146.0</td>\n",
       "      <td>4.77</td>\n",
       "      <td>159.0</td>\n",
       "      <td>4.99</td>\n",
       "      <td>155.0</td>\n",
       "      <td>low</td>\n",
       "      <td>low</td>\n",
       "      <td>low</td>\n",
       "    </tr>\n",
       "    <tr>\n",
       "      <th>2</th>\n",
       "      <td>2017</td>\n",
       "      <td>AGO</td>\n",
       "      <td>Angola</td>\n",
       "      <td>Sub-Saharan Africa</td>\n",
       "      <td>10.0</td>\n",
       "      <td>0.0</td>\n",
       "      <td>0.0</td>\n",
       "      <td>0.0</td>\n",
       "      <td>5.0</td>\n",
       "      <td>5.0</td>\n",
       "      <td>5.98</td>\n",
       "      <td>121.0</td>\n",
       "      <td>4.83</td>\n",
       "      <td>158.0</td>\n",
       "      <td>5.40</td>\n",
       "      <td>151.0</td>\n",
       "      <td>low</td>\n",
       "      <td>low</td>\n",
       "      <td>low</td>\n",
       "    </tr>\n",
       "    <tr>\n",
       "      <th>3</th>\n",
       "      <td>2017</td>\n",
       "      <td>ARG</td>\n",
       "      <td>Argentina</td>\n",
       "      <td>LatAm</td>\n",
       "      <td>10.0</td>\n",
       "      <td>10.0</td>\n",
       "      <td>10.0</td>\n",
       "      <td>10.0</td>\n",
       "      <td>10.0</td>\n",
       "      <td>10.0</td>\n",
       "      <td>8.04</td>\n",
       "      <td>41.0</td>\n",
       "      <td>5.67</td>\n",
       "      <td>147.0</td>\n",
       "      <td>6.86</td>\n",
       "      <td>77.0</td>\n",
       "      <td>high</td>\n",
       "      <td>high</td>\n",
       "      <td>low</td>\n",
       "    </tr>\n",
       "    <tr>\n",
       "      <th>4</th>\n",
       "      <td>2017</td>\n",
       "      <td>ARM</td>\n",
       "      <td>Armenia</td>\n",
       "      <td>Caucasus &amp; Central Asia</td>\n",
       "      <td>7.0</td>\n",
       "      <td>10.0</td>\n",
       "      <td>10.0</td>\n",
       "      <td>10.0</td>\n",
       "      <td>7.5</td>\n",
       "      <td>8.2</td>\n",
       "      <td>7.15</td>\n",
       "      <td>72.0</td>\n",
       "      <td>7.70</td>\n",
       "      <td>27.0</td>\n",
       "      <td>7.42</td>\n",
       "      <td>54.0</td>\n",
       "      <td>medium</td>\n",
       "      <td>high</td>\n",
       "      <td>high</td>\n",
       "    </tr>\n",
       "  </tbody>\n",
       "</table>\n",
       "</div>"
      ],
      "text/plain": [
       "   year ISO_code  countries                      region  pf_identity_legal  \\\n",
       "0  2017      ALB    Albania              Eastern Europe                0.0   \n",
       "1  2017      DZA    Algeria  Middle East & North Africa                NaN   \n",
       "2  2017      AGO     Angola          Sub-Saharan Africa               10.0   \n",
       "3  2017      ARG  Argentina                       LatAm               10.0   \n",
       "4  2017      ARM    Armenia     Caucasus & Central Asia                7.0   \n",
       "\n",
       "   pf_identity_sex_male  pf_identity_sex_female  pf_identity_sex  \\\n",
       "0                  10.0                    10.0             10.0   \n",
       "1                   0.0                     0.0              0.0   \n",
       "2                   0.0                     0.0              0.0   \n",
       "3                  10.0                    10.0             10.0   \n",
       "4                  10.0                    10.0             10.0   \n",
       "\n",
       "   pf_identity_divorce  pf_identity  pf_score  pf_rank  ef_score  ef_rank  \\\n",
       "0                  7.5          5.8      8.01     46.0      7.67     30.0   \n",
       "1                  0.0          0.0      5.20    146.0      4.77    159.0   \n",
       "2                  5.0          5.0      5.98    121.0      4.83    158.0   \n",
       "3                 10.0         10.0      8.04     41.0      5.67    147.0   \n",
       "4                  7.5          8.2      7.15     72.0      7.70     27.0   \n",
       "\n",
       "   hf_score  hf_rank pf_identity_segment pf_score_segment ef_score_segment  \n",
       "0      7.84     38.0              medium             high             high  \n",
       "1      4.99    155.0                 low              low              low  \n",
       "2      5.40    151.0                 low              low              low  \n",
       "3      6.86     77.0                high             high              low  \n",
       "4      7.42     54.0              medium             high             high  "
      ]
     },
     "execution_count": 67,
     "metadata": {},
     "output_type": "execute_result"
    }
   ],
   "source": [
    "datos2 = datos1.assign(pf_identity_segment = pf_identity_segment, pf_score_segment = pf_score_segment, ef_score_segment = ef_score_segment)\n",
    "datos2.head()"
   ]
  },
  {
   "cell_type": "code",
   "execution_count": 68,
   "metadata": {},
   "outputs": [
    {
     "name": "stdout",
     "output_type": "stream",
     "text": [
      "Coeficiente de correlación de Spearman: 0.088\n",
      "Las variables no están correlacionadas (no puede rechazar H0) p=0.263\n"
     ]
    }
   ],
   "source": [
    "#Calculamos el coeficiente de correlación entre las variables region y pf_score_segment. Año 2017.\n",
    "\n",
    "from scipy.stats import spearmanr\n",
    "coef, p = spearmanr(datos2.region, datos2.pf_score_segment)\n",
    "print('Coeficiente de correlación de Spearman: %.3f' % coef)\n",
    "\n",
    "# interpretamos el nivel de significación\n",
    "\n",
    "alpha = 0.05\n",
    "if p > alpha:\n",
    "    print('Las variables no están correlacionadas (no puede rechazar H0) p=%.3f' % p)\n",
    "else:\n",
    "    print('Las variables están correlacionadas (rechazar H0) p=%.3f' % p)"
   ]
  },
  {
   "cell_type": "code",
   "execution_count": 69,
   "metadata": {},
   "outputs": [
    {
     "name": "stdout",
     "output_type": "stream",
     "text": [
      "Coeficiente de correlación de Spearman: 0.022\n",
      "Las variables no están correlacionadas (no puede rechazar H0) p=0.784\n"
     ]
    }
   ],
   "source": [
    "#Calculamos el coeficiente de correlación entre las variables region y ef_score_segment. Año 2017.\n",
    "\n",
    "from scipy.stats import spearmanr\n",
    "coef, p = spearmanr(datos2.region, datos2.ef_score_segment)\n",
    "print('Coeficiente de correlación de Spearman: %.3f' % coef)\n",
    "\n",
    "# interpretamos el nivel de significación\n",
    "\n",
    "alpha = 0.05\n",
    "if p > alpha:\n",
    "    print('Las variables no están correlacionadas (no puede rechazar H0) p=%.3f' % p)\n",
    "else:\n",
    "    print('Las variables están correlacionadas (rechazar H0) p=%.3f' % p)"
   ]
  },
  {
   "cell_type": "code",
   "execution_count": 70,
   "metadata": {},
   "outputs": [
    {
     "name": "stdout",
     "output_type": "stream",
     "text": [
      "Coeficiente de correlación de Spearman: -0.027\n",
      "Las variables no están correlacionadas (no puede rechazar H0) p=0.736\n"
     ]
    }
   ],
   "source": [
    "#Calculamos el coeficiente de correlación entre las variables region y pf_identity_segment. Año 2017.\n",
    "\n",
    "from scipy.stats import spearmanr\n",
    "coef, p = spearmanr(datos2.region, datos2.pf_identity_segment)\n",
    "print('Coeficiente de correlación de Spearman: %.3f' % coef)\n",
    "\n",
    "# interpretamos el nivel de significación\n",
    "\n",
    "alpha = 0.05\n",
    "if p > alpha:\n",
    "    print('Las variables no están correlacionadas (no puede rechazar H0) p=%.3f' % p)\n",
    "else:\n",
    "    print('Las variables están correlacionadas (rechazar H0) p=%.3f' % p)"
   ]
  },
  {
   "cell_type": "code",
   "execution_count": 71,
   "metadata": {},
   "outputs": [
    {
     "data": {
      "text/html": [
       "<div>\n",
       "<style scoped>\n",
       "    .dataframe tbody tr th:only-of-type {\n",
       "        vertical-align: middle;\n",
       "    }\n",
       "\n",
       "    .dataframe tbody tr th {\n",
       "        vertical-align: top;\n",
       "    }\n",
       "\n",
       "    .dataframe thead th {\n",
       "        text-align: right;\n",
       "    }\n",
       "</style>\n",
       "<table border=\"1\" class=\"dataframe\">\n",
       "  <thead>\n",
       "    <tr style=\"text-align: right;\">\n",
       "      <th>pf_score_segment</th>\n",
       "      <th>low</th>\n",
       "      <th>medium</th>\n",
       "      <th>high</th>\n",
       "    </tr>\n",
       "    <tr>\n",
       "      <th>region</th>\n",
       "      <th></th>\n",
       "      <th></th>\n",
       "      <th></th>\n",
       "    </tr>\n",
       "  </thead>\n",
       "  <tbody>\n",
       "    <tr>\n",
       "      <th>Caucasus &amp; Central Asia</th>\n",
       "      <td>2</td>\n",
       "      <td>2</td>\n",
       "      <td>2</td>\n",
       "    </tr>\n",
       "    <tr>\n",
       "      <th>East Asia</th>\n",
       "      <td>1</td>\n",
       "      <td>0</td>\n",
       "      <td>5</td>\n",
       "    </tr>\n",
       "    <tr>\n",
       "      <th>Eastern Europe</th>\n",
       "      <td>1</td>\n",
       "      <td>2</td>\n",
       "      <td>19</td>\n",
       "    </tr>\n",
       "    <tr>\n",
       "      <th>LatAm</th>\n",
       "      <td>1</td>\n",
       "      <td>12</td>\n",
       "      <td>13</td>\n",
       "    </tr>\n",
       "    <tr>\n",
       "      <th>Middle East &amp; North Africa</th>\n",
       "      <td>16</td>\n",
       "      <td>2</td>\n",
       "      <td>1</td>\n",
       "    </tr>\n",
       "    <tr>\n",
       "      <th>North America</th>\n",
       "      <td>0</td>\n",
       "      <td>0</td>\n",
       "      <td>2</td>\n",
       "    </tr>\n",
       "    <tr>\n",
       "      <th>Oceania</th>\n",
       "      <td>0</td>\n",
       "      <td>1</td>\n",
       "      <td>3</td>\n",
       "    </tr>\n",
       "    <tr>\n",
       "      <th>South Asia</th>\n",
       "      <td>6</td>\n",
       "      <td>9</td>\n",
       "      <td>2</td>\n",
       "    </tr>\n",
       "    <tr>\n",
       "      <th>Sub-Saharan Africa</th>\n",
       "      <td>20</td>\n",
       "      <td>15</td>\n",
       "      <td>7</td>\n",
       "    </tr>\n",
       "    <tr>\n",
       "      <th>Western Europe</th>\n",
       "      <td>0</td>\n",
       "      <td>0</td>\n",
       "      <td>18</td>\n",
       "    </tr>\n",
       "  </tbody>\n",
       "</table>\n",
       "</div>"
      ],
      "text/plain": [
       "pf_score_segment            low  medium  high\n",
       "region                                       \n",
       "Caucasus & Central Asia       2       2     2\n",
       "East Asia                     1       0     5\n",
       "Eastern Europe                1       2    19\n",
       "LatAm                         1      12    13\n",
       "Middle East & North Africa   16       2     1\n",
       "North America                 0       0     2\n",
       "Oceania                       0       1     3\n",
       "South Asia                    6       9     2\n",
       "Sub-Saharan Africa           20      15     7\n",
       "Western Europe                0       0    18"
      ]
     },
     "execution_count": 71,
     "metadata": {},
     "output_type": "execute_result"
    }
   ],
   "source": [
    "exp1 = pandas.crosstab(datos2.region, datos2.pf_score_segment)\n",
    "exp1"
   ]
  },
  {
   "cell_type": "code",
   "execution_count": 72,
   "metadata": {},
   "outputs": [
    {
     "data": {
      "text/plain": [
       "(107.41538343743797, 9.51225088874374e-15)"
      ]
     },
     "execution_count": 72,
     "metadata": {},
     "output_type": "execute_result"
    }
   ],
   "source": [
    "from scipy.stats import chi2_contingency\n",
    "g, p, dof, expctd = chi2_contingency(exp1)\n",
    "g, p"
   ]
  },
  {
   "cell_type": "code",
   "execution_count": 73,
   "metadata": {},
   "outputs": [
    {
     "data": {
      "text/html": [
       "<div>\n",
       "<style scoped>\n",
       "    .dataframe tbody tr th:only-of-type {\n",
       "        vertical-align: middle;\n",
       "    }\n",
       "\n",
       "    .dataframe tbody tr th {\n",
       "        vertical-align: top;\n",
       "    }\n",
       "\n",
       "    .dataframe thead th {\n",
       "        text-align: right;\n",
       "    }\n",
       "</style>\n",
       "<table border=\"1\" class=\"dataframe\">\n",
       "  <thead>\n",
       "    <tr style=\"text-align: right;\">\n",
       "      <th>ef_score_segment</th>\n",
       "      <th>low</th>\n",
       "      <th>medium</th>\n",
       "      <th>high</th>\n",
       "    </tr>\n",
       "    <tr>\n",
       "      <th>region</th>\n",
       "      <th></th>\n",
       "      <th></th>\n",
       "      <th></th>\n",
       "    </tr>\n",
       "  </thead>\n",
       "  <tbody>\n",
       "    <tr>\n",
       "      <th>Caucasus &amp; Central Asia</th>\n",
       "      <td>1</td>\n",
       "      <td>1</td>\n",
       "      <td>4</td>\n",
       "    </tr>\n",
       "    <tr>\n",
       "      <th>East Asia</th>\n",
       "      <td>0</td>\n",
       "      <td>1</td>\n",
       "      <td>5</td>\n",
       "    </tr>\n",
       "    <tr>\n",
       "      <th>Eastern Europe</th>\n",
       "      <td>1</td>\n",
       "      <td>6</td>\n",
       "      <td>15</td>\n",
       "    </tr>\n",
       "    <tr>\n",
       "      <th>LatAm</th>\n",
       "      <td>3</td>\n",
       "      <td>9</td>\n",
       "      <td>14</td>\n",
       "    </tr>\n",
       "    <tr>\n",
       "      <th>Middle East &amp; North Africa</th>\n",
       "      <td>8</td>\n",
       "      <td>5</td>\n",
       "      <td>6</td>\n",
       "    </tr>\n",
       "    <tr>\n",
       "      <th>North America</th>\n",
       "      <td>0</td>\n",
       "      <td>0</td>\n",
       "      <td>2</td>\n",
       "    </tr>\n",
       "    <tr>\n",
       "      <th>Oceania</th>\n",
       "      <td>0</td>\n",
       "      <td>2</td>\n",
       "      <td>2</td>\n",
       "    </tr>\n",
       "    <tr>\n",
       "      <th>South Asia</th>\n",
       "      <td>4</td>\n",
       "      <td>7</td>\n",
       "      <td>6</td>\n",
       "    </tr>\n",
       "    <tr>\n",
       "      <th>Sub-Saharan Africa</th>\n",
       "      <td>25</td>\n",
       "      <td>9</td>\n",
       "      <td>8</td>\n",
       "    </tr>\n",
       "    <tr>\n",
       "      <th>Western Europe</th>\n",
       "      <td>0</td>\n",
       "      <td>0</td>\n",
       "      <td>18</td>\n",
       "    </tr>\n",
       "  </tbody>\n",
       "</table>\n",
       "</div>"
      ],
      "text/plain": [
       "ef_score_segment            low  medium  high\n",
       "region                                       \n",
       "Caucasus & Central Asia       1       1     4\n",
       "East Asia                     0       1     5\n",
       "Eastern Europe                1       6    15\n",
       "LatAm                         3       9    14\n",
       "Middle East & North Africa    8       5     6\n",
       "North America                 0       0     2\n",
       "Oceania                       0       2     2\n",
       "South Asia                    4       7     6\n",
       "Sub-Saharan Africa           25       9     8\n",
       "Western Europe                0       0    18"
      ]
     },
     "execution_count": 73,
     "metadata": {},
     "output_type": "execute_result"
    }
   ],
   "source": [
    "exp2 = pandas.crosstab(datos2.region, datos2.ef_score_segment)\n",
    "exp2"
   ]
  },
  {
   "cell_type": "code",
   "execution_count": 74,
   "metadata": {},
   "outputs": [
    {
     "data": {
      "text/plain": [
       "(67.18071419955541, 1.3471480937338988e-07)"
      ]
     },
     "execution_count": 74,
     "metadata": {},
     "output_type": "execute_result"
    }
   ],
   "source": [
    "from scipy.stats import chi2_contingency\n",
    "g, p, dof, expctd = chi2_contingency(exp2)\n",
    "g, p"
   ]
  },
  {
   "cell_type": "code",
   "execution_count": 75,
   "metadata": {},
   "outputs": [
    {
     "data": {
      "text/html": [
       "<div>\n",
       "<style scoped>\n",
       "    .dataframe tbody tr th:only-of-type {\n",
       "        vertical-align: middle;\n",
       "    }\n",
       "\n",
       "    .dataframe tbody tr th {\n",
       "        vertical-align: top;\n",
       "    }\n",
       "\n",
       "    .dataframe thead th {\n",
       "        text-align: right;\n",
       "    }\n",
       "</style>\n",
       "<table border=\"1\" class=\"dataframe\">\n",
       "  <thead>\n",
       "    <tr style=\"text-align: right;\">\n",
       "      <th>pf_identity_segment</th>\n",
       "      <th>low</th>\n",
       "      <th>medium</th>\n",
       "      <th>high</th>\n",
       "    </tr>\n",
       "    <tr>\n",
       "      <th>region</th>\n",
       "      <th></th>\n",
       "      <th></th>\n",
       "      <th></th>\n",
       "    </tr>\n",
       "  </thead>\n",
       "  <tbody>\n",
       "    <tr>\n",
       "      <th>Caucasus &amp; Central Asia</th>\n",
       "      <td>0</td>\n",
       "      <td>4</td>\n",
       "      <td>2</td>\n",
       "    </tr>\n",
       "    <tr>\n",
       "      <th>East Asia</th>\n",
       "      <td>0</td>\n",
       "      <td>2</td>\n",
       "      <td>4</td>\n",
       "    </tr>\n",
       "    <tr>\n",
       "      <th>Eastern Europe</th>\n",
       "      <td>0</td>\n",
       "      <td>7</td>\n",
       "      <td>15</td>\n",
       "    </tr>\n",
       "    <tr>\n",
       "      <th>LatAm</th>\n",
       "      <td>5</td>\n",
       "      <td>12</td>\n",
       "      <td>9</td>\n",
       "    </tr>\n",
       "    <tr>\n",
       "      <th>Middle East &amp; North Africa</th>\n",
       "      <td>17</td>\n",
       "      <td>2</td>\n",
       "      <td>0</td>\n",
       "    </tr>\n",
       "    <tr>\n",
       "      <th>North America</th>\n",
       "      <td>0</td>\n",
       "      <td>0</td>\n",
       "      <td>2</td>\n",
       "    </tr>\n",
       "    <tr>\n",
       "      <th>Oceania</th>\n",
       "      <td>1</td>\n",
       "      <td>0</td>\n",
       "      <td>3</td>\n",
       "    </tr>\n",
       "    <tr>\n",
       "      <th>South Asia</th>\n",
       "      <td>6</td>\n",
       "      <td>10</td>\n",
       "      <td>1</td>\n",
       "    </tr>\n",
       "    <tr>\n",
       "      <th>Sub-Saharan Africa</th>\n",
       "      <td>23</td>\n",
       "      <td>16</td>\n",
       "      <td>3</td>\n",
       "    </tr>\n",
       "    <tr>\n",
       "      <th>Western Europe</th>\n",
       "      <td>0</td>\n",
       "      <td>1</td>\n",
       "      <td>17</td>\n",
       "    </tr>\n",
       "  </tbody>\n",
       "</table>\n",
       "</div>"
      ],
      "text/plain": [
       "pf_identity_segment         low  medium  high\n",
       "region                                       \n",
       "Caucasus & Central Asia       0       4     2\n",
       "East Asia                     0       2     4\n",
       "Eastern Europe                0       7    15\n",
       "LatAm                         5      12     9\n",
       "Middle East & North Africa   17       2     0\n",
       "North America                 0       0     2\n",
       "Oceania                       1       0     3\n",
       "South Asia                    6      10     1\n",
       "Sub-Saharan Africa           23      16     3\n",
       "Western Europe                0       1    17"
      ]
     },
     "execution_count": 75,
     "metadata": {},
     "output_type": "execute_result"
    }
   ],
   "source": [
    "exp3 = pandas.crosstab(datos2.region, datos2.pf_identity_segment)\n",
    "exp3"
   ]
  },
  {
   "cell_type": "code",
   "execution_count": 77,
   "metadata": {},
   "outputs": [
    {
     "data": {
      "text/plain": [
       "(112.79796173374365, 9.460276137592545e-16)"
      ]
     },
     "execution_count": 77,
     "metadata": {},
     "output_type": "execute_result"
    }
   ],
   "source": [
    "g, p, dof, expctd = chi2_contingency(exp3)\n",
    "g, p"
   ]
  },
  {
   "cell_type": "markdown",
   "metadata": {},
   "source": [
    "Además de completar estos puntos faltantes, luego de haber visitado los conceptos de percepción visual y comunicación efectiva, están en condiciones de reveer los gráficos realizados y evaluar si pueden ser mejorados. Para ello, puede hacerse las siguientes preguntas:\n",
    "\n",
    "* ¿Están utilizando el tipo de gráfico adecuado para cada tipo de variable?\n",
    "* Los gráficos, ¿son legibles?\n",
    "* Los gráficos generados, ¿responden a las preguntas mostrando un patrón claro? En caso de que no, ¿podemos filtrar los datos para que el patrón sea más evidente? ¿o agruparlos de manera distinta? ¿o cambiar el tipo de gráfico?"
   ]
  },
  {
   "cell_type": "code",
   "execution_count": null,
   "metadata": {},
   "outputs": [],
   "source": []
  }
 ],
 "metadata": {
  "colab": {
   "name": "practico1.ipynb",
   "provenance": []
  },
  "kernelspec": {
   "display_name": "Python 3",
   "language": "python",
   "name": "python3"
  },
  "language_info": {
   "codemirror_mode": {
    "name": "ipython",
    "version": 3
   },
   "file_extension": ".py",
   "mimetype": "text/x-python",
   "name": "python",
   "nbconvert_exporter": "python",
   "pygments_lexer": "ipython3",
   "version": "3.7.6"
  }
 },
 "nbformat": 4,
 "nbformat_minor": 4
}
