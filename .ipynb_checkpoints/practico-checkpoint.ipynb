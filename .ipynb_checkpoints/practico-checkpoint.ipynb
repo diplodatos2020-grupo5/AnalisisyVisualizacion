{
 "cells": [
  {
   "cell_type": "markdown",
   "metadata": {
    "colab_type": "text",
    "id": "mKqgKTs3FZCI"
   },
   "source": [
    "<center>\n",
    "<h4>Universidad Nacional de Córdoba - Facultad de Matemática, Astronomía, Física y Computación</h4>\n",
    "<h3>Diplomatura en Ciencia de Datos, Aprendizaje Automático y sus Aplicaciones</h3>\n",
    "</center>"
   ]
  },
  {
   "cell_type": "markdown",
   "metadata": {
    "colab_type": "text",
    "id": "b956SHDlFZCJ"
   },
   "source": [
    "<h1> Práctico </h1>\n",
    "<h3> Análisis y Visualización de Datos - 2020 </h3>\n",
    "\n",
    "Durante este práctico vamos a trabajar sobre el dataset [Human Freedom Index 2018](https://www.cato.org/human-freedom-index-new) de el instituto Cato. Este índice mide en detalle lo que entendemos como libertad, utilizando 79 indicadores de libertad personal y económica en distintos aspectos, hasta obtener un hermoso numerito del 1 al 10.\n",
    "\n",
    "Las variables más importantes sobre las que trabaja el dataset son:\n",
    "\n",
    "* Rule of Law\n",
    "* Security and Safety\n",
    "* Movement\n",
    "* Religion\n",
    "* Association, Assembly, and Civil Society\n",
    "* Expression and Information\n",
    "* Identity and Relationships\n",
    "* Size of Government\n",
    "* Legal System and Property Rights\n",
    "* Access to Sound Money\n",
    "* Freedom to Trade Internationally\n",
    "* Regulation of Credit, Labor, and Business\n",
    "\n",
    "Nosotros centrarermos nuestro análisis en variables relacionadas a *Identity and Relationships* en paises de Latinoamérica, y los compararemos con las estadísticas globales. La pregunta a responder es simple: **¿Qué niveles de libertad se viven en Latinoamérica, especificamente en cuanto libertades de indentidad?**. Sin embargo, para hacer un análisis de los datos tenemos que platear también estas sub preguntas:\n",
    "\n",
    "1. ¿Qué significa tener un puntaje de 4.5? Hay que poner los puntajes de la región en contexto con los datos del resto del mundo.\n",
    "2. ¿Cuál es la tendencia a lo largo de los años? ¿Estamos mejorando, empeorando?\n",
    "3. En este estudio, la libertad se mide con un estimadores principal: *hf_score* que hace referencia a Human Freedom, que a su vez está calculado en base a dos otros estimadores *ef_score*, para Economic Freedom y *pf_score*, para Personal Freedom. Estos tres estimadores, ¿se relacionan de la misma manera con la libertad de identidad?\n",
    "\n",
    "Inicialmente, en toda exploración de datos tenemos muy poca información a priori sobre el significado de los datos y tenemos que empezar por comprenderlos. Les proponemos los siguientes ejercicios como guía para comenzar esta exploración."
   ]
  },
  {
   "cell_type": "code",
   "execution_count": 104,
   "metadata": {
    "colab": {
     "base_uri": "https://localhost:8080/",
     "height": 73
    },
    "colab_type": "code",
    "id": "xZoxu5phFZCK",
    "outputId": "316448bd-61a0-4fc4-e2d0-7abfce040abd"
   },
   "outputs": [],
   "source": [
    "import matplotlib.pyplot as plt\n",
    "import numpy\n",
    "import pandas\n",
    "import seaborn"
   ]
  },
  {
   "cell_type": "code",
   "execution_count": 122,
   "metadata": {},
   "outputs": [
    {
     "data": {
      "text/plain": [
       "'0.10.1'"
      ]
     },
     "execution_count": 122,
     "metadata": {},
     "output_type": "execute_result"
    }
   ],
   "source": [
    "BLUE = '#35A7FF'\n",
    "RED = '#FF5964'\n",
    "GREEN = '#6BF178'\n",
    "YELLOW = '#FFE74C'\n",
    "# Con esto hacemos los gráficos más grandes, adecuados para las presentaciones.\n",
    "seaborn.set_context(context='talk', font_scale=1.2)\n",
    "seaborn.__version__"
   ]
  },
  {
   "cell_type": "code",
   "execution_count": 123,
   "metadata": {
    "colab": {
     "base_uri": "https://localhost:8080/",
     "height": 35
    },
    "colab_type": "code",
    "id": "-QOtVVUOFZCU",
    "outputId": "9ab2645c-ce83-4ffc-c61b-2477a50f068c"
   },
   "outputs": [
    {
     "data": {
      "text/plain": [
       "(1620, 120)"
      ]
     },
     "execution_count": 123,
     "metadata": {},
     "output_type": "execute_result"
    }
   ],
   "source": [
    "dataset_base = pandas.read_csv(\n",
    "    'https://object.cato.org/sites/cato.org/files/human-freedom-index-files/human-freedom-index-2019.csv')\n",
    "dataset_base.shape"
   ]
  },
  {
   "cell_type": "markdown",
   "metadata": {
    "colab_type": "text",
    "id": "05keUcCbFZCc"
   },
   "source": [
    "Por suerte las columnas tienen un prefijo que nos ayuda a identificar a qué sección pertenecen. Nos quedamos sólo con las que comienzan con *pf_indentity*, junto con otras columnas más generales"
   ]
  },
  {
   "cell_type": "code",
   "execution_count": 124,
   "metadata": {
    "colab": {},
    "colab_type": "code",
    "id": "EQCW-sJSFZCd"
   },
   "outputs": [],
   "source": [
    "score_cols = [col for col in dataset_base.columns if 'pf_identity' in col] + [\n",
    "    'pf_score', # Personal Freedom (score)\n",
    "    'pf_rank', # Personal Freedom (rank)\n",
    "    'ef_score', # Economic Freedom (score)\n",
    "    'ef_rank', # Economic Freedom (rank)\n",
    "    'hf_score', # Human Freedom (score)\n",
    "    'hf_rank', # Human Freedom (rank)\n",
    "]\n",
    "\n",
    "important_cols = ['year', 'ISO_code', 'countries', 'region'] + score_cols"
   ]
  },
  {
   "cell_type": "markdown",
   "metadata": {
    "colab_type": "text",
    "id": "HPC6X48OVqgN"
   },
   "source": [
    "Si analizamos los tipos, vemos que casi todas las columnas se leen como objetos debido a que los valores nulos están marcados con `-`. Los vamos a eliminar y volveremos a convertir las columnas con puntajes a tipo numérico."
   ]
  },
  {
   "cell_type": "code",
   "execution_count": 125,
   "metadata": {
    "colab": {
     "base_uri": "https://localhost:8080/",
     "height": 677
    },
    "colab_type": "code",
    "id": "cNSfBVH2WDVu",
    "outputId": "2bcdcc79-d263-4391-8272-4f4ac3ad04b1"
   },
   "outputs": [
    {
     "data": {
      "text/html": [
       "<div>\n",
       "<style scoped>\n",
       "    .dataframe tbody tr th:only-of-type {\n",
       "        vertical-align: middle;\n",
       "    }\n",
       "\n",
       "    .dataframe tbody tr th {\n",
       "        vertical-align: top;\n",
       "    }\n",
       "\n",
       "    .dataframe thead th {\n",
       "        text-align: right;\n",
       "    }\n",
       "</style>\n",
       "<table border=\"1\" class=\"dataframe\">\n",
       "  <thead>\n",
       "    <tr style=\"text-align: right;\">\n",
       "      <th></th>\n",
       "      <th>year</th>\n",
       "      <th>ISO_code</th>\n",
       "      <th>countries</th>\n",
       "      <th>region</th>\n",
       "      <th>pf_identity_legal</th>\n",
       "      <th>pf_identity_sex_male</th>\n",
       "      <th>pf_identity_sex_female</th>\n",
       "      <th>pf_identity_sex</th>\n",
       "      <th>pf_identity_divorce</th>\n",
       "      <th>pf_identity</th>\n",
       "      <th>pf_score</th>\n",
       "      <th>pf_rank</th>\n",
       "      <th>ef_score</th>\n",
       "      <th>ef_rank</th>\n",
       "      <th>hf_score</th>\n",
       "      <th>hf_rank</th>\n",
       "    </tr>\n",
       "  </thead>\n",
       "  <tbody>\n",
       "    <tr>\n",
       "      <th>1615</th>\n",
       "      <td>2008</td>\n",
       "      <td>AUS</td>\n",
       "      <td>Australia</td>\n",
       "      <td>Oceania</td>\n",
       "      <td>NaN</td>\n",
       "      <td>10.0</td>\n",
       "      <td>10.0</td>\n",
       "      <td>10.0</td>\n",
       "      <td>10.0</td>\n",
       "      <td>10.0</td>\n",
       "      <td>9.29</td>\n",
       "      <td>7.0</td>\n",
       "      <td>8.18</td>\n",
       "      <td>6.0</td>\n",
       "      <td>8.73</td>\n",
       "      <td>4.0</td>\n",
       "    </tr>\n",
       "    <tr>\n",
       "      <th>1616</th>\n",
       "      <td>2008</td>\n",
       "      <td>DNK</td>\n",
       "      <td>Denmark</td>\n",
       "      <td>Western Europe</td>\n",
       "      <td>NaN</td>\n",
       "      <td>10.0</td>\n",
       "      <td>10.0</td>\n",
       "      <td>10.0</td>\n",
       "      <td>10.0</td>\n",
       "      <td>10.0</td>\n",
       "      <td>9.49</td>\n",
       "      <td>3.0</td>\n",
       "      <td>7.98</td>\n",
       "      <td>9.0</td>\n",
       "      <td>8.73</td>\n",
       "      <td>4.0</td>\n",
       "    </tr>\n",
       "    <tr>\n",
       "      <th>1617</th>\n",
       "      <td>2008</td>\n",
       "      <td>CHE</td>\n",
       "      <td>Switzerland</td>\n",
       "      <td>Western Europe</td>\n",
       "      <td>NaN</td>\n",
       "      <td>10.0</td>\n",
       "      <td>10.0</td>\n",
       "      <td>10.0</td>\n",
       "      <td>10.0</td>\n",
       "      <td>10.0</td>\n",
       "      <td>9.31</td>\n",
       "      <td>6.0</td>\n",
       "      <td>8.35</td>\n",
       "      <td>4.0</td>\n",
       "      <td>8.83</td>\n",
       "      <td>3.0</td>\n",
       "    </tr>\n",
       "    <tr>\n",
       "      <th>1618</th>\n",
       "      <td>2008</td>\n",
       "      <td>NZL</td>\n",
       "      <td>New Zealand</td>\n",
       "      <td>Oceania</td>\n",
       "      <td>NaN</td>\n",
       "      <td>10.0</td>\n",
       "      <td>10.0</td>\n",
       "      <td>10.0</td>\n",
       "      <td>10.0</td>\n",
       "      <td>10.0</td>\n",
       "      <td>9.42</td>\n",
       "      <td>4.0</td>\n",
       "      <td>8.46</td>\n",
       "      <td>3.0</td>\n",
       "      <td>8.94</td>\n",
       "      <td>2.0</td>\n",
       "    </tr>\n",
       "    <tr>\n",
       "      <th>1619</th>\n",
       "      <td>2008</td>\n",
       "      <td>HKG</td>\n",
       "      <td>Hong Kong</td>\n",
       "      <td>East Asia</td>\n",
       "      <td>NaN</td>\n",
       "      <td>10.0</td>\n",
       "      <td>10.0</td>\n",
       "      <td>10.0</td>\n",
       "      <td>10.0</td>\n",
       "      <td>10.0</td>\n",
       "      <td>9.13</td>\n",
       "      <td>12.0</td>\n",
       "      <td>9.11</td>\n",
       "      <td>1.0</td>\n",
       "      <td>9.12</td>\n",
       "      <td>1.0</td>\n",
       "    </tr>\n",
       "  </tbody>\n",
       "</table>\n",
       "</div>"
      ],
      "text/plain": [
       "      year ISO_code    countries          region  pf_identity_legal  \\\n",
       "1615  2008      AUS    Australia         Oceania                NaN   \n",
       "1616  2008      DNK      Denmark  Western Europe                NaN   \n",
       "1617  2008      CHE  Switzerland  Western Europe                NaN   \n",
       "1618  2008      NZL  New Zealand         Oceania                NaN   \n",
       "1619  2008      HKG    Hong Kong       East Asia                NaN   \n",
       "\n",
       "      pf_identity_sex_male  pf_identity_sex_female  pf_identity_sex  \\\n",
       "1615                  10.0                    10.0             10.0   \n",
       "1616                  10.0                    10.0             10.0   \n",
       "1617                  10.0                    10.0             10.0   \n",
       "1618                  10.0                    10.0             10.0   \n",
       "1619                  10.0                    10.0             10.0   \n",
       "\n",
       "      pf_identity_divorce  pf_identity  pf_score  pf_rank  ef_score  ef_rank  \\\n",
       "1615                 10.0         10.0      9.29      7.0      8.18      6.0   \n",
       "1616                 10.0         10.0      9.49      3.0      7.98      9.0   \n",
       "1617                 10.0         10.0      9.31      6.0      8.35      4.0   \n",
       "1618                 10.0         10.0      9.42      4.0      8.46      3.0   \n",
       "1619                 10.0         10.0      9.13     12.0      9.11      1.0   \n",
       "\n",
       "      hf_score  hf_rank  \n",
       "1615      8.73      4.0  \n",
       "1616      8.73      4.0  \n",
       "1617      8.83      3.0  \n",
       "1618      8.94      2.0  \n",
       "1619      9.12      1.0  "
      ]
     },
     "execution_count": 125,
     "metadata": {},
     "output_type": "execute_result"
    }
   ],
   "source": [
    "dataset_base = dataset_base[important_cols].replace('-', numpy.nan)\n",
    "for score_col in score_cols:\n",
    "    dataset_base[score_col] = pandas.to_numeric(dataset_base[score_col])\n",
    "dataset_base = dataset_base.replace('Latin America & the Caribbean','LatAm')\n",
    "dataset_base.tail()"
   ]
  },
  {
   "cell_type": "code",
   "execution_count": 126,
   "metadata": {},
   "outputs": [
    {
     "data": {
      "text/plain": [
       "year                        int64\n",
       "ISO_code                   object\n",
       "countries                  object\n",
       "region                     object\n",
       "pf_identity_legal         float64\n",
       "pf_identity_sex_male      float64\n",
       "pf_identity_sex_female    float64\n",
       "pf_identity_sex           float64\n",
       "pf_identity_divorce       float64\n",
       "pf_identity               float64\n",
       "pf_score                  float64\n",
       "pf_rank                   float64\n",
       "ef_score                  float64\n",
       "ef_rank                   float64\n",
       "hf_score                  float64\n",
       "hf_rank                   float64\n",
       "dtype: object"
      ]
     },
     "execution_count": 126,
     "metadata": {},
     "output_type": "execute_result"
    }
   ],
   "source": [
    "dataset_base.dtypes"
   ]
  },
  {
   "cell_type": "markdown",
   "metadata": {
    "colab_type": "text",
    "id": "jD3nFLfXSgp7"
   },
   "source": [
    "# Parte 1"
   ]
  },
  {
   "cell_type": "markdown",
   "metadata": {},
   "source": [
    "## 1. Estadísticos descriptivos\n",
    "\n",
    "  1. Para comenzar con un pantallazo de los datos, calcular el rango de las variables."
   ]
  },
  {
   "cell_type": "code",
   "execution_count": 127,
   "metadata": {
    "scrolled": false
   },
   "outputs": [
    {
     "data": {
      "text/html": [
       "<div>\n",
       "<style scoped>\n",
       "    .dataframe tbody tr th:only-of-type {\n",
       "        vertical-align: middle;\n",
       "    }\n",
       "\n",
       "    .dataframe tbody tr th {\n",
       "        vertical-align: top;\n",
       "    }\n",
       "\n",
       "    .dataframe thead th {\n",
       "        text-align: right;\n",
       "    }\n",
       "</style>\n",
       "<table border=\"1\" class=\"dataframe\">\n",
       "  <thead>\n",
       "    <tr style=\"text-align: right;\">\n",
       "      <th></th>\n",
       "      <th>Min</th>\n",
       "      <th>Max</th>\n",
       "      <th>Range</th>\n",
       "    </tr>\n",
       "  </thead>\n",
       "  <tbody>\n",
       "    <tr>\n",
       "      <th>year</th>\n",
       "      <td>2008.00</td>\n",
       "      <td>2017.00</td>\n",
       "      <td>9.00</td>\n",
       "    </tr>\n",
       "    <tr>\n",
       "      <th>pf_identity_legal</th>\n",
       "      <td>0.00</td>\n",
       "      <td>10.00</td>\n",
       "      <td>10.00</td>\n",
       "    </tr>\n",
       "    <tr>\n",
       "      <th>pf_identity_sex_male</th>\n",
       "      <td>0.00</td>\n",
       "      <td>10.00</td>\n",
       "      <td>10.00</td>\n",
       "    </tr>\n",
       "    <tr>\n",
       "      <th>pf_identity_sex_female</th>\n",
       "      <td>0.00</td>\n",
       "      <td>10.00</td>\n",
       "      <td>10.00</td>\n",
       "    </tr>\n",
       "    <tr>\n",
       "      <th>pf_identity_sex</th>\n",
       "      <td>0.00</td>\n",
       "      <td>10.00</td>\n",
       "      <td>10.00</td>\n",
       "    </tr>\n",
       "    <tr>\n",
       "      <th>pf_identity_divorce</th>\n",
       "      <td>0.00</td>\n",
       "      <td>10.00</td>\n",
       "      <td>10.00</td>\n",
       "    </tr>\n",
       "    <tr>\n",
       "      <th>pf_identity</th>\n",
       "      <td>0.00</td>\n",
       "      <td>10.00</td>\n",
       "      <td>10.00</td>\n",
       "    </tr>\n",
       "    <tr>\n",
       "      <th>pf_score</th>\n",
       "      <td>2.22</td>\n",
       "      <td>9.56</td>\n",
       "      <td>7.34</td>\n",
       "    </tr>\n",
       "    <tr>\n",
       "      <th>pf_rank</th>\n",
       "      <td>1.00</td>\n",
       "      <td>162.00</td>\n",
       "      <td>161.00</td>\n",
       "    </tr>\n",
       "    <tr>\n",
       "      <th>ef_score</th>\n",
       "      <td>2.58</td>\n",
       "      <td>9.11</td>\n",
       "      <td>6.53</td>\n",
       "    </tr>\n",
       "    <tr>\n",
       "      <th>ef_rank</th>\n",
       "      <td>1.00</td>\n",
       "      <td>162.00</td>\n",
       "      <td>161.00</td>\n",
       "    </tr>\n",
       "    <tr>\n",
       "      <th>hf_score</th>\n",
       "      <td>3.69</td>\n",
       "      <td>9.12</td>\n",
       "      <td>5.43</td>\n",
       "    </tr>\n",
       "    <tr>\n",
       "      <th>hf_rank</th>\n",
       "      <td>1.00</td>\n",
       "      <td>162.00</td>\n",
       "      <td>161.00</td>\n",
       "    </tr>\n",
       "  </tbody>\n",
       "</table>\n",
       "</div>"
      ],
      "text/plain": [
       "                            Min      Max   Range\n",
       "year                    2008.00  2017.00    9.00\n",
       "pf_identity_legal          0.00    10.00   10.00\n",
       "pf_identity_sex_male       0.00    10.00   10.00\n",
       "pf_identity_sex_female     0.00    10.00   10.00\n",
       "pf_identity_sex            0.00    10.00   10.00\n",
       "pf_identity_divorce        0.00    10.00   10.00\n",
       "pf_identity                0.00    10.00   10.00\n",
       "pf_score                   2.22     9.56    7.34\n",
       "pf_rank                    1.00   162.00  161.00\n",
       "ef_score                   2.58     9.11    6.53\n",
       "ef_rank                    1.00   162.00  161.00\n",
       "hf_score                   3.69     9.12    5.43\n",
       "hf_rank                    1.00   162.00  161.00"
      ]
     },
     "execution_count": 127,
     "metadata": {},
     "output_type": "execute_result"
    }
   ],
   "source": [
    "pandas.to_numeric(dataset_base.year, downcast='integer')\n",
    "dataset_base['year'] = pandas.to_numeric(dataset_base['year'], downcast='integer')\n",
    "df = dataset_base\n",
    "df = df.drop(['ISO_code', 'countries', 'region'], axis=1)# drop non numeric variables\n",
    "max_row = df.max()\n",
    "min_row = df.min()\n",
    "min_row[0] = min_row[0].astype('int32')\n",
    "max_row[0] = max_row[0].astype('int32')\n",
    "ranges = max_row - min_row\n",
    "range_df = pandas.DataFrame({'Min' : min_row,'Max' : max_row, \"Range\" : ranges})\n",
    "round(range_df,2)"
   ]
  },
  {
   "cell_type": "markdown",
   "metadata": {
    "colab_type": "text",
    "id": "DHwEp61uFZCl"
   },
   "source": [
    "  2. Para cada país, tenemos varias realizaciones para cada variable *pf_identity* y *hf_score*. Si queremos comparar un país con otro, ¿cuál es la manera adecuada de hacerlo? Por ejemplo, ¿nos quedamos con un único valor? ¿o comparamos todos los valores? ¿usamos el promedio? ¿usamos la mediana? "
   ]
  },
  {
   "cell_type": "markdown",
   "metadata": {},
   "source": [
    "RESPUESTA: Para sacar conclusiones decidimos usar principalmente los promedios (mean) porque, entre las medidas de tendencia central, el *mean* es el estimador que incluye todos los datos. Eso no es el caso con la mediana. "
   ]
  },
  {
   "cell_type": "code",
   "execution_count": 128,
   "metadata": {},
   "outputs": [
    {
     "data": {
      "text/html": [
       "<div>\n",
       "<style scoped>\n",
       "    .dataframe tbody tr th:only-of-type {\n",
       "        vertical-align: middle;\n",
       "    }\n",
       "\n",
       "    .dataframe tbody tr th {\n",
       "        vertical-align: top;\n",
       "    }\n",
       "\n",
       "    .dataframe thead th {\n",
       "        text-align: right;\n",
       "    }\n",
       "</style>\n",
       "<table border=\"1\" class=\"dataframe\">\n",
       "  <thead>\n",
       "    <tr style=\"text-align: right;\">\n",
       "      <th></th>\n",
       "      <th>pf_identity</th>\n",
       "      <th>pf_score</th>\n",
       "      <th>hf_score</th>\n",
       "      <th>ef_score</th>\n",
       "      <th>region</th>\n",
       "    </tr>\n",
       "    <tr>\n",
       "      <th>countries</th>\n",
       "      <th></th>\n",
       "      <th></th>\n",
       "      <th></th>\n",
       "      <th></th>\n",
       "      <th></th>\n",
       "    </tr>\n",
       "  </thead>\n",
       "  <tbody>\n",
       "    <tr>\n",
       "      <th>Albania</th>\n",
       "      <td>7.90</td>\n",
       "      <td>7.805</td>\n",
       "      <td>7.631</td>\n",
       "      <td>7.457</td>\n",
       "      <td>Eastern Europe</td>\n",
       "    </tr>\n",
       "    <tr>\n",
       "      <th>Algeria</th>\n",
       "      <td>1.17</td>\n",
       "      <td>5.269</td>\n",
       "      <td>5.165</td>\n",
       "      <td>5.061</td>\n",
       "      <td>Middle East &amp; North Africa</td>\n",
       "    </tr>\n",
       "    <tr>\n",
       "      <th>Angola</th>\n",
       "      <td>5.34</td>\n",
       "      <td>5.690</td>\n",
       "      <td>5.442</td>\n",
       "      <td>5.194</td>\n",
       "      <td>Sub-Saharan Africa</td>\n",
       "    </tr>\n",
       "    <tr>\n",
       "      <th>Argentina</th>\n",
       "      <td>10.00</td>\n",
       "      <td>8.100</td>\n",
       "      <td>6.766</td>\n",
       "      <td>5.432</td>\n",
       "      <td>LatAm</td>\n",
       "    </tr>\n",
       "    <tr>\n",
       "      <th>Armenia</th>\n",
       "      <td>8.62</td>\n",
       "      <td>7.215</td>\n",
       "      <td>7.443</td>\n",
       "      <td>7.668</td>\n",
       "      <td>Caucasus &amp; Central Asia</td>\n",
       "    </tr>\n",
       "    <tr>\n",
       "      <th>Australia</th>\n",
       "      <td>9.70</td>\n",
       "      <td>9.217</td>\n",
       "      <td>8.644</td>\n",
       "      <td>8.072</td>\n",
       "      <td>Oceania</td>\n",
       "    </tr>\n",
       "    <tr>\n",
       "      <th>Austria</th>\n",
       "      <td>10.00</td>\n",
       "      <td>9.207</td>\n",
       "      <td>8.476</td>\n",
       "      <td>7.744</td>\n",
       "      <td>Western Europe</td>\n",
       "    </tr>\n",
       "    <tr>\n",
       "      <th>Azerbaijan</th>\n",
       "      <td>7.90</td>\n",
       "      <td>6.121</td>\n",
       "      <td>6.172</td>\n",
       "      <td>6.225</td>\n",
       "      <td>Caucasus &amp; Central Asia</td>\n",
       "    </tr>\n",
       "    <tr>\n",
       "      <th>Bahamas</th>\n",
       "      <td>10.00</td>\n",
       "      <td>7.941</td>\n",
       "      <td>7.656</td>\n",
       "      <td>7.372</td>\n",
       "      <td>LatAm</td>\n",
       "    </tr>\n",
       "    <tr>\n",
       "      <th>Bahrain</th>\n",
       "      <td>5.00</td>\n",
       "      <td>6.239</td>\n",
       "      <td>6.741</td>\n",
       "      <td>7.241</td>\n",
       "      <td>Middle East &amp; North Africa</td>\n",
       "    </tr>\n",
       "  </tbody>\n",
       "</table>\n",
       "</div>"
      ],
      "text/plain": [
       "            pf_identity  pf_score  hf_score  ef_score  \\\n",
       "countries                                               \n",
       "Albania            7.90     7.805     7.631     7.457   \n",
       "Algeria            1.17     5.269     5.165     5.061   \n",
       "Angola             5.34     5.690     5.442     5.194   \n",
       "Argentina         10.00     8.100     6.766     5.432   \n",
       "Armenia            8.62     7.215     7.443     7.668   \n",
       "Australia          9.70     9.217     8.644     8.072   \n",
       "Austria           10.00     9.207     8.476     7.744   \n",
       "Azerbaijan         7.90     6.121     6.172     6.225   \n",
       "Bahamas           10.00     7.941     7.656     7.372   \n",
       "Bahrain            5.00     6.239     6.741     7.241   \n",
       "\n",
       "                                region  \n",
       "countries                               \n",
       "Albania                 Eastern Europe  \n",
       "Algeria     Middle East & North Africa  \n",
       "Angola              Sub-Saharan Africa  \n",
       "Argentina                        LatAm  \n",
       "Armenia        Caucasus & Central Asia  \n",
       "Australia                      Oceania  \n",
       "Austria                 Western Europe  \n",
       "Azerbaijan     Caucasus & Central Asia  \n",
       "Bahamas                          LatAm  \n",
       "Bahrain     Middle East & North Africa  "
      ]
     },
     "execution_count": 128,
     "metadata": {},
     "output_type": "execute_result"
    }
   ],
   "source": [
    "pf_identity_mean = dataset_base.pivot(index='year', columns='countries', values='pf_identity').mean()\n",
    "pf_score_mean = dataset_base.pivot(index='year', columns='countries', values='pf_score').mean()\n",
    "hf_score_mean = dataset_base.pivot(index='year', columns='countries', values='hf_score').mean()\n",
    "ef_score_mean = dataset_base.pivot(index='year', columns='countries', values='ef_score').mean()\n",
    "region = dataset_base.pivot(index='year', columns='countries', values='region').iloc[0]\n",
    "dataset = pandas.DataFrame({\"pf_identity\" : pf_identity_mean, \"pf_score\": pf_score_mean, \"hf_score\": hf_score_mean,\"ef_score\": ef_score_mean, \"region\":region  })\n",
    "dataset.head(10)"
   ]
  },
  {
   "cell_type": "markdown",
   "metadata": {},
   "source": [
    "2. Obtener media, mediana y desviación estándar de las variables *pf_identity* y *hf_score* en el mundo y compararla con la de Latinoamérica y el caribe. Usar la respuesta del punto anterior para justificar si la comparación es válida o no. Eso no es el caso con la mediana."
   ]
  },
  {
   "cell_type": "code",
   "execution_count": 129,
   "metadata": {},
   "outputs": [],
   "source": [
    "# Create a subset for latin america and the carribean\n",
    "grouped = dataset.groupby(['region'])\n",
    "LatAm = grouped.get_group('LatAm')"
   ]
  },
  {
   "cell_type": "code",
   "execution_count": 130,
   "metadata": {},
   "outputs": [
    {
     "data": {
      "text/html": [
       "<div>\n",
       "<style scoped>\n",
       "    .dataframe tbody tr th:only-of-type {\n",
       "        vertical-align: middle;\n",
       "    }\n",
       "\n",
       "    .dataframe tbody tr th {\n",
       "        vertical-align: top;\n",
       "    }\n",
       "\n",
       "    .dataframe thead th {\n",
       "        text-align: right;\n",
       "    }\n",
       "</style>\n",
       "<table border=\"1\" class=\"dataframe\">\n",
       "  <thead>\n",
       "    <tr style=\"text-align: right;\">\n",
       "      <th></th>\n",
       "      <th>LatAm</th>\n",
       "      <th>World</th>\n",
       "    </tr>\n",
       "    <tr>\n",
       "      <th>index</th>\n",
       "      <th></th>\n",
       "      <th></th>\n",
       "    </tr>\n",
       "  </thead>\n",
       "  <tbody>\n",
       "    <tr>\n",
       "      <th>pf_identity_mean</th>\n",
       "      <td>8.59</td>\n",
       "      <td>7.12</td>\n",
       "    </tr>\n",
       "    <tr>\n",
       "      <th>pf_identity_std</th>\n",
       "      <td>1.47</td>\n",
       "      <td>3.18</td>\n",
       "    </tr>\n",
       "    <tr>\n",
       "      <th>pf_identity_median</th>\n",
       "      <td>9.01</td>\n",
       "      <td>8.69</td>\n",
       "    </tr>\n",
       "    <tr>\n",
       "      <th>hf_score_mean</th>\n",
       "      <td>7.04</td>\n",
       "      <td>6.92</td>\n",
       "    </tr>\n",
       "    <tr>\n",
       "      <th>hf_score_std</th>\n",
       "      <td>0.62</td>\n",
       "      <td>1.07</td>\n",
       "    </tr>\n",
       "    <tr>\n",
       "      <th>hf_score_median</th>\n",
       "      <td>6.98</td>\n",
       "      <td>6.80</td>\n",
       "    </tr>\n",
       "  </tbody>\n",
       "</table>\n",
       "</div>"
      ],
      "text/plain": [
       "                    LatAm  World\n",
       "index                           \n",
       "pf_identity_mean     8.59   7.12\n",
       "pf_identity_std      1.47   3.18\n",
       "pf_identity_median   9.01   8.69\n",
       "hf_score_mean        7.04   6.92\n",
       "hf_score_std         0.62   1.07\n",
       "hf_score_median      6.98   6.80"
      ]
     },
     "execution_count": 130,
     "metadata": {},
     "output_type": "execute_result"
    }
   ],
   "source": [
    "descriptive_df = pandas.DataFrame({'index' : ['pf_identity_mean','pf_identity_std','pf_identity_median', \\\n",
    "                                              'hf_score_mean','hf_score_std','hf_score_median'], \\\n",
    "                                   'LatAm' : [ LatAm.pf_identity.mean(), \\\n",
    "                                              LatAm.pf_identity.std(), \\\n",
    "                                              LatAm.pf_identity.median(), \\\n",
    "                                              LatAm.hf_score.mean(), \\\n",
    "                                              LatAm.hf_score.std(), \\\n",
    "                                              LatAm.hf_score.median()], \\\n",
    "                                   \"World\" : [ dataset.pf_identity.mean(), \\\n",
    "                                              dataset.pf_identity.std(), \\\n",
    "                                              dataset.pf_identity.median(), \\\n",
    "                                              dataset.hf_score.mean(), \\\n",
    "                                              dataset.hf_score.std(), \\\n",
    "                                              dataset.hf_score.median()]})\n",
    "round(descriptive_df.set_index('index'),2) # make it a little prettier"
   ]
  },
  {
   "cell_type": "markdown",
   "metadata": {},
   "source": [
    "  * ¿Tiene sentido calcular la moda? \n",
    "  *RESPUESTA*: No tiene mucho sentido calcular la moda porque no es muy relevante si se repita un valor en ninguna de las variables. \n",
    "  * ¿Cómo pueden sanearse los valores faltantes? \n",
    "  *RESPUESTA*: Por suerte, en pandas, cuando hay un valor faltante, osea un ```None```, no le incluye en el promedio. Todos los valores faltantes estan reemplazados por ```None```. \n",
    "  * ¿Encuentra outliers en estas dos variables? ¿Qué método utiliza para detectarlos? Los outliers, ¿son globales o por grupo? ¿Los eliminaría del conjunto de datos? \n",
    "  RESPUESTA: Usamos la regla de 1.5 * IQR (interquartile range) para identificar outliers. Fue mucho mas facil de encontrar outliers por grupo (en LatAm) que outliers globales.\n"
   ]
  },
  {
   "cell_type": "code",
   "execution_count": 119,
   "metadata": {},
   "outputs": [
    {
     "data": {
      "image/png": "[encoded data removed]",
      "text/plain": [
       "<Figure size 720x432 with 1 Axes>"
      ]
     },
     "metadata": {
      "needs_background": "light"
     },
     "output_type": "display_data"
    }
   ],
   "source": [
    "# The best way to quickly visualize outliers is with the box and whiskers plot (grafico de caja)\n",
    "plt.figure(figsize=(10,6))\n",
    "seaborn.boxplot(data=datos1,\n",
    "                x='hf_score', y= 'region',\n",
    "                color=BLUE)\n",
    "plt.ylabel('Regions')\n",
    "plt.xlabel('Human Freedom Score')\n",
    "plt.title('Distribution of Human Freedom Scores by Regions of the World')\n",
    "seaborn.despine()"
   ]
  },
  {
   "cell_type": "markdown",
   "metadata": {},
   "source": [
    "Como indica los diamantes negros al izquierda del whisker a la izquierda de LatAm, hay muchos outliers en nuestra region."
   ]
  },
  {
   "cell_type": "markdown",
   "metadata": {},
   "source": [
    "### Finding outliers method 1: usando 1.5*IQR"
   ]
  },
  {
   "cell_type": "code",
   "execution_count": 172,
   "metadata": {},
   "outputs": [
    {
     "name": "stdout",
     "output_type": "stream",
     "text": [
      "Econtramos 0 outliers para pf_identity World:\n",
      "[]\n",
      "Ellos serian 7.03 mas que 9.7 , que es imposible, o 7.03 menos 5.01 .\n",
      "Outliers para pf_identity serian 7.03 mas que 9.7 , or 7.03  menos que 5.01 . Esta significa que no hay outlieres para pf_identity world.\n",
      "\n",
      "Econtramos 0 outliers para hf_score World:\n",
      "[]\n",
      "Ellos serian 2.4 mas que 7.84 , que es imposible, o 2.4 menos 6.24 .\n",
      "Outliers para hf_score world serian 2.4 mas que 7.84 , que es imposible, o 2.4 menos que 6.24 , que incluye outliers.\n",
      "\n",
      "Econtramos 2 outlier para hf_score LatAm:\n",
      "['Chile', 'Venezuela']\n",
      "Ellos serian 0.72 mas que 7.27 , que es imposible, o 0.72 menos 6.79 .\n",
      "Outliers para hf_score LatAm serian 0.72 más que 7.27 , o 0.72  menos que 6.79 . Entonces facilmente hay muchos outliers en Latam hf_score\n",
      "\n",
      "Econtramos 2 outlier para pf_identity LatAm:\n",
      "['Barbados', 'Trinidad and Tobago']\n",
      "Ellos serian 2.79 mas que 9.86 , que es imposible, o 2.79 menos 8.0 .\n"
     ]
    }
   ],
   "source": [
    "# Outliers World ~~ [ 0.25= Q1, 0.5 = Q2 (median), 0.75= Q3 ]\n",
    "quartiles = dataset.pf_identity.quantile([0.25,0.5,0.75]).round(2)\n",
    "quartiles = quartiles.tolist()\n",
    "IQR = quartiles[2]-quartiles[0] #calculate the interquartile range\n",
    "count = 0\n",
    "outliers = []\n",
    "for idx, row in dataset.iterrows():\n",
    "    if row.pf_identity < quartiles[0]-1.5*IQR or row.pf_identity > quartiles[2]+1.5*IQR:\n",
    "        count += 1\n",
    "        outliers.append(row.name)\n",
    "print(\"Econtramos\",count,\"outliers para pf_identity World:\")\n",
    "print(outliers)\n",
    "print(\"Ellos serian\",round(1.5*IQR,2),\"mas que\",quartiles[2],\", que es imposible, o\",round(1.5*IQR,2),\"menos\",quartiles[0],\".\") # for all outliers will be this many away from the median\n",
    "# Outliers World ~~ [ 0.25= Q1, 0.5 = Q2 (median), 0.75= Q3 ]\n",
    "quartiles = dataset.hf_score.quantile([0.25,0.5,0.75]).round(2)\n",
    "quartiles = quartiles.tolist()\n",
    "IQR = quartiles[2]-quartiles[0] #calculate the interquartile range\n",
    "count = 0\n",
    "outliers = []\n",
    "for idx, row in dataset.iterrows():\n",
    "    if row.hf_score < quartiles[0]-1.5*IQR or row.hf_score > quartiles[2]+1.5*IQR:\n",
    "        count += 1\n",
    "        outliers.append(row.name)\n",
    "print(\"Econtramos\",count,\"outliers para hf_score World:\")\n",
    "print(outliers)\n",
    "print(\"Ellos serian\",round(1.5*IQR,2),\"mas que\",quartiles[2],\", que es imposible, o\",round(1.5*IQR,2),\"menos\",quartiles[0],\".\") # for all outliers will be this many away from the median\n",
    "print(\"Outliers para hf_score world serian\",round(1.5*IQR,2),\"mas que\",quartiles[2],\", que es imposible, o\",round(1.5*IQR,2),\"menos que\",quartiles[0],\", que incluye outliers.\\n\") # for all outliers will be this many away from the median\n",
    "quartiles = LatAm.hf_score.quantile([0.25,0.5,0.75]).round(2)\n",
    "quartiles = quartiles.tolist()\n",
    "IQR = quartiles[2]-quartiles[0] #calculate the interquartile range\n",
    "count = 0\n",
    "outliers = []\n",
    "for idx, row in LatAm.iterrows():\n",
    "    if row.hf_score < quartiles[0]-1.5*IQR or row.hf_score > quartiles[2]+1.5*IQR:\n",
    "        count += 1\n",
    "        outliers.append(row.name)\n",
    "print(\"Econtramos\",count,\"outlier para hf_score LatAm:\")\n",
    "print(outliers)\n",
    "print(\"Ellos serian\",round(1.5*IQR,2),\"mas que\",quartiles[2],\", que es imposible, o\",round(1.5*IQR,2),\"menos\",quartiles[0],\".\") # for all outliers will be this many away from the median\n",
    "print(\"Outliers para hf_score LatAm serian\",round(1.5*IQR,2),\"más que\",quartiles[2],\", o\",round(1.5*IQR,2),\" menos que\",quartiles[0],\". Entonces facilmente hay muchos outliers en Latam hf_score\\n\") \n",
    "quartiles = LatAm.pf_identity.quantile([0.25,0.5,0.75]).round(2)\n",
    "quartiles = quartiles.tolist()\n",
    "IQR = quartiles[2]-quartiles[0] #calculate the interquartile range\n",
    "count = 0\n",
    "outliers = []\n",
    "for idx, row in LatAm.iterrows():\n",
    "    if row.pf_identity < quartiles[0]-1.5*IQR or row.pf_identity > quartiles[2]+1.5*IQR:\n",
    "        count += 1\n",
    "        outliers.append(row.name)\n",
    "print(\"Econtramos\",count,\"outlier para pf_identity LatAm:\")\n",
    "print(outliers)\n",
    "print(\"Ellos serian\",round(1.5*IQR,2),\"mas que\",quartiles[2],\", que es imposible, o\",round(1.5*IQR,2),\"menos\",quartiles[0],\".\") # for all outliers will be this many away from the median\n"
   ]
  },
  {
   "cell_type": "code",
   "execution_count": 148,
   "metadata": {},
   "outputs": [
    {
     "data": {
      "text/html": [
       "<div>\n",
       "<style scoped>\n",
       "    .dataframe tbody tr th:only-of-type {\n",
       "        vertical-align: middle;\n",
       "    }\n",
       "\n",
       "    .dataframe tbody tr th {\n",
       "        vertical-align: top;\n",
       "    }\n",
       "\n",
       "    .dataframe thead th {\n",
       "        text-align: right;\n",
       "    }\n",
       "</style>\n",
       "<table border=\"1\" class=\"dataframe\">\n",
       "  <thead>\n",
       "    <tr style=\"text-align: right;\">\n",
       "      <th></th>\n",
       "      <th>pf_identity</th>\n",
       "      <th>pf_score</th>\n",
       "      <th>hf_score</th>\n",
       "      <th>ef_score</th>\n",
       "      <th>region</th>\n",
       "    </tr>\n",
       "    <tr>\n",
       "      <th>countries</th>\n",
       "      <th></th>\n",
       "      <th></th>\n",
       "      <th></th>\n",
       "      <th></th>\n",
       "      <th></th>\n",
       "    </tr>\n",
       "  </thead>\n",
       "  <tbody>\n",
       "    <tr>\n",
       "      <th>Argentina</th>\n",
       "      <td>10.0</td>\n",
       "      <td>8.100</td>\n",
       "      <td>6.766</td>\n",
       "      <td>5.432</td>\n",
       "      <td>LatAm</td>\n",
       "    </tr>\n",
       "    <tr>\n",
       "      <th>Bahamas</th>\n",
       "      <td>10.0</td>\n",
       "      <td>7.941</td>\n",
       "      <td>7.656</td>\n",
       "      <td>7.372</td>\n",
       "      <td>LatAm</td>\n",
       "    </tr>\n",
       "    <tr>\n",
       "      <th>Barbados</th>\n",
       "      <td>5.0</td>\n",
       "      <td>8.021</td>\n",
       "      <td>7.283</td>\n",
       "      <td>6.544</td>\n",
       "      <td>LatAm</td>\n",
       "    </tr>\n",
       "    <tr>\n",
       "      <th>Belize</th>\n",
       "      <td>8.0</td>\n",
       "      <td>7.244</td>\n",
       "      <td>7.098</td>\n",
       "      <td>6.949</td>\n",
       "      <td>LatAm</td>\n",
       "    </tr>\n",
       "    <tr>\n",
       "      <th>Bolivia</th>\n",
       "      <td>10.0</td>\n",
       "      <td>7.360</td>\n",
       "      <td>6.780</td>\n",
       "      <td>6.199</td>\n",
       "      <td>LatAm</td>\n",
       "    </tr>\n",
       "  </tbody>\n",
       "</table>\n",
       "</div>"
      ],
      "text/plain": [
       "           pf_identity  pf_score  hf_score  ef_score region\n",
       "countries                                                  \n",
       "Argentina         10.0     8.100     6.766     5.432  LatAm\n",
       "Bahamas           10.0     7.941     7.656     7.372  LatAm\n",
       "Barbados           5.0     8.021     7.283     6.544  LatAm\n",
       "Belize             8.0     7.244     7.098     6.949  LatAm\n",
       "Bolivia           10.0     7.360     6.780     6.199  LatAm"
      ]
     },
     "execution_count": 148,
     "metadata": {},
     "output_type": "execute_result"
    }
   ],
   "source": [
    "LatAm.head()"
   ]
  },
  {
   "cell_type": "code",
   "execution_count": 173,
   "metadata": {},
   "outputs": [
    {
     "name": "stdout",
     "output_type": "stream",
     "text": [
      "Barbados\n",
      "Trinidad and Tobago\n",
      "Econtramos 2 outlier para pf_identity LatAm\n"
     ]
    }
   ],
   "source": [
    "quartiles = LatAm.pf_identity.quantile([0.25,0.5,0.75]).round(2)\n",
    "quartiles = quartiles.tolist()\n",
    "IQR = quartiles[2]-quartiles[0] #calculate the interquartile range\n",
    "count = 0\n",
    "for idx, row in LatAm.iterrows():\n",
    "    if row.pf_identity < quartiles[0]-1.5*IQR or row.pf_identity > quartiles[2]+1.5*IQR:\n",
    "        count += 1\n",
    "        print(row.name)\n",
    "print(\"Econtramos\",count,\"outlier para pf_identity LatAm\")"
   ]
  },
  {
   "cell_type": "code",
   "execution_count": 211,
   "metadata": {},
   "outputs": [],
   "source": [
    "def find_outliers(dataset):\n",
    "    big_outlier = 0\n",
    "    small_outlier = 0\n",
    "    big_outliers = []\n",
    "    small_outliers = []\n",
    "    quartiles = dataset.hf_score.quantile([0.25,0.5,0.75]).round(2)\n",
    "    quartiles = quartiles.tolist()\n",
    "    IQR = quartiles[2]-quartiles[0] #calculate the interquartile range\n",
    "    count = 0\n",
    "    for idx, row in dataset.iterrows():\n",
    "        if row.hf_score < quartiles[0]-1.5*IQR: \n",
    "            small_outlier += 1\n",
    "            small_outliers.append(row.name)\n",
    "        elif row.hf_score > quartiles[2]+1.5*IQR:\n",
    "            big_outlier += 1\n",
    "            big_outliers.append(row.name)\n",
    "            outliers.append(row.name)\n",
    "    text = \"Econtramos {} big outlier, {},y {} small outliers {} para pf_identity.\".format(big_outlier, big_outliers,small_outlier,small_outliers)\n",
    "    return text"
   ]
  },
  {
   "cell_type": "code",
   "execution_count": 212,
   "metadata": {},
   "outputs": [
    {
     "data": {
      "text/plain": [
       "\"Econtramos 1 big outlier, ['Chile'],y 1 small outliers ['Venezuela'] para pf_identity.\""
      ]
     },
     "execution_count": 212,
     "metadata": {},
     "output_type": "execute_result"
    }
   ],
   "source": [
    "find_outliers(LatAm)"
   ]
  },
  {
   "cell_type": "markdown",
   "metadata": {},
   "source": [
    "Usando este criteria encontramos más outliers en LatAm que en el mundo. "
   ]
  },
  {
   "cell_type": "markdown",
   "metadata": {},
   "source": [
    "En principio decidimos no sacar los outliers, porque opinamos que la data generado por Cato no debe tener tantos errores de medida como los errores que suele pasar con los datos sacado por una maquina. Si tiene errores son hecho de humanos. Y puede ser que los outliers reflejan algo de la realidad de los subjetos que estamos estudiando.  \n",
    "Mas adelante, en seccion 1.4 sacamos los outliers para poder hacer correlation. "
   ]
  },
  {
   "cell_type": "markdown",
   "metadata": {
    "colab_type": "text",
    "id": "kwzDqGtfFZCm"
   },
   "source": [
    "## 2. Agregación de datos  - Pablo & Karen\n",
    "\n",
    "1. Grafiquen la media de la variable *pf_identity* y *hf_score* a través de los años."
   ]
  },
  {
   "cell_type": "code",
   "execution_count": null,
   "metadata": {},
   "outputs": [],
   "source": []
  },
  {
   "cell_type": "markdown",
   "metadata": {},
   "source": [
    "2. Realicen los mismos gráficos, pero separando por regiones (Cada variable en un gráfico distinto, sino no se ve nada). ¿La tendencia observada, es la misma que si no dividimos por regiones?\n",
    "3. Si lo consideran necesario, grafiquen algunos países de Latinoamerica para tratar de explicar la tendencia de la variable *pf_identity* en la región. ¿Cómo seleccionarion los países relevantes a esa tendencia?\n",
    "\n",
    "Pista: hay gráficos de seaborn que permiten generar visualizaciones para cada valor de una variable categórica, en este caso, las distintas regiones.\n",
    "\n",
    "Sólo por curiosidad, graficar la tendencia de *hf_score* y *ef_score* a través de los años. ¿Tienen alguna hipótesis para este comportamiento?"
   ]
  },
  {
   "cell_type": "markdown",
   "metadata": {
    "colab_type": "text",
    "id": "z7cBpSPrFZCn"
   },
   "source": [
    "## 3. Distribuciones - Flor \n",
    "  1. Graficar en un mismo histograma la distribución de la variable *pf_identity* en global, y en Latinoamérica y el caribe. Repetir para la variable *hf_score*. ¿Visualmente, a qué tipo de distribución corresponde cada variable? ¿Es correcto utilizar todos el conjunto de valores disponibles para esa region en estos gráficos?\n"
   ]
  },
  {
   "cell_type": "markdown",
   "metadata": {
    "colab_type": "text",
    "id": "lEwQJIulFZCo"
   },
   "source": [
    "## 4. Correlaciones y Relaciones -  Gonzalo\n",
    "\n",
    "En este ejercicio queremos responder a las preguntas\n",
    "\n",
    "* Las libertades personales y económicas, ¿van siempre de la mano?\n",
    "* ¿Cómo se relacionan ambas con las libertades respectivas a las relaciones personales?\n",
    "\n",
    "Para ello, analizaremos las correlaciones entre las variables pf_identity, pf_score y ef_score. \n",
    "\n",
    "Como pf_indentity contribuye al cálculo de pf_score esperamos hallar algún grado de correlación. Lo contrario podría ocurrir con ef_score. \n",
    "\n",
    "1. ¿Qué conclusiones puede sacar de un gráfico pairplot de estas tres variables? ¿Es adecuado para los valores de pf_identity? ¿Por qué?\n",
    "2. Graficar la correlación (visual) entre pf_identity y pf_score; y entre pf_identity y ef_score. Analizar el resultado, ¿se pueden sacar conclusiones? Tengan en cuenta que como pf_identity es el resultado de un promedio, sólo toma algunos valores. Es, en la práctica, discreta, y eso afecta al tipo de gráfico que podemos usar.\n",
    "3. Convertir estas variables en categóricas, es decir, a partir de pf_indentity generar otra variable pf_identity_segment que tome los valores `high`, `medium` y `low`. Pueden hacerlo con una función escrita por ustedes, o usando alguna función de pandas como `pandas.cut` o `pandas.dcut`. Repetir para ef_score y pf_score. El criterio para decidir qué intervalos de valores corresponden a cada categoría tienen que decidirlo ustedes, pueden usar los estadísticos mediana y los cuartiles.\n",
    "4. Graficar la correlación (visual) entre estas tres variables categoricas usando gráficos de calor (heatmaps). Note: van a necesitar 3 gráficos distintos, porque en cada uno podemos incluir sólo 2 variables.\n",
    "\n"
   ]
  },
  {
   "cell_type": "markdown",
   "metadata": {
    "colab_type": "text",
    "id": "3uybvRrGSyA6"
   },
   "source": [
    "# Parte 2\n",
    "\n",
    "Luego del segundo fin de semana de clase, podemos revisitar nuestro trabajo anterior y completarlo respondiendo a las siguientes preguntas:"
   ]
  },
  {
   "cell_type": "markdown",
   "metadata": {
    "colab_type": "text",
    "id": "OF4LTznCS6SD"
   },
   "source": [
    "## 3. Distribuciones\n",
    "\n",
    "2. Realizar una prueba de Kolmogorov-Smirnof para comprobar analíticamente si estas variables responden la distribución propuesta en el ejercicio anterior. Hint: podés usar https://docs.scipy.org/doc/scipy-0.14.0/reference/generated/scipy.stats.kstest.html, pero hay que tener en cuenta que si la distribución es \"norm\", entonces va a comparar los datos con una distribución normal con media 0 y desviación estándar 1. Se puede utilizar la distribución sobre todos los datos o sólo sobre Latinoamérica."
   ]
  },
  {
   "cell_type": "code",
   "execution_count": 93,
   "metadata": {},
   "outputs": [],
   "source": [
    "from scipy import stats"
   ]
  },
  {
   "cell_type": "code",
   "execution_count": 94,
   "metadata": {},
   "outputs": [
    {
     "name": "stderr",
     "output_type": "stream",
     "text": [
      "/Users/brandonjanes/miniconda2/envs/kunan_ai/lib/python3.7/site-packages/scipy/stats/_distn_infrastructure.py:903: RuntimeWarning: invalid value encountered in greater\n",
      "  return (a < x) & (x < b)\n",
      "/Users/brandonjanes/miniconda2/envs/kunan_ai/lib/python3.7/site-packages/scipy/stats/_distn_infrastructure.py:903: RuntimeWarning: invalid value encountered in less\n",
      "  return (a < x) & (x < b)\n",
      "/Users/brandonjanes/miniconda2/envs/kunan_ai/lib/python3.7/site-packages/scipy/stats/_distn_infrastructure.py:1827: RuntimeWarning: invalid value encountered in greater_equal\n",
      "  cond2 = (x >= np.asarray(_b)) & cond0\n"
     ]
    },
    {
     "data": {
      "text/plain": [
       "KstestResult(statistic=nan, pvalue=nan)"
      ]
     },
     "execution_count": 94,
     "metadata": {},
     "output_type": "execute_result"
    }
   ],
   "source": [
    "stats.kstest(LatAm.hf_score, 'norm')"
   ]
  },
  {
   "cell_type": "markdown",
   "metadata": {
    "colab_type": "text",
    "id": "WWmCi_wRTYAB"
   },
   "source": [
    "## 4. Correlaciones\n",
    "\n",
    "3. Calcular algún coeficiente de correlación adecuado entre los dos pares de variables, dependiendo de la cantidad de datos, el tipo de datos y la distribución de los mismo. Algunas opciones son: coeficiente de pearson, coeficiente de spearman, coeficientes de tau y de kendall. Interpretar los resultados y justificar si las variables están correlacionadas o no. \n",
    "4. [Opcional] Analizar la correlación entre la region y el pf_score (y/o el ef_score); y entre la region y el pf_identity. Considerar que como la variable *region* es ordinal, debe utilizarse algún tipo de test. Explicar cuáles son los requisitos necesarios para la aplicación de ese test. (Si no se cumplieran, se pueden agregar algunos datos para generar más registros). Genere nuevas variables categóricas ordinales para calcular la correlación Tau de Kendal y genere una tabla de contingencia con esas nuevas variables."
   ]
  },
  {
   "cell_type": "markdown",
   "metadata": {
    "colab_type": "text",
    "id": "WqoHOee9UC7n"
   },
   "source": [
    "Además de completar estos puntos faltantes, luego de haber visitado los conceptos de percepción visual y comunicación efectiva, están en condiciones de reveer los gráficos realizados y evaluar si pueden ser mejorados. Para ello, puede hacerse las siguientes preguntas:\n",
    "\n",
    "* ¿Están utilizando el tipo de gráfico adecuado para cada tipo de variable?\n",
    "* Los gráficos, ¿son legibles?\n",
    "* Los gráficos generados, ¿responden a las preguntas mostrando un patrón claro? En caso de que no, ¿podemos filtrar los datos para que el patrón sea más evidente? ¿o agruparlos de manera distinta? ¿o cambiar el tipo de gráfico?"
   ]
  },
  {
   "cell_type": "code",
   "execution_count": null,
   "metadata": {
    "colab": {},
    "colab_type": "code",
    "id": "D6KDiX_FFZCp"
   },
   "outputs": [],
   "source": []
  }
 ],
 "metadata": {
  "colab": {
   "name": "practico1.ipynb",
   "provenance": []
  },
  "kernelspec": {
   "display_name": "Python 3",
   "language": "python",
   "name": "python3"
  },
  "language_info": {
   "codemirror_mode": {
    "name": "ipython",
    "version": 3
   },
   "file_extension": ".py",
   "mimetype": "text/x-python",
   "name": "python",
   "nbconvert_exporter": "python",
   "pygments_lexer": "ipython3",
   "version": "3.7.6"
  }
 },
 "nbformat": 4,
 "nbformat_minor": 4
}
